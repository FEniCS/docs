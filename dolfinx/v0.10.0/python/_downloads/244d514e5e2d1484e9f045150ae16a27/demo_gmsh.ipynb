{
 "cells": [
  {
   "cell_type": "markdown",
   "id": "003fd76d",
   "metadata": {},
   "source": [
    "# Mesh generation with Gmsh\n",
    "\n",
    "Copyright (C) 2020-2023 Garth N. Wells and Jørgen S. Dokken\n",
    "\n",
    "```{admonition} Download sources\n",
    ":class: download\n",
    "* {download}`Python script <./demo_gmsh.py>`\n",
    "* {download}`Jupyter notebook <./demo_gmsh.ipynb>`\n",
    "```"
   ]
  },
  {
   "cell_type": "markdown",
   "id": "890e386d",
   "metadata": {},
   "source": [
    "This demo shows how to create meshes using the Gmsh Python interface.\n",
    "\n",
    "The Gmsh module is required for this demo."
   ]
  },
  {
   "cell_type": "code",
   "execution_count": null,
   "id": "bf11e242",
   "metadata": {},
   "outputs": [],
   "source": [
    "from mpi4py import MPI\n",
    "\n",
    "import gmsh  # type: ignore\n",
    "\n",
    "from dolfinx.io import XDMFFile\n",
    "from dolfinx.io import gmsh as gmshio\n"
   ]
  },
  {
   "cell_type": "markdown",
   "id": "4bf34781",
   "metadata": {
    "lines_to_next_cell": 2
   },
   "source": [
    "##  Gmsh model builders\n",
    "\n",
    "The following functions add Gmsh meshes to a 'model'."
   ]
  },
  {
   "cell_type": "code",
   "execution_count": null,
   "id": "065a2de2",
   "metadata": {
    "lines_to_end_of_cell_marker": 2
   },
   "outputs": [],
   "source": [
    "def gmsh_sphere(model: gmsh.model, name: str) -> gmsh.model:\n",
    "    \"\"\"Create a Gmsh model of a sphere and tag sub entitites\n",
    "    from all co-dimensions (peaks, ridges, facets and cells).\n",
    "\n",
    "    Args:\n",
    "        model: Gmsh model to add the mesh to.\n",
    "        name: Name (identifier) of the mesh to add.\n",
    "\n",
    "    Returns:\n",
    "        Gmsh model with a sphere mesh added.\n",
    "\n",
    "    \"\"\"\n",
    "    model.add(name)\n",
    "    model.setCurrent(name)\n",
    "    sphere = model.occ.addSphere(0, 0, 0, 1, tag=1)\n",
    "\n",
    "    # Synchronize OpenCascade representation with gmsh model\n",
    "    model.occ.synchronize()\n",
    "\n",
    "    # Add physical tag for sphere\n",
    "    model.add_physical_group(dim=3, tags=[sphere], tag=1)\n",
    "\n",
    "    # Embed all sub-entities from the GMSH model into the sphere and tag\n",
    "    # them\n",
    "    for dim in [0, 1, 2]:\n",
    "        entities = model.getEntities(dim)\n",
    "        entity_ids = [entity[1] for entity in entities]\n",
    "        model.mesh.embed(dim, entity_ids, 3, sphere)\n",
    "        model.add_physical_group(dim=dim, tags=entity_ids, tag=dim)\n",
    "\n",
    "    # Generate the mesh\n",
    "    model.mesh.generate(dim=3)\n",
    "    return model\n",
    "\n",
    "\n",
    "def gmsh_sphere_minus_box(model: gmsh.model, name: str) -> gmsh.model:\n",
    "    \"\"\"Create a Gmsh model of a sphere with a box from the sphere removed.\n",
    "\n",
    "    Args:\n",
    "        model: Gmsh model to add the mesh to.\n",
    "        name: Name (identifier) of the mesh to add.\n",
    "\n",
    "    Returns:\n",
    "        Gmsh model with a sphere mesh added.\n",
    "    \"\"\"\n",
    "    model.add(name)\n",
    "    model.setCurrent(name)\n",
    "\n",
    "    sphere_dim_tags = model.occ.addSphere(0, 0, 0, 1)\n",
    "    box_dim_tags = model.occ.addBox(0, 0, 0, 1, 1, 1)\n",
    "    model_dim_tags = model.occ.cut([(3, sphere_dim_tags)], [(3, box_dim_tags)])\n",
    "    model.occ.synchronize()\n",
    "\n",
    "    # Add physical tag 1 for exterior surfaces\n",
    "    boundary = model.getBoundary(model_dim_tags[0], oriented=False)\n",
    "    boundary_ids = [b[1] for b in boundary]\n",
    "    model.addPhysicalGroup(2, boundary_ids, tag=1)\n",
    "    model.setPhysicalName(2, 1, \"Sphere surface\")\n",
    "\n",
    "    # Add physical tag 2 for the volume\n",
    "    volume_entities = [model[1] for model in model.getEntities(3)]\n",
    "    model.addPhysicalGroup(3, volume_entities, tag=2)\n",
    "    model.setPhysicalName(3, 2, \"Sphere volume\")\n",
    "\n",
    "    model.mesh.generate(dim=3)\n",
    "    return model\n",
    "\n",
    "\n",
    "def gmsh_ring(model: gmsh.model, name: str) -> gmsh.model:\n",
    "    \"\"\"Create a Gmsh model of a ring-type geometry using hexahedral cells.\n",
    "\n",
    "    Args:\n",
    "        model: Gmsh model to add the mesh to.\n",
    "        name: Name (identifier) of the mesh to add.\n",
    "\n",
    "    Returns:\n",
    "        Gmsh model with a sphere mesh added.\n",
    "    \"\"\"\n",
    "    model.add(name)\n",
    "    model.setCurrent(name)\n",
    "\n",
    "    # Recombine tetrahedra to hexahedra\n",
    "    gmsh.option.setNumber(\"Mesh.RecombinationAlgorithm\", 2)\n",
    "    gmsh.option.setNumber(\"Mesh.RecombineAll\", 2)\n",
    "    gmsh.option.setNumber(\"Mesh.CharacteristicLengthFactor\", 1)\n",
    "\n",
    "    circle = model.occ.addDisk(0, 0, 0, 1, 1)\n",
    "    circle_inner = model.occ.addDisk(0, 0, 0, 0.5, 0.5)\n",
    "    cut = model.occ.cut([(2, circle)], [(2, circle_inner)])[0]\n",
    "    extruded_geometry = model.occ.extrude(cut, 0, 0, 0.5, numElements=[5], recombine=True)\n",
    "    model.occ.synchronize()\n",
    "\n",
    "    model.addPhysicalGroup(2, [cut[0][1]], tag=1)\n",
    "    model.setPhysicalName(2, 1, \"2D cylinder\")\n",
    "    boundary_entities = model.getEntities(2)\n",
    "    other_boundary_entities = []\n",
    "    for entity in boundary_entities:\n",
    "        if entity != cut[0][1]:\n",
    "            other_boundary_entities.append(entity[1])\n",
    "    model.addPhysicalGroup(2, other_boundary_entities, tag=3)\n",
    "    model.setPhysicalName(2, 3, \"Remaining boundaries\")\n",
    "\n",
    "    model.mesh.generate(3)\n",
    "    model.mesh.setOrder(2)\n",
    "    volume_entities = []\n",
    "    for entity in extruded_geometry:\n",
    "        if entity[0] == 3:\n",
    "            volume_entities.append(entity[1])\n",
    "    model.addPhysicalGroup(3, volume_entities, tag=1)\n",
    "    model.setPhysicalName(3, 1, \"Mesh volume\")\n",
    "    return model"
   ]
  },
  {
   "cell_type": "markdown",
   "id": "36e475b9",
   "metadata": {},
   "source": [
    "## DOLFINx mesh creation and file output\n",
    "\n",
    "The following function creates a DOLFINx mesh from a Gmsh model, and\n",
    "cell and facets tags. The mesh and the tags are written to an XDMF file\n",
    "for visualisation, e.g. using ParaView."
   ]
  },
  {
   "cell_type": "code",
   "execution_count": null,
   "id": "5af422ce",
   "metadata": {
    "lines_to_end_of_cell_marker": 2
   },
   "outputs": [],
   "source": [
    "\n",
    "\n",
    "def create_mesh(comm: MPI.Comm, model: gmsh.model, name: str, filename: str, mode: str):\n",
    "    \"\"\"Create a DOLFINx from a Gmsh model and output to file.\n",
    "\n",
    "    Args:\n",
    "        comm: MPI communicator top create the mesh on.\n",
    "        model: Gmsh model.\n",
    "        name: Name (identifier) of the mesh to add.\n",
    "        filename: XDMF filename.\n",
    "        mode: XDMF file mode. \"w\" (write) or \"a\" (append).\n",
    "    \"\"\"\n",
    "    mesh_data = gmshio.model_to_mesh(model, comm, rank=0)\n",
    "    mesh_data.mesh.name = name\n",
    "    if mesh_data.cell_tags is not None:\n",
    "        mesh_data.cell_tags.name = f\"{name}_cells\"\n",
    "    if mesh_data.facet_tags is not None:\n",
    "        mesh_data.facet_tags.name = f\"{name}_facets\"\n",
    "    if mesh_data.ridge_tags is not None:\n",
    "        mesh_data.ridge_tags.name = f\"{name}_ridges\"\n",
    "    if mesh_data.peak_tags is not None:\n",
    "        mesh_data.peak_tags.name = f\"{name}_peaks\"\n",
    "    with XDMFFile(mesh_data.mesh.comm, filename, mode) as file:\n",
    "        mesh_data.mesh.topology.create_connectivity(2, 3)\n",
    "        mesh_data.mesh.topology.create_connectivity(1, 3)\n",
    "        mesh_data.mesh.topology.create_connectivity(0, 3)\n",
    "        file.write_mesh(mesh_data.mesh)\n",
    "        if mesh_data.cell_tags is not None:\n",
    "            file.write_meshtags(\n",
    "                mesh_data.cell_tags,\n",
    "                mesh_data.mesh.geometry,\n",
    "                geometry_xpath=f\"/Xdmf/Domain/Grid[@Name='{name}']/Geometry\",\n",
    "            )\n",
    "        if mesh_data.facet_tags is not None:\n",
    "            file.write_meshtags(\n",
    "                mesh_data.facet_tags,\n",
    "                mesh_data.mesh.geometry,\n",
    "                geometry_xpath=f\"/Xdmf/Domain/Grid[@Name='{name}']/Geometry\",\n",
    "            )\n",
    "        if mesh_data.ridge_tags is not None:\n",
    "            file.write_meshtags(\n",
    "                mesh_data.ridge_tags,\n",
    "                mesh_data.mesh.geometry,\n",
    "                geometry_xpath=f\"/Xdmf/Domain/Grid[@Name='{name}']/Geometry\",\n",
    "            )\n",
    "        if mesh_data.peak_tags is not None:\n",
    "            file.write_meshtags(\n",
    "                mesh_data.peak_tags,\n",
    "                mesh_data.mesh.geometry,\n",
    "                geometry_xpath=f\"/Xdmf/Domain/Grid[@Name='{name}']/Geometry\",\n",
    "            )"
   ]
  },
  {
   "cell_type": "markdown",
   "id": "a33cbd4c",
   "metadata": {},
   "source": [
    "## Generate meshes"
   ]
  },
  {
   "cell_type": "markdown",
   "id": "f49583e7",
   "metadata": {
    "lines_to_next_cell": 2
   },
   "source": [
    "Create a Gmsh model and set the verbosity level."
   ]
  },
  {
   "cell_type": "code",
   "execution_count": null,
   "id": "22000325",
   "metadata": {},
   "outputs": [],
   "source": [
    "gmsh.initialize()\n",
    "gmsh.option.setNumber(\"General.Terminal\", 0)\n",
    "\n",
    "# Create model\n",
    "model = gmsh.model()"
   ]
  },
  {
   "cell_type": "markdown",
   "id": "9606bce9",
   "metadata": {},
   "source": [
    "First, we create a Gmsh model of a sphere using tetrahedral cells\n",
    "(linear geometry), then create independent meshes on each MPI rank and\n",
    "write each mesh to an XDMF file. The MPI rank is appended to the\n",
    "filename since the meshes are not distributed."
   ]
  },
  {
   "cell_type": "code",
   "execution_count": null,
   "id": "90bf0fa0",
   "metadata": {},
   "outputs": [],
   "source": [
    "model = gmsh_sphere(model, \"Sphere\")\n",
    "model.setCurrent(\"Sphere\")\n",
    "create_mesh(MPI.COMM_SELF, model, \"sphere\", f\"out_gmsh/mesh_rank_{MPI.COMM_WORLD.rank}.xdmf\", \"w\")"
   ]
  },
  {
   "cell_type": "markdown",
   "id": "45c45ebf",
   "metadata": {},
   "source": [
    "Next, we create a Gmsh model of a sphere with a box removed and using\n",
    "tetrahedral cells (linear geometry), then create a distributed mesh.\n",
    "The distributed mesh is written to file. The write option ``\"w\"`` is\n",
    "passed to create a new XDMF file."
   ]
  },
  {
   "cell_type": "code",
   "execution_count": null,
   "id": "e89b6ec4",
   "metadata": {},
   "outputs": [],
   "source": [
    "model = gmsh_sphere_minus_box(model, \"Sphere minus box\")\n",
    "model.setCurrent(\"Sphere minus box\")\n",
    "create_mesh(MPI.COMM_WORLD, model, \"ball_d1\", \"out_gmsh/mesh.xdmf\", \"w\")"
   ]
  },
  {
   "cell_type": "markdown",
   "id": "6c9da6c5",
   "metadata": {},
   "source": [
    "For the mesh of the sphere with a box remove, we can increase the\n",
    "degree of the geometry representation to 2 (quadratic geometry\n",
    "representation). The higher-order distributed mesh is appended to the\n",
    "XDMF file."
   ]
  },
  {
   "cell_type": "code",
   "execution_count": null,
   "id": "4b23710a",
   "metadata": {},
   "outputs": [],
   "source": [
    "model.mesh.generate(3)\n",
    "gmsh.option.setNumber(\"General.Terminal\", 1)\n",
    "model.mesh.setOrder(2)\n",
    "gmsh.option.setNumber(\"General.Terminal\", 0)\n",
    "create_mesh(MPI.COMM_WORLD, model, \"ball_d2\", \"out_gmsh/mesh.xdmf\", \"a\")"
   ]
  },
  {
   "cell_type": "markdown",
   "id": "f70c5ce0",
   "metadata": {},
   "source": [
    "Finally, we create a distributed mesh using hexahedral cells of\n",
    "geometric degree 2, and append the mesh to the XDMF file."
   ]
  },
  {
   "cell_type": "code",
   "execution_count": null,
   "id": "950e4993",
   "metadata": {},
   "outputs": [],
   "source": [
    "model = gmsh_ring(model, \"Hexahedral mesh\")\n",
    "model.setCurrent(\"Hexahedral mesh\")\n",
    "create_mesh(MPI.COMM_WORLD, model, \"hex_d2\", \"out_gmsh/mesh.xdmf\", \"a\")"
   ]
  },
  {
   "cell_type": "markdown",
   "id": "43b8a9d5",
   "metadata": {},
   "source": [
    "The generated meshes can be visualised using\n",
    "[ParaView](https://www.paraview.org/)."
   ]
  }
 ],
 "metadata": {
  "jupytext": {
   "main_language": "python"
  }
 },
 "nbformat": 4,
 "nbformat_minor": 5
}

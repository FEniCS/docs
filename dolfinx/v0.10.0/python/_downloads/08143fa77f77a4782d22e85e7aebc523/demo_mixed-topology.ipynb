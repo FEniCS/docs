{
 "cells": [
  {
   "cell_type": "markdown",
   "id": "60a4d60e",
   "metadata": {},
   "source": [
    "# Poisson equation\n",
    "\n",
    "```{admonition} Download sources\n",
    ":class: download\n",
    "* {download}`Python script <./demo_mixed-topology.py>`\n",
    "* {download}`Jupyter notebook <./demo_mixed-topology.ipynb>`\n",
    "```\n",
    "This demo illustrates how to:\n",
    "- Solve a simple Helmholtz problem on a mixed-topology mesh.\n",
    "- Create a mesh from numpy arrays using {py:func}`\n",
    "dolfinx.mesh.create_mesh`\n",
    "\n",
    "```{admonition} In development\n",
    "Mixed-topology meshes are a work in progress and are not yet fully\n",
    "supported in DOLFINx.\n",
    "```"
   ]
  },
  {
   "cell_type": "code",
   "execution_count": null,
   "id": "3110d43f",
   "metadata": {},
   "outputs": [],
   "source": [
    "from mpi4py import MPI\n",
    "\n",
    "import numpy as np\n",
    "from scipy.sparse.linalg import spsolve\n",
    "\n",
    "import basix\n",
    "import dolfinx.cpp as _cpp\n",
    "import ufl\n",
    "from dolfinx.cpp.mesh import GhostMode, create_cell_partitioner, create_mesh\n",
    "from dolfinx.fem import (\n",
    "    FiniteElement,\n",
    "    FunctionSpace,\n",
    "    assemble_matrix,\n",
    "    assemble_vector,\n",
    "    coordinate_element,\n",
    "    create_dofmaps,\n",
    "    mixed_topology_form,\n",
    ")\n",
    "from dolfinx.io.utils import cell_perm_vtk\n",
    "from dolfinx.mesh import CellType, Mesh, Topology\n"
   ]
  },
  {
   "cell_type": "code",
   "execution_count": null,
   "id": "298fd551",
   "metadata": {
    "lines_to_next_cell": 2
   },
   "outputs": [],
   "source": [
    "if MPI.COMM_WORLD.size > 1:\n",
    "    print(\"Not yet running in parallel\")\n",
    "    exit(0)"
   ]
  },
  {
   "cell_type": "markdown",
   "id": "1f8a8c98",
   "metadata": {},
   "source": [
    "## Create a mixed-topology mesh"
   ]
  },
  {
   "cell_type": "code",
   "execution_count": null,
   "id": "ca60d87a",
   "metadata": {},
   "outputs": [],
   "source": [
    "nx = 16\n",
    "ny = 16\n",
    "nz = 16\n",
    "n_cells = nx * ny * nz\n",
    "\n",
    "cells: list = [[], []]\n",
    "orig_idx: list = [[], []]\n",
    "geom = []\n",
    "\n",
    "if MPI.COMM_WORLD.rank == 0:\n",
    "    idx = 0\n",
    "    for i in range(n_cells):\n",
    "        iz = i // (nx * ny)\n",
    "        j = i % (nx * ny)\n",
    "        iy = j // nx\n",
    "        ix = j % nx\n",
    "\n",
    "        v0 = (iz * (ny + 1) + iy) * (nx + 1) + ix\n",
    "        v1 = v0 + 1\n",
    "        v2 = v0 + (nx + 1)\n",
    "        v3 = v1 + (nx + 1)\n",
    "        v4 = v0 + (nx + 1) * (ny + 1)\n",
    "        v5 = v1 + (nx + 1) * (ny + 1)\n",
    "        v6 = v2 + (nx + 1) * (ny + 1)\n",
    "        v7 = v3 + (nx + 1) * (ny + 1)\n",
    "        if ix < nx / 2:\n",
    "            cells[0] += [v0, v1, v2, v3, v4, v5, v6, v7]\n",
    "            orig_idx[0] += [idx]\n",
    "            idx += 1\n",
    "        else:\n",
    "            cells[1] += [v0, v1, v2, v4, v5, v6]\n",
    "            orig_idx[1] += [idx]\n",
    "            idx += 1\n",
    "            cells[1] += [v1, v2, v3, v5, v6, v7]\n",
    "            orig_idx[1] += [idx]\n",
    "            idx += 1\n",
    "\n",
    "    n_points = (nx + 1) * (ny + 1) * (nz + 1)\n",
    "    sqxy = (nx + 1) * (ny + 1)\n",
    "    for v in range(n_points):\n",
    "        iz = v // sqxy\n",
    "        p = v % sqxy\n",
    "        iy = p // (nx + 1)\n",
    "        ix = p % (nx + 1)\n",
    "        geom += [[ix / nx, iy / ny, iz / nz]]\n",
    "\n",
    "cells_np = [np.array(c) for c in cells]\n",
    "geomx = np.array(geom, dtype=np.float64)\n",
    "hexahedron = coordinate_element(CellType.hexahedron, 1)\n",
    "prism = coordinate_element(CellType.prism, 1)\n",
    "\n",
    "part = create_cell_partitioner(GhostMode.none)\n",
    "mesh = create_mesh(\n",
    "    MPI.COMM_WORLD, cells_np, [hexahedron._cpp_object, prism._cpp_object], geomx, part, 2\n",
    ")"
   ]
  },
  {
   "cell_type": "markdown",
   "id": "cf634e57",
   "metadata": {},
   "source": [
    "## Create a mixed-topology dofmap and function space\n",
    "Create elements and dofmaps for each cell type"
   ]
  },
  {
   "cell_type": "code",
   "execution_count": null,
   "id": "c08b2881",
   "metadata": {},
   "outputs": [],
   "source": [
    "elements = [\n",
    "    basix.create_element(basix.ElementFamily.P, basix.CellType.hexahedron, 1),\n",
    "    basix.create_element(basix.ElementFamily.P, basix.CellType.prism, 1),\n",
    "]\n",
    "dolfinx_elements = [\n",
    "    FiniteElement(_cpp.fem.FiniteElement_float64(e._e, None, True)) for e in elements\n",
    "]\n",
    "# NOTE: Both dofmaps have the same IndexMap, but different cell_dofs\n",
    "dofmaps = create_dofmaps(\n",
    "    mesh.comm,\n",
    "    Topology(mesh.topology),\n",
    "    dolfinx_elements,\n",
    ")\n",
    "\n",
    "# Create C++ function space\n",
    "V_cpp = _cpp.fem.FunctionSpace_float64(\n",
    "    mesh, [e._cpp_object for e in dolfinx_elements], [dofmap._cpp_object for dofmap in dofmaps]\n",
    ")"
   ]
  },
  {
   "cell_type": "markdown",
   "id": "663af38c",
   "metadata": {},
   "source": [
    "## Creating and compiling a variational formulation\n",
    "We create the variational forms for each cell type.\n",
    "FIXME: This hack is required at the moment because UFL does not yet know\n",
    "about mixed topology meshes."
   ]
  },
  {
   "cell_type": "code",
   "execution_count": null,
   "id": "dbdbacb4",
   "metadata": {},
   "outputs": [],
   "source": [
    "a = []\n",
    "L = []\n",
    "for i, cell_name in enumerate([\"hexahedron\", \"prism\"]):\n",
    "    print(f\"Creating form for {cell_name}\")\n",
    "    element = basix.ufl.wrap_element(elements[i])\n",
    "    domain = ufl.Mesh(basix.ufl.element(\"Lagrange\", cell_name, 1, shape=(3,)))\n",
    "    V = FunctionSpace(Mesh(mesh, domain), element, V_cpp)\n",
    "    u, v = ufl.TrialFunction(V), ufl.TestFunction(V)\n",
    "    k = 12.0\n",
    "    x = ufl.SpatialCoordinate(domain)\n",
    "    a += [(ufl.inner(ufl.grad(u), ufl.grad(v)) - k**2 * u * v) * ufl.dx]\n",
    "    f = ufl.sin(ufl.pi * x[0]) * ufl.sin(ufl.pi * x[1])\n",
    "    L += [f * v * ufl.dx]"
   ]
  },
  {
   "cell_type": "markdown",
   "id": "7dee322c",
   "metadata": {},
   "source": [
    "Compile the form\n",
    "FIXME: For the time being, since UFL doesn't understand mixed topology\n",
    "meshes, we have to call {py:meth}`mixed_topology_form\n",
    "<dolfinx.fem.mixed_topology_form>` instead of form."
   ]
  },
  {
   "cell_type": "code",
   "execution_count": null,
   "id": "b0cd8836",
   "metadata": {},
   "outputs": [],
   "source": [
    "a_form = mixed_topology_form(a, dtype=np.float64)\n",
    "L_form = mixed_topology_form(L, dtype=np.float64)"
   ]
  },
  {
   "cell_type": "markdown",
   "id": "6d0b8bda",
   "metadata": {},
   "source": [
    "## Assembling and solving the linear system\n",
    "We use the native {py:class}`matrix<dolfinx.la.MatrixCSR>` and\n",
    "{py:class}`vector<dolfinx.la.Vector>` format in DOLFINx to assemble\n",
    "the left and right hand side of the linear system."
   ]
  },
  {
   "cell_type": "code",
   "execution_count": null,
   "id": "78aa36be",
   "metadata": {},
   "outputs": [],
   "source": [
    "A = assemble_matrix(a_form)\n",
    "b = assemble_vector(L_form)"
   ]
  },
  {
   "cell_type": "markdown",
   "id": "a99b04fa",
   "metadata": {},
   "source": [
    "We use {py:func}`scipy.sparse.linalg.spsolve` to solve the\n",
    "resulting linear system"
   ]
  },
  {
   "cell_type": "code",
   "execution_count": null,
   "id": "d06543b0",
   "metadata": {},
   "outputs": [],
   "source": [
    "A_scipy = A.to_scipy()\n",
    "b_scipy = b.array\n",
    "x = spsolve(A_scipy, b_scipy)"
   ]
  },
  {
   "cell_type": "code",
   "execution_count": null,
   "id": "b6a6d6f9",
   "metadata": {},
   "outputs": [],
   "source": [
    "print(f\"Solution vector norm {np.linalg.norm(x)}\")"
   ]
  },
  {
   "cell_type": "markdown",
   "id": "f622f192",
   "metadata": {},
   "source": [
    "Mixed-topology I/O\n",
    "We manually build a ASCII XDMF file to store the mesh\n",
    "and solution\n",
    "NOTE: this should be replaced with VTKHDF"
   ]
  },
  {
   "cell_type": "code",
   "execution_count": null,
   "id": "cfd091bc",
   "metadata": {},
   "outputs": [],
   "source": [
    "xdmf = \"\"\"<?xml version=\"1.0\"?>\n",
    "<!DOCTYPE Xdmf SYSTEM \"Xdmf.dtd\" []>\n",
    "<Xdmf Version=\"3.0\" xmlns:xi=\"https://www.w3.org/2001/XInclude\">\n",
    "  <Domain>\n",
    "    <Grid Name=\"mesh\" GridType=\"Collection\" CollectionType=\"spatial\">\n",
    "\n",
    "\"\"\"\n",
    "\n",
    "perm = [cell_perm_vtk(CellType.hexahedron, 8), cell_perm_vtk(CellType.prism, 6)]\n",
    "topologies = [\"Hexahedron\", \"Wedge\"]\n",
    "\n",
    "for j in range(2):\n",
    "    vtk_topology = []\n",
    "    geom_dm = mesh.geometry.dofmaps(j)\n",
    "    for c in geom_dm:\n",
    "        vtk_topology += list(c[perm[j]])\n",
    "    topology_type = topologies[j]\n",
    "\n",
    "    xdmf += f\"\"\"\n",
    "      <Grid Name=\"{topology_type}\" GridType=\"Uniform\">\n",
    "        <Topology TopologyType=\"{topology_type}\">\n",
    "          <DataItem Dimensions=\"{geom_dm.shape[0]} {geom_dm.shape[1]}\"\n",
    "           Precision=\"4\" NumberType=\"Int\" Format=\"XML\">\n",
    "          {\" \".join(str(val) for val in vtk_topology)}\n",
    "          </DataItem>\n",
    "        </Topology>\n",
    "        <Geometry GeometryType=\"XYZ\" NumberType=\"float\" Rank=\"2\" Precision=\"8\">\n",
    "          <DataItem Dimensions=\"{mesh.geometry.x.shape[0]} 3\" Format=\"XML\">\n",
    "            {\" \".join(str(val) for val in mesh.geometry.x.flatten())}\n",
    "          </DataItem>\n",
    "        </Geometry>\n",
    "        <Attribute Name=\"u\" Center=\"Node\" NumberType=\"float\" Precision=\"8\">\n",
    "          <DataItem Dimensions=\"{len(x)}\" Format=\"XML\">\n",
    "            {\" \".join(str(val) for val in x)}\n",
    "          </DataItem>\n",
    "       </Attribute>\n",
    "      </Grid>\"\"\"\n",
    "\n",
    "xdmf += \"\"\"\n",
    "    </Grid>\n",
    "  </Domain>\n",
    "</Xdmf>\n",
    "\"\"\"\n",
    "\n",
    "fd = open(\"mixed-mesh.xdmf\", \"w\")\n",
    "fd.write(xdmf)\n",
    "fd.close()"
   ]
  }
 ],
 "metadata": {
  "jupytext": {
   "main_language": "python"
  }
 },
 "nbformat": 4,
 "nbformat_minor": 5
}

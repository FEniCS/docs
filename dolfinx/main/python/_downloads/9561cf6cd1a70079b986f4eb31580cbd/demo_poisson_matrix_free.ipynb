{
 "cells": [
  {
   "cell_type": "markdown",
   "id": "ce3dafb7",
   "metadata": {},
   "source": [
    "# Matrix-free conjugate gradient solver for the Poisson equation\n",
    "\n",
    "This demo illustrates how to solve the Poisson equation using a\n",
    "matrix-free conjugate gradient (CG) solver. In particular, it\n",
    "illustrates how to\n",
    "\n",
    "- Solve a linear partial differential equation using a matrix-free\n",
    "conjugate gradient (CG) solver\n",
    "- Create and apply Dirichlet boundary conditions\n",
    "- Compute approximation error as compared with a known exact\n",
    "solution,\n",
    "\n",
    "{download}`Python script <./demo_poisson_matrix_free.py>`\\\n",
    "{download}`Jupyter notebook <./demo_poisson_matrix_free.ipynb>`\n",
    "\n",
    "```{note}\n",
    "This demo illustrates the use of a matrix-free conjugate gradient\n",
    "solver. Many practical problems will also require a preconditioner\n",
    "to create an efficient solver. This is not covered here.\n",
    "```\n",
    "\n",
    "## Problem definition\n",
    "\n",
    "For a domain $\\Omega \\subset \\mathbb{R}^n$ with boundary $\\partial\n",
    "\\Omega$, the Poisson equation with Dirichlet boundary conditions reads:\n",
    "\n",
    "$$\n",
    "\\begin{align}\n",
    "- \\nabla^{2} u &= f \\quad {\\rm in} \\ \\Omega, \\\\\n",
    "      u &= u_{\\rm D} \\; {\\rm on} \\ \\partial\\Omega.\n",
    "\\end{align}\n",
    "$$\n",
    "\n",
    "The variational problem reads: Given a suitable function space satisfying\n",
    "the essential boundary condition ($u = u_{\\rm D} \\\n",
    "{\\rm on} \\ \\partial\\Omega$), $V$, and its homogenised counterpart, $V_0$,\n",
    "find $u \\in V$ such that\n",
    "\n",
    "$$\n",
    "a(u, v) = L(v) \\quad \\forall \\ v \\in V_0,\n",
    "$$\n",
    "\n",
    "where the bilinear and linear formulations are\n",
    "\n",
    "$$\n",
    "\\begin{align}\n",
    "a(u, v) &:= \\int_{\\Omega} \\nabla u \\cdot \\nabla v \\, {\\rm d} x, \\\\\n",
    "L(v)    &:= \\int_{\\Omega} f v \\, {\\rm d} x,\n",
    "\\end{align}\n",
    "$$\n",
    "\n",
    "respectively. In this demo we select:\n",
    "\n",
    "- $\\Omega = [0,1] \\times [0,1]$ (a square)\n",
    "- $u_{\\rm D} = 1 + x^2 + 2y^2$\n",
    "- $f = -6$\n",
    "\n",
    "The function $u_{\\rm D}$ is futher the exact solution of the posed problem.\n",
    "\n",
    "## Implementation\n",
    "\n",
    "The modules that will be used are imported:"
   ]
  },
  {
   "cell_type": "code",
   "execution_count": null,
   "id": "0ac58c2a",
   "metadata": {},
   "outputs": [],
   "source": [
    "from mpi4py import MPI"
   ]
  },
  {
   "cell_type": "code",
   "execution_count": null,
   "id": "ae46e400",
   "metadata": {},
   "outputs": [],
   "source": [
    "import numpy as np"
   ]
  },
  {
   "cell_type": "code",
   "execution_count": null,
   "id": "2d81aa86",
   "metadata": {},
   "outputs": [],
   "source": [
    "import dolfinx\n",
    "import ufl\n",
    "from dolfinx import fem, la\n",
    "from ufl import action, dx, grad, inner"
   ]
  },
  {
   "cell_type": "markdown",
   "id": "c1b144ec",
   "metadata": {},
   "source": [
    "We begin by using {py:func}`create_rectangle\n",
    "<dolfinx.mesh.create_rectangle>` to create a rectangular\n",
    "{py:class}`Mesh <dolfinx.mesh.Mesh>` of the domain, and creating a\n",
    "finite element {py:class}`FunctionSpace <dolfinx.fem.FunctionSpace>`\n",
    "on the mesh."
   ]
  },
  {
   "cell_type": "code",
   "execution_count": null,
   "id": "13ebebf2",
   "metadata": {},
   "outputs": [],
   "source": [
    "dtype = dolfinx.default_scalar_type\n",
    "real_type = np.real(dtype(0.0)).dtype\n",
    "comm = MPI.COMM_WORLD\n",
    "mesh = dolfinx.mesh.create_rectangle(comm, [[0.0, 0.0], [1.0, 1.0]], [10, 10], dtype=real_type)"
   ]
  },
  {
   "cell_type": "code",
   "execution_count": null,
   "id": "c9717bba",
   "metadata": {},
   "outputs": [],
   "source": [
    "# Create function space\n",
    "degree = 2\n",
    "V = fem.functionspace(mesh, (\"Lagrange\", degree))"
   ]
  },
  {
   "cell_type": "markdown",
   "id": "c76edfef",
   "metadata": {},
   "source": [
    "The second argument to {py:class}`functionspace\n",
    "<dolfinx.fem.functionspace>` is a tuple consisting of `(family,\n",
    "degree)`, where `family` is the finite element family, and `degree`\n",
    "specifies the polynomial degree. In this case `V` consists of\n",
    "third-order, continuous Lagrange finite element functions.\n",
    "\n",
    "Next, we locate the mesh facets that lie on the domain boundary\n",
    "$\\partial\\Omega$. We do this by first calling\n",
    "{py:func}`create_connectivity <dolfinx.mesh.topology.create_connectivity>`\n",
    "and then retrieving all facets on the boundary using\n",
    "{py:func}`exterior_facet_indices <dolfinx.mesh.exterior_facet_indices>`."
   ]
  },
  {
   "cell_type": "code",
   "execution_count": null,
   "id": "b98f8786",
   "metadata": {},
   "outputs": [],
   "source": [
    "tdim = mesh.topology.dim\n",
    "mesh.topology.create_connectivity(tdim - 1, tdim)\n",
    "facets = dolfinx.mesh.exterior_facet_indices(mesh.topology)"
   ]
  },
  {
   "cell_type": "markdown",
   "id": "1c1d7a4d",
   "metadata": {},
   "source": [
    "We now find the degrees of freedom that are associated with the boundary\n",
    "facets using\n",
    "{py:func}`locate_dofs_topological <dolfinx.fem.locate_dofs_topological>`"
   ]
  },
  {
   "cell_type": "code",
   "execution_count": null,
   "id": "9beaf253",
   "metadata": {},
   "outputs": [],
   "source": [
    "dofs = fem.locate_dofs_topological(V=V, entity_dim=tdim - 1, entities=facets)"
   ]
  },
  {
   "cell_type": "markdown",
   "id": "3fa223a4",
   "metadata": {},
   "source": [
    "and use {py:func}`dirichletbc <dolfinx.fem.dirichletbc>` to define the\n",
    "essential boundary condition. On the boundary we prescribe the\n",
    "{py:class}`Function <dolfinx.fem.Function>` `uD`, which we create by\n",
    "interpolating the expression $u_{\\rm D}$ in the finite element space\n",
    "$V$."
   ]
  },
  {
   "cell_type": "code",
   "execution_count": null,
   "id": "715d9354",
   "metadata": {},
   "outputs": [],
   "source": [
    "uD = fem.Function(V, dtype=dtype)\n",
    "uD.interpolate(lambda x: 1 + x[0] ** 2 + 2 * x[1] ** 2)\n",
    "bc = fem.dirichletbc(value=uD, dofs=dofs)"
   ]
  },
  {
   "cell_type": "markdown",
   "id": "7939dabd",
   "metadata": {},
   "source": [
    "Next, we express the variational problem using UFL."
   ]
  },
  {
   "cell_type": "code",
   "execution_count": null,
   "id": "57f5e56a",
   "metadata": {},
   "outputs": [],
   "source": [
    "x = ufl.SpatialCoordinate(mesh)\n",
    "u = ufl.TrialFunction(V)\n",
    "v = ufl.TestFunction(V)\n",
    "f = fem.Constant(mesh, dtype(-6.0))\n",
    "a = inner(grad(u), grad(v)) * dx\n",
    "L = inner(f, v) * dx\n",
    "L_fem = fem.form(L, dtype=dtype)"
   ]
  },
  {
   "cell_type": "markdown",
   "id": "69ebfd99",
   "metadata": {},
   "source": [
    "For the matrix-free solvers we also define a second linear form `M` as\n",
    "the {py:class}`action <ufl.action>` of the bilinear form $a$ on an\n",
    "arbitrary {py:class}`Function <dolfinx.fem.Function>` `ui`. This linear\n",
    "form is defined as\n",
    "\n",
    "$$\n",
    "M(v) = a(u_i, v) \\quad \\text{for} \\; \\ u_i \\in V.\n",
    "$$"
   ]
  },
  {
   "cell_type": "code",
   "execution_count": null,
   "id": "370ee576",
   "metadata": {},
   "outputs": [],
   "source": [
    "ui = fem.Function(V, dtype=dtype)\n",
    "M = action(a, ui)\n",
    "M_fem = fem.form(M, dtype=dtype)"
   ]
  },
  {
   "cell_type": "markdown",
   "id": "cb68eeee",
   "metadata": {},
   "source": [
    "### Matrix-free conjugate gradient solver\n",
    "\n",
    "The right hand side vector $b - A x_{\\rm bc}$ is the assembly of the linear\n",
    "form $L$ where the essential Dirichlet boundary conditions are implemented\n",
    "using lifting. Since we want to avoid assembling the matrix `A`, we compute\n",
    "the necessary matrix-vector product using the linear form `M` explicitly."
   ]
  },
  {
   "cell_type": "code",
   "execution_count": null,
   "id": "251767ff",
   "metadata": {},
   "outputs": [],
   "source": [
    "# Apply lifting: b <- b - A * x_bc\n",
    "b = fem.assemble_vector(L_fem)\n",
    "ui.x.array[:] = 0.0\n",
    "bc.set(ui.x.array, alpha=-1.0)\n",
    "fem.assemble_vector(b.array, M_fem)\n",
    "b.scatter_reverse(la.InsertMode.add)"
   ]
  },
  {
   "cell_type": "code",
   "execution_count": null,
   "id": "fe32591e",
   "metadata": {},
   "outputs": [],
   "source": [
    "# Set BC dofs to zero on right hand side\n",
    "bc.set(b.array, alpha=0.0)\n",
    "b.scatter_forward()"
   ]
  },
  {
   "cell_type": "markdown",
   "id": "bef571eb",
   "metadata": {
    "lines_to_next_cell": 2
   },
   "source": [
    "To implement the matrix-free CG solver using *DOLFINx* vectors, we define the\n",
    "function `action_A` to compute the matrix-vector product $y = A x$."
   ]
  },
  {
   "cell_type": "code",
   "execution_count": null,
   "id": "8f13ca39",
   "metadata": {
    "lines_to_next_cell": 2
   },
   "outputs": [],
   "source": [
    "def action_A(x, y):\n",
    "    # Set coefficient vector of the linear form M and ensure it is updated\n",
    "    # across processes\n",
    "    ui.x.array[:] = x.array\n",
    "    ui.x.scatter_forward()\n",
    "\n",
    "    # Compute action of A on ui using the linear form M\n",
    "    y.array[:] = 0.0\n",
    "    fem.assemble_vector(y.array, M_fem)\n",
    "    y.scatter_reverse(la.InsertMode.add)\n",
    "\n",
    "    # Set BC dofs to zero\n",
    "    bc.set(y.array, alpha=0.0)"
   ]
  },
  {
   "cell_type": "markdown",
   "id": "db664573",
   "metadata": {
    "lines_to_next_cell": 2
   },
   "source": [
    "### Basic conjugate gradient solver\n",
    "\n",
    "Solves the problem `A x = b`, using the function `action_A` as the operator,\n",
    "`x` as an initial guess of the solution, and `b` as the right hand side\n",
    "vector. `comm` is the MPI Communicator, `max_iter` is the maximum number of\n",
    "iterations, `rtol` is the relative tolerance."
   ]
  },
  {
   "cell_type": "code",
   "execution_count": null,
   "id": "4b5cc0e0",
   "metadata": {},
   "outputs": [],
   "source": [
    "def cg(comm, action_A, x: la.Vector, b: la.Vector, max_iter: int = 200, rtol: float = 1e-6):\n",
    "    rtol2 = rtol**2\n",
    "\n",
    "    nr = b.index_map.size_local\n",
    "\n",
    "    def _global_dot(comm, v0, v1):\n",
    "        # Only use the owned dofs in vector (up to nr)\n",
    "        return comm.allreduce(np.vdot(v0[:nr], v1[:nr]), MPI.SUM)\n",
    "\n",
    "    # Get initial y = A.x\n",
    "    y = la.vector(b.index_map, 1, dtype)\n",
    "    action_A(x, y)\n",
    "\n",
    "    # Copy residual to p\n",
    "    r = b.array - y.array\n",
    "    p = la.vector(b.index_map, 1, dtype)\n",
    "    p.array[:] = r\n",
    "\n",
    "    # Iterations of CG\n",
    "    rnorm0 = _global_dot(comm, r, r)\n",
    "    rnorm = rnorm0\n",
    "    for k in range(max_iter):\n",
    "        action_A(p, y)\n",
    "        alpha = rnorm / _global_dot(comm, p.array, y.array)\n",
    "\n",
    "        x.array[:] += alpha * p.array\n",
    "        r -= alpha * y.array\n",
    "        rnorm_new = _global_dot(comm, r, r)\n",
    "        beta = rnorm_new / rnorm\n",
    "        rnorm = rnorm_new\n",
    "        if comm.rank == 0:\n",
    "            print(k, np.sqrt(rnorm / rnorm0))\n",
    "        if rnorm / rnorm0 < rtol2:\n",
    "            x.scatter_forward()\n",
    "            return k\n",
    "        p.array[:] = beta * p.array + r\n",
    "\n",
    "    raise RuntimeError(f\"Solver exceeded max iterations ({max_iter}).\")"
   ]
  },
  {
   "cell_type": "markdown",
   "id": "fa89c789",
   "metadata": {},
   "source": [
    "This matrix-free solver is now used to compute the finite element solution.\n",
    "The finite element solution's approximation error as compared with the\n",
    "exact solution is measured in the $L_2$-norm."
   ]
  },
  {
   "cell_type": "code",
   "execution_count": null,
   "id": "99680fdd",
   "metadata": {},
   "outputs": [],
   "source": [
    "rtol = 1e-6\n",
    "u = fem.Function(V, dtype=dtype)\n",
    "iter_cg1 = cg(mesh.comm, action_A, u.x, b, max_iter=200, rtol=rtol)"
   ]
  },
  {
   "cell_type": "code",
   "execution_count": null,
   "id": "97348ff8",
   "metadata": {},
   "outputs": [],
   "source": [
    "# Set BC values in the solution vector\n",
    "bc.set(u.x.array, alpha=1.0)"
   ]
  },
  {
   "cell_type": "code",
   "execution_count": null,
   "id": "248de6b1",
   "metadata": {},
   "outputs": [],
   "source": [
    "def L2Norm(u):\n",
    "    val = fem.assemble_scalar(fem.form(inner(u, u) * dx, dtype=dtype))\n",
    "    return np.sqrt(comm.allreduce(val, op=MPI.SUM))"
   ]
  },
  {
   "cell_type": "code",
   "execution_count": null,
   "id": "4b63f50e",
   "metadata": {},
   "outputs": [],
   "source": [
    "# Print CG iteration number and error\n",
    "error_L2_cg1 = L2Norm(u - uD)\n",
    "if mesh.comm.rank == 0:\n",
    "    print(\"Matrix-free CG solver using DOLFINx vectors:\")\n",
    "    print(f\"CG iterations until convergence:  {iter_cg1}\")\n",
    "    print(f\"L2 approximation error:  {error_L2_cg1:.4e}\")"
   ]
  }
 ],
 "metadata": {
  "kernelspec": {
   "display_name": "Python 3 (ipykernel)",
   "language": "python",
   "name": "python3"
  }
 },
 "nbformat": 4,
 "nbformat_minor": 5
}

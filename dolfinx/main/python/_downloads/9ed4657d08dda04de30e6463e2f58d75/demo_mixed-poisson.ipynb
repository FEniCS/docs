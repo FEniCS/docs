{
 "cells": [
  {
   "cell_type": "markdown",
   "id": "60dd4d26",
   "metadata": {},
   "source": [
    "# Mixed formulation of the Poisson equation with a block-preconditioner/solver\n",
    "\n",
    "This demo illustrates how to solve the Poisson equation using a mixed\n",
    "(two-field) formulation and a block-preconditioned iterative solver.\n",
    "In particular, it illustrates how to\n",
    "\n",
    "* Use mixed and non-continuous finite element spaces.\n",
    "* Set essential boundary conditions for subspaces and\n",
    "  $H(\\mathrm{div})$ spaces.\n",
    "* Construct a blocked linear system.\n",
    "* Construct a block-preconditioned iterative linear solver using\n",
    "  PETSc/petsc4y.\n",
    "* Construct a Hypre Auxiliary Maxwell Space (AMS) preconditioner for\n",
    "  $H(\\mathrm{div})$ problems in two-dimensions.\n",
    "\n",
    "```{admonition} Download sources\n",
    ":class: download\n",
    "* {download}`Python script <./demo_mixed-poisson.py>`\n",
    "* {download}`Jupyter notebook <./demo_mixed-poisson.ipynb>`\n",
    "```\n",
    "\n",
    "## Equation and problem definition\n",
    "\n",
    "An alternative formulation of Poisson equation can be formulated by\n",
    "introducing an additional (vector) variable, namely the (negative)\n",
    "flux: $\\sigma = \\nabla u$. The partial differential equations\n",
    "then read\n",
    "\n",
    "$$\n",
    "\\begin{align}\n",
    "  \\sigma - \\nabla u &= 0 \\quad {\\rm in} \\ \\Omega, \\\\\n",
    "  \\nabla \\cdot \\sigma &= - f \\quad {\\rm in} \\ \\Omega,\n",
    "\\end{align}\n",
    "$$\n",
    "with boundary conditions\n",
    "\n",
    "$$\n",
    "  u = u_0 \\quad {\\rm on} \\ \\Gamma_{D},  \\\\\n",
    "  \\sigma \\cdot n = g \\quad {\\rm on} \\ \\Gamma_{N}.\n",
    "$$\n",
    "\n",
    "where $n$ is the outward unit normal vector on the boundary. Looking\n",
    "at the variational form, we see that the boundary condition for the\n",
    "flux ($\\sigma \\cdot n = g$) is now an essential boundary condition\n",
    "(which should be enforced in the function space), while the other\n",
    "boundary condition ($u = u_0$) is a natural boundary condition (which\n",
    "should be applied to the variational form). Inserting the boundary\n",
    "conditions, this variational problem can be phrased in the general\n",
    "form: find $(\\sigma, u) \\in \\Sigma_g \\times V$ such that\n",
    "\n",
    "$$\n",
    "   a((\\sigma, u), (\\tau, v)) = L((\\tau, v))\n",
    "   \\quad \\forall \\ (\\tau, v) \\in \\Sigma_0 \\times V,\n",
    "$$\n",
    "\n",
    "where the variational forms $a$ and $L$ are defined as\n",
    "\n",
    "$$\n",
    "  a((\\sigma, u), (\\tau, v)) &:=\n",
    "    \\int_{\\Omega} \\sigma \\cdot \\tau + \\nabla \\cdot \\tau \\ u\n",
    "  + \\nabla \\cdot \\sigma \\ v \\ {\\rm d} x, \\\\\n",
    "  L((\\tau, v)) &:= - \\int_{\\Omega} f v \\ {\\rm d} x\n",
    "  + \\int_{\\Gamma_D} u_0 \\tau \\cdot n  \\ {\\rm d} s,\n",
    "$$\n",
    "and $\\Sigma_g := \\{ \\tau \\in H({\\rm div})$ such that $\\tau \\cdot\n",
    "n|_{\\Gamma_N} = g \\}$ and $V := L^2(\\Omega)$.\n",
    "\n",
    "To discretize the above formulation, two discrete function spaces\n",
    "$\\Sigma_h \\subset \\Sigma$ and $V_h \\subset V$ are needed to form a\n",
    "mixed function space $\\Sigma_h \\times V_h$. A stable choice of finite\n",
    "element spaces is to let $\\Sigma_h$ be the Raviart-Thomas elements of\n",
    "polynomial order $k$ and let $V_h$ be discontinuous Lagrange elements of\n",
    "polynomial order $k-1$.\n",
    "\n",
    "To solve the linear system for the mixed problem, we will use am\n",
    "iterative method with a block-diagonal preconditioner that is based on\n",
    "the Riesz map, see for example this\n",
    "[paper](https://doi.org/10.1002/(SICI)1099-1506(199601/02)3:1%3C1::AID-NLA67%3E3.0.CO;2-E)."
   ]
  },
  {
   "cell_type": "markdown",
   "id": "db90caa7",
   "metadata": {},
   "source": [
    "\n",
    "## Implementation\n",
    "\n",
    "Import the required modules:"
   ]
  },
  {
   "cell_type": "code",
   "execution_count": null,
   "id": "7006781f",
   "metadata": {},
   "outputs": [],
   "source": [
    "try:\n",
    "    from petsc4py import PETSc\n",
    "\n",
    "    import dolfinx\n",
    "\n",
    "    if not dolfinx.has_petsc:\n",
    "        print(\"This demo requires DOLFINx to be compiled with PETSc enabled.\")\n",
    "        exit(0)\n",
    "except ModuleNotFoundError:\n",
    "    print(\"This demo requires petsc4py.\")\n",
    "    exit(0)\n",
    "\n",
    "from mpi4py import MPI\n",
    "\n",
    "import numpy as np\n",
    "\n",
    "import dolfinx.fem.petsc\n",
    "import ufl\n",
    "from basix.ufl import element\n",
    "from dolfinx import fem, mesh\n",
    "from dolfinx.fem.petsc import discrete_gradient, interpolation_matrix\n",
    "from dolfinx.la.petsc import create_vector_wrap\n",
    "from dolfinx.mesh import CellType, create_unit_square\n",
    "\n",
    "# Solution scalar (e.g., float32, complex128) and geometry (float32/64)\n",
    "# types\n",
    "dtype = dolfinx.default_scalar_type\n",
    "xdtype = dolfinx.default_real_type"
   ]
  },
  {
   "cell_type": "markdown",
   "id": "e8786135",
   "metadata": {},
   "source": [
    "Create a two-dimensional mesh. The iterative solver constructed\n",
    "later requires special construction that is specific to two\n",
    "dimensions. Application in three-dimensions would require a number of\n",
    "changes to the linear solver."
   ]
  },
  {
   "cell_type": "code",
   "execution_count": null,
   "id": "4cb7e525",
   "metadata": {
    "lines_to_next_cell": 0
   },
   "outputs": [],
   "source": [
    "msh = create_unit_square(MPI.COMM_WORLD, 96, 96, CellType.triangle, dtype=xdtype)"
   ]
  },
  {
   "cell_type": "markdown",
   "id": "c92af6e2",
   "metadata": {},
   "source": [
    "\n",
    "Here we construct compatible function spaces for the mixed Poisson\n",
    "problem. The `V` Raviart-Thomas ($\\mathbb{RT}$) space is a\n",
    "vector-valued $H({\\rm div})$ conforming space. The `W` space is a\n",
    "space of discontinuous Lagrange function of degree `k`.\n",
    "```{note}\n",
    "The $\\mathbb{RT}_{k}$ element in DOLFINx/Basix is usually denoted as\n",
    "$\\mathbb{RT}_{k-1}$ in the literature.\n",
    "```\n",
    "In the lowest-order case $k=1$. It can be increased, by the\n",
    "convergence of the iterative solver will degrade."
   ]
  },
  {
   "cell_type": "code",
   "execution_count": null,
   "id": "f0545ce2",
   "metadata": {},
   "outputs": [],
   "source": [
    "k = 1\n",
    "V = fem.functionspace(msh, element(\"RT\", msh.basix_cell(), k, dtype=xdtype))\n",
    "W = fem.functionspace(msh, element(\"Discontinuous Lagrange\", msh.basix_cell(), k - 1, dtype=xdtype))"
   ]
  },
  {
   "cell_type": "markdown",
   "id": "d80b210d",
   "metadata": {},
   "source": [
    "Trial functions for $\\sigma$ and $u$ are declared on the space $V$ and\n",
    "$W$, with corresponding test functions $\\tau$ and $v$:"
   ]
  },
  {
   "cell_type": "code",
   "execution_count": null,
   "id": "fb32ed1a",
   "metadata": {},
   "outputs": [],
   "source": [
    "(sigma, u) = ufl.TrialFunction(V), ufl.TrialFunction(W)\n",
    "(tau, v) = ufl.TestFunction(V), ufl.TestFunction(W)"
   ]
  },
  {
   "cell_type": "markdown",
   "id": "33508417",
   "metadata": {},
   "source": [
    "The source function is set to be $f = 10\\exp(-((x_{0} - 0.5)^2 +\n",
    "(x_{1} - 0.5)^2) / 0.02)$:"
   ]
  },
  {
   "cell_type": "code",
   "execution_count": null,
   "id": "95bc3fbe",
   "metadata": {},
   "outputs": [],
   "source": [
    "x = ufl.SpatialCoordinate(msh)\n",
    "f = 10 * ufl.exp(-((x[0] - 0.5) * (x[0] - 0.5) + (x[1] - 0.5) * (x[1] - 0.5)) / 0.02)"
   ]
  },
  {
   "cell_type": "markdown",
   "id": "10be7c40",
   "metadata": {},
   "source": [
    "We now declare the blocked bilinear and linear forms. The rows of `a`\n",
    "and `L` correspond to the $\\tau$ and $v$ test functions, respectively.\n",
    "The columns of `a` correspond to the $\\sigma$ and $u$ trial functions,\n",
    "respectively. Note that `a[1][1]` is empty, which is denoted by\n",
    "`None`. This zero block is typical of a saddle-point problem. In the\n",
    "`L[0]` block, the test function $\\tau$ is multiplied by a zero\n",
    "`Constant`, which is evaluated at runtime. We do this to preserve\n",
    "knowledge of the test space in the block. *Note that the defined `L`\n",
    "corresponds to $u_{0} = 0$ on $\\Gamma_{D}$.*"
   ]
  },
  {
   "cell_type": "code",
   "execution_count": null,
   "id": "84baf628",
   "metadata": {},
   "outputs": [],
   "source": [
    "dx = ufl.Measure(\"dx\", msh)\n",
    "a = [\n",
    "    [ufl.inner(sigma, tau) * dx, ufl.inner(u, ufl.div(tau)) * dx],\n",
    "    [ufl.inner(ufl.div(sigma), v) * dx, None],\n",
    "]\n",
    "L = [ufl.ZeroBaseForm((tau,)), -ufl.inner(f, v) * dx]"
   ]
  },
  {
   "cell_type": "markdown",
   "id": "2de81b80",
   "metadata": {},
   "source": [
    "We now compile the abstract/symbolic forms in `a` and `L` into\n",
    "concrete instanced that can be assembled into matrix operators and\n",
    "vectors, respectively."
   ]
  },
  {
   "cell_type": "code",
   "execution_count": null,
   "id": "4ed48ef5",
   "metadata": {},
   "outputs": [],
   "source": [
    "a, L = fem.form(a, dtype=dtype), fem.form(L, dtype=dtype)"
   ]
  },
  {
   "cell_type": "markdown",
   "id": "2615c285",
   "metadata": {},
   "source": [
    "In preparation for Dirichlet boundary conditions, we use the function\n",
    "`locate_entities_boundary` to locate mesh entities (facets) with which\n",
    "degree-of-freedoms to be constrained are associated with, and then use\n",
    "`locate_dofs_topological` to get the  degree-of-freedom indices. Below\n",
    "we identify the degree-of-freedom in `V` on the (i) top ($x_{1} = 1$)\n",
    "and (ii) bottom ($x_{1} = 0$) of the mesh/domain."
   ]
  },
  {
   "cell_type": "code",
   "execution_count": null,
   "id": "6e1e0223",
   "metadata": {},
   "outputs": [],
   "source": [
    "fdim = msh.topology.dim - 1\n",
    "facets_top = mesh.locate_entities_boundary(msh, fdim, lambda x: np.isclose(x[1], 1.0))\n",
    "facets_bottom = mesh.locate_entities_boundary(msh, fdim, lambda x: np.isclose(x[1], 0.0))\n",
    "dofs_top = fem.locate_dofs_topological(V, fdim, facets_top)\n",
    "dofs_bottom = fem.locate_dofs_topological(V, fdim, facets_bottom)"
   ]
  },
  {
   "cell_type": "markdown",
   "id": "92643876",
   "metadata": {},
   "source": [
    "Now, we create Dirichlet boundary objects for the condition $\\sigma\n",
    "\\cdot n = \\sin(5 x_(0)$ on the top and bottom boundaries:"
   ]
  },
  {
   "cell_type": "code",
   "execution_count": null,
   "id": "4fae0ba9",
   "metadata": {},
   "outputs": [],
   "source": [
    "cells_top_ = mesh.compute_incident_entities(msh.topology, facets_top, fdim, fdim + 1)\n",
    "cells_bottom = mesh.compute_incident_entities(msh.topology, facets_bottom, fdim, fdim + 1)\n",
    "g = fem.Function(V, dtype=dtype)\n",
    "g.interpolate(lambda x: np.vstack((np.zeros_like(x[0]), np.sin(5 * x[0]))), cells0=cells_top_)\n",
    "g.interpolate(lambda x: np.vstack((np.zeros_like(x[0]), -np.sin(5 * x[0]))), cells0=cells_bottom)\n",
    "bcs = [fem.dirichletbc(g, dofs_top), fem.dirichletbc(g, dofs_bottom)]"
   ]
  },
  {
   "cell_type": "markdown",
   "id": "bea78b2b",
   "metadata": {},
   "source": [
    "Assemble the matrix operator `A` into a PETSc 'nested matrix', zero\n",
    "rows and columns associated with a Dirichlet boundary condition and\n",
    "placing 1 on the diagonal for Dirichlet constrained\n",
    "degrees-of-freedom:"
   ]
  },
  {
   "cell_type": "code",
   "execution_count": null,
   "id": "1d97b0bf",
   "metadata": {},
   "outputs": [],
   "source": [
    "A = fem.petsc.assemble_matrix(a, bcs=bcs, kind=\"nest\")\n",
    "A.assemble()"
   ]
  },
  {
   "cell_type": "markdown",
   "id": "9da4f962",
   "metadata": {},
   "source": [
    "Assemble the RHS vector as a 'nested' vector and modify (apply\n",
    "lifting) to account for the effect non-zero Dirichlet boundary\n",
    "conditions. Then set Dirichlet boundary values in the RHS vector `b`:"
   ]
  },
  {
   "cell_type": "code",
   "execution_count": null,
   "id": "309ccc5a",
   "metadata": {},
   "outputs": [],
   "source": [
    "b = fem.petsc.assemble_vector(L, kind=\"nest\")\n",
    "bcs1 = fem.bcs_by_block(fem.extract_function_spaces(a, 1), bcs)\n",
    "fem.petsc.apply_lifting(b, a, bcs=bcs1)\n",
    "for b_sub in b.getNestSubVecs():\n",
    "    b_sub.ghostUpdate(addv=PETSc.InsertMode.ADD, mode=PETSc.ScatterMode.REVERSE)\n",
    "\n",
    "bcs0 = fem.bcs_by_block(fem.extract_function_spaces(L), bcs)\n",
    "fem.petsc.set_bc(b, bcs0)"
   ]
  },
  {
   "cell_type": "markdown",
   "id": "24afb07b",
   "metadata": {},
   "source": [
    "Rather than solving the linear system $A x = b$, we will solve the\n",
    "preconditioned problem $P^{-1} A x = P^{-1} b$. Commonly $P = A$, but\n",
    "this does not lead to efficient solvers for saddle point problems.\n",
    "\n",
    "For this problem, we introduce the preconditioner\n",
    "$$\n",
    "a_p((\\sigma, u), (\\tau, v))\n",
    "= \\begin{bmatrix} \\int_{\\Omega} \\sigma \\cdot \\tau + (\\nabla \\cdot\n",
    "\\sigma) (\\nabla \\cdot \\tau) \\ {\\rm d} x  & 0 \\\\ 0 &\n",
    "\\int_{\\Omega} u \\cdot v \\ {\\rm d} x \\end{bmatrix}\n",
    "$$\n",
    "and assemble it into the matrix `P`:"
   ]
  },
  {
   "cell_type": "code",
   "execution_count": null,
   "id": "bd2c61c5",
   "metadata": {},
   "outputs": [],
   "source": [
    "a_p = fem.form(\n",
    "    [\n",
    "        [ufl.inner(sigma, tau) * dx + ufl.inner(ufl.div(sigma), ufl.div(tau)) * dx, None],\n",
    "        [None, ufl.inner(u, v) * dx],\n",
    "    ],\n",
    "    dtype=dtype,\n",
    ")\n",
    "P = fem.petsc.assemble_matrix(a_p, bcs=bcs, kind=\"nest\")\n",
    "P.assemble()"
   ]
  },
  {
   "cell_type": "markdown",
   "id": "4403ab08",
   "metadata": {},
   "source": [
    "We now create a PETSc Krylov solver and set the preconditioner (`P`)\n",
    "and operator (`A`) matrices:"
   ]
  },
  {
   "cell_type": "code",
   "execution_count": null,
   "id": "73720b79",
   "metadata": {},
   "outputs": [],
   "source": [
    "ksp = PETSc.KSP().create(msh.comm)\n",
    "ksp.setOperators(A, P)\n",
    "ksp.setMonitor(lambda ksp, its, rnorm: print(f\"Iteration: {its}, residual: {rnorm}\"))\n",
    "ksp.setType(\"gmres\")\n",
    "ksp.setTolerances(rtol=1e-8)\n",
    "ksp.setGMRESRestart(100)"
   ]
  },
  {
   "cell_type": "markdown",
   "id": "7060ccca",
   "metadata": {},
   "source": [
    "To apply different solvers/preconditioners to the blocks of `P`, we\n",
    "set the preconditioner to be a PETSc\n",
    "[`fieldsplit`](https://petsc.org/release/manual/ksp/#sec-block-matrices)\n",
    "(block) type and set the 'splits' between the $\\sigma$ and $u$ fields."
   ]
  },
  {
   "cell_type": "code",
   "execution_count": null,
   "id": "264e2983",
   "metadata": {},
   "outputs": [],
   "source": [
    "ksp.getPC().setType(\"fieldsplit\")\n",
    "ksp.getPC().setFieldSplitType(PETSc.PC.CompositeType.ADDITIVE)\n",
    "nested_IS = P.getNestISs()\n",
    "ksp.getPC().setFieldSplitIS((\"sigma\", nested_IS[0][0]), (\"u\", nested_IS[0][1]))\n",
    "ksp_sigma, ksp_u = ksp.getPC().getFieldSplitSubKSP()"
   ]
  },
  {
   "cell_type": "markdown",
   "id": "01c51805",
   "metadata": {},
   "source": [
    "For the $P_{11}$ block, which is the discontinuous Lagrange mass\n",
    "matrix, we let the preconditioner be the default, which is incomplete\n",
    "LU factorisation and which can solve the block exactly in one\n",
    "iteration. The $P_{00}$ requires careful handling as $H({\\rm div})$\n",
    "problems require special preconditioners to be efficient.\n",
    "\n",
    "If PETSc has been configured with Hypre, we use the Hypre `Auxiliary\n",
    "Maxwell Space` (AMS) algebraic multigrid preconditioner. We can use\n",
    "AMS for this $H({\\rm div})$-type problem in two-dimensions because\n",
    "$H({\\rm div})$ and $H({\\rm curl})$ spaces are effectively the same in\n",
    "two-dimensions, just rotated by $\\pi/2."
   ]
  },
  {
   "cell_type": "code",
   "execution_count": null,
   "id": "0cc18a68",
   "metadata": {},
   "outputs": [],
   "source": [
    "pc_sigma = ksp_sigma.getPC()\n",
    "if PETSc.Sys().hasExternalPackage(\"hypre\") and not np.issubdtype(dtype, np.complexfloating):\n",
    "    pc_sigma.setType(\"hypre\")\n",
    "    pc_sigma.setHYPREType(\"ams\")\n",
    "\n",
    "    opts = PETSc.Options()\n",
    "    opts[f\"{ksp_sigma.prefix}pc_hypre_ams_cycle_type\"] = 7\n",
    "    opts[f\"{ksp_sigma.prefix}pc_hypre_ams_relax_times\"] = 2\n",
    "\n",
    "    # Construct and set the 'discrete gradient' operator, which maps\n",
    "    # grad H1 -> H(curl), i.e. the gradient of a scalar Lagrange space\n",
    "    # to a H(curl) space\n",
    "    V_H1 = fem.functionspace(msh, element(\"Lagrange\", msh.basix_cell(), k, dtype=xdtype))\n",
    "    V_curl = fem.functionspace(msh, element(\"N1curl\", msh.basix_cell(), k, dtype=xdtype))\n",
    "    G = discrete_gradient(V_H1, V_curl)\n",
    "    G.assemble()\n",
    "    pc_sigma.setHYPREDiscreteGradient(G)\n",
    "\n",
    "    assert k > 0, \"Element degree must be at least 1.\"\n",
    "    if k == 1:\n",
    "        # For the lowest order base (k=1), we can supply interpolation\n",
    "        # of the '1' vectors in the space V. Hypre can then construct\n",
    "        # the required operators from G and the '1' vectors.\n",
    "        cvec0, cvec1 = fem.Function(V), fem.Function(V)\n",
    "        cvec0.interpolate(lambda x: np.vstack((np.ones_like(x[0]), np.zeros_like(x[1]))))\n",
    "        cvec1.interpolate(lambda x: np.vstack((np.zeros_like(x[0]), np.ones_like(x[1]))))\n",
    "        pc_sigma.setHYPRESetEdgeConstantVectors(cvec0.x.petsc_vec, cvec1.x.petsc_vec, None)\n",
    "    else:\n",
    "        # For high-order spaces, we must provide the (H1)^d -> H(div)\n",
    "        # interpolation operator/matrix\n",
    "        V_H1d = fem.functionspace(msh, (\"Lagrange\", k, (msh.geometry.dim,)))\n",
    "        Pi = interpolation_matrix(V_H1d, V)  # (H1)^d -> H(div)\n",
    "        Pi.assemble()\n",
    "        pc_sigma.setHYPRESetInterpolations(msh.geometry.dim, None, None, Pi, None)\n",
    "\n",
    "        # High-order elements generally converge less well than the\n",
    "        # lowest-order case with algebraic multigrid, so we perform\n",
    "        # extra work at the multigrid stage\n",
    "        opts[f\"{ksp_sigma.prefix}pc_hypre_ams_tol\"] = 1e-12\n",
    "        opts[f\"{ksp_sigma.prefix}pc_hypre_ams_max_iter\"] = 3\n",
    "\n",
    "    ksp_sigma.setFromOptions()\n",
    "else:\n",
    "    # If Hypre is not available, use LU factorisation on the $P_{00}$\n",
    "    # block\n",
    "    pc_sigma.setType(\"lu\")\n",
    "    use_superlu = PETSc.IntType == np.int64\n",
    "    if PETSc.Sys().hasExternalPackage(\"mumps\") and not use_superlu:\n",
    "        pc_sigma.setFactorSolverType(\"mumps\")\n",
    "    elif PETSc.Sys().hasExternalPackage(\"superlu_dist\"):\n",
    "        pc_sigma.setFactorSolverType(\"superlu_dist\")"
   ]
  },
  {
   "cell_type": "markdown",
   "id": "32e04dd9",
   "metadata": {},
   "source": [
    "We create finite element functions that will hold the $\\sigma$ and $u$\n",
    "solutions:"
   ]
  },
  {
   "cell_type": "code",
   "execution_count": null,
   "id": "5a8ab588",
   "metadata": {},
   "outputs": [],
   "source": [
    "sigma, u = fem.Function(V, dtype=dtype), fem.Function(W, dtype=dtype)"
   ]
  },
  {
   "cell_type": "markdown",
   "id": "ec33d8c2",
   "metadata": {},
   "source": [
    "Create a PETSc 'nested' vector that holds reference to the `sigma` and\n",
    "`u` solution (degree-of-freedom) vectors and solve."
   ]
  },
  {
   "cell_type": "code",
   "execution_count": null,
   "id": "968e5a1c",
   "metadata": {},
   "outputs": [],
   "source": [
    "x = PETSc.Vec().createNest([create_vector_wrap(sigma.x), create_vector_wrap(u.x)])\n",
    "ksp.solve(b, x)\n",
    "reason = ksp.getConvergedReason()\n",
    "assert reason > 0, f\"Krylov solver has not converged {reason}.\"\n",
    "ksp.view()"
   ]
  },
  {
   "cell_type": "markdown",
   "id": "b2d85876",
   "metadata": {},
   "source": [
    "We save the solution `u` in VTX format:"
   ]
  },
  {
   "cell_type": "code",
   "execution_count": null,
   "id": "8fe02004",
   "metadata": {},
   "outputs": [],
   "source": [
    "try:\n",
    "    from dolfinx.io import VTXWriter\n",
    "\n",
    "    u.name = \"u\"\n",
    "    with VTXWriter(msh.comm, \"output_mixed_poisson.bp\", u, \"bp4\") as f:\n",
    "        f.write(0.0)\n",
    "except ImportError:\n",
    "    print(\"ADIOS2 required for VTX output.\")"
   ]
  }
 ],
 "metadata": {
  "jupytext": {
   "main_language": "python"
  }
 },
 "nbformat": 4,
 "nbformat_minor": 5
}

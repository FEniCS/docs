{
 "cells": [
  {
   "cell_type": "markdown",
   "id": "76db96af",
   "metadata": {},
   "source": [
    "# Mixed formulation of the Poisson equation with a block-preconditioner/solver # noqa\n",
    "\n",
    "This demo illustrates how to solve the Poisson equation using a mixed\n",
    "(two-field) formulation and a block-preconditioned iterative solver.\n",
    "In particular, it illustrates how to\n",
    "\n",
    "* Use mixed and non-continuous finite element spaces.\n",
    "* Set essential boundary conditions for subspaces and\n",
    "  $H(\\mathrm{div})$ spaces.\n",
    "* Construct a blocked linear system.\n",
    "* Construct a block-preconditioned iterative linear solver using\n",
    "  PETSc/petsc4y.\n",
    "* Construct a Hypre Auxiliary Maxwell Space (AMS) preconditioner for\n",
    "  $H(\\mathrm{div})$ problems in two-dimensions.\n",
    "\n",
    "```{admonition} Download sources\n",
    ":class: download\n",
    "* {download}`Python script <./demo_mixed-poisson.py>`\n",
    "* {download}`Jupyter notebook <./demo_mixed-poisson.ipynb>`\n",
    "```\n",
    "\n",
    "## Equation and problem definition\n",
    "\n",
    "An alternative formulation of Poisson equation can be formulated by\n",
    "introducing an additional (vector) variable, namely the (negative)\n",
    "flux: $\\sigma = \\nabla u$. The partial differential equations\n",
    "then read\n",
    "\n",
    "$$\n",
    "\\begin{align}\n",
    "  \\sigma - \\nabla u &= 0 \\quad {\\rm in} \\ \\Omega, \\\\\n",
    "  \\nabla \\cdot \\sigma &= - f \\quad {\\rm in} \\ \\Omega,\n",
    "\\end{align}\n",
    "$$\n",
    "with boundary conditions\n",
    "\n",
    "$$\n",
    "  u = u_0 \\quad {\\rm on} \\ \\Gamma_{D},  \\\\\n",
    "  \\sigma \\cdot n = g \\quad {\\rm on} \\ \\Gamma_{N}.\n",
    "$$\n",
    "\n",
    "where $n$ is the outward unit normal vector on the boundary. Looking\n",
    "at the variational form, we see that the boundary condition for the\n",
    "flux ($\\sigma \\cdot n = g$) is now an essential boundary condition\n",
    "(which should be enforced in the function space), while the other\n",
    "boundary condition ($u = u_0$) is a natural boundary condition (which\n",
    "should be applied to the variational form). Inserting the boundary\n",
    "conditions, this variational problem can be phrased in the general\n",
    "form: find $(\\sigma, u) \\in \\Sigma_g \\times V$ such that\n",
    "\n",
    "$$\n",
    "   a((\\sigma, u), (\\tau, v)) = L((\\tau, v))\n",
    "   \\quad \\forall \\ (\\tau, v) \\in \\Sigma_0 \\times V,\n",
    "$$\n",
    "\n",
    "where the variational forms $a$ and $L$ are defined as\n",
    "\n",
    "$$\n",
    "  a((\\sigma, u), (\\tau, v)) &:=\n",
    "    \\int_{\\Omega} \\sigma \\cdot \\tau + \\nabla \\cdot \\tau \\ u\n",
    "  + \\nabla \\cdot \\sigma \\ v \\ {\\rm d} x, \\\\\n",
    "  L((\\tau, v)) &:= - \\int_{\\Omega} f v \\ {\\rm d} x\n",
    "  + \\int_{\\Gamma_D} u_0 \\tau \\cdot n  \\ {\\rm d} s,\n",
    "$$\n",
    "and $\\Sigma_g := \\{ \\tau \\in H({\\rm div})$ such that $\\tau \\cdot\n",
    "n|_{\\Gamma_N} = g \\}$ and $V := L^2(\\Omega)$.\n",
    "\n",
    "To discretize the above formulation, two discrete function spaces\n",
    "$\\Sigma_h \\subset \\Sigma$ and $V_h \\subset V$ are needed to form a\n",
    "mixed function space $\\Sigma_h \\times V_h$. A stable choice of finite\n",
    "element spaces is to let $\\Sigma_h$ be the Raviart-Thomas elements of\n",
    "polynomial order $k$ and let $V_h$ be discontinuous Lagrange elements of\n",
    "polynomial order $k-1$.\n",
    "\n",
    "To solve the linear system for the mixed problem, we will use am\n",
    "iterative method with a block-diagonal preconditioner that is based on\n",
    "the Riesz map, see for example this\n",
    "[paper](https://doi.org/10.1002/(SICI)1099-1506(199601/02)3:1%3C1::AID-NLA67%3E3.0.CO;2-E)."
   ]
  },
  {
   "cell_type": "markdown",
   "id": "75cabe9f",
   "metadata": {},
   "source": [
    "\n",
    "## Implementation\n",
    "\n",
    "Import the required modules:"
   ]
  },
  {
   "cell_type": "code",
   "execution_count": null,
   "id": "74635977",
   "metadata": {},
   "outputs": [],
   "source": [
    "from mpi4py import MPI\n",
    "from petsc4py import PETSc\n",
    "\n",
    "import numpy as np\n",
    "\n",
    "import dolfinx\n",
    "import ufl\n",
    "from basix.ufl import element\n",
    "from dolfinx import fem, mesh\n",
    "from dolfinx.fem.petsc import discrete_gradient, interpolation_matrix\n",
    "from dolfinx.mesh import CellType, create_unit_square\n",
    "\n",
    "# Solution scalar (e.g., float32, complex128) and geometry (float32/64)\n",
    "# types\n",
    "dtype = dolfinx.default_scalar_type\n",
    "xdtype = dolfinx.default_real_type"
   ]
  },
  {
   "cell_type": "markdown",
   "id": "01928ee7",
   "metadata": {},
   "source": [
    "Create a two-dimensional mesh. The iterative solver constructed\n",
    "later requires special construction that is specific to two\n",
    "dimensions. Application in three-dimensions would require a number of\n",
    "changes to the linear solver."
   ]
  },
  {
   "cell_type": "code",
   "execution_count": null,
   "id": "64586d84",
   "metadata": {
    "lines_to_next_cell": 0
   },
   "outputs": [],
   "source": [
    "msh = create_unit_square(MPI.COMM_WORLD, 96, 96, CellType.triangle, dtype=xdtype)"
   ]
  },
  {
   "cell_type": "markdown",
   "id": "f713ac92",
   "metadata": {},
   "source": [
    "\n",
    "Here we construct compatible function spaces for the mixed Poisson\n",
    "problem. The `V` Raviart-Thomas ($\\mathbb{RT}$) space is a\n",
    "vector-valued $H({\\rm div})$ conforming space. The `W` space is a\n",
    "space of discontinuous Lagrange function of degree `k`.\n",
    "```{note}\n",
    "The $\\mathbb{RT}_{k}$ element in DOLFINx/Basix is usually denoted as\n",
    "$\\mathbb{RT}_{k-1}$ in the literature.\n",
    "```\n",
    "In the lowest-order case $k=1$. It can be increased, by the\n",
    "convergence of the iterative solver will degrade."
   ]
  },
  {
   "cell_type": "code",
   "execution_count": null,
   "id": "16e991b2",
   "metadata": {},
   "outputs": [],
   "source": [
    "k = 1\n",
    "V = fem.functionspace(msh, element(\"RT\", msh.basix_cell(), k, dtype=xdtype))\n",
    "W = fem.functionspace(msh, element(\"Discontinuous Lagrange\", msh.basix_cell(), k - 1, dtype=xdtype))\n",
    "Q = ufl.MixedFunctionSpace(V, W)"
   ]
  },
  {
   "cell_type": "markdown",
   "id": "991e576e",
   "metadata": {},
   "source": [
    "Trial functions for $\\sigma$ and $u$ are declared on the space $V$ and\n",
    "$W$, with corresponding test functions $\\tau$ and $v$:"
   ]
  },
  {
   "cell_type": "code",
   "execution_count": null,
   "id": "02b52965",
   "metadata": {},
   "outputs": [],
   "source": [
    "sigma, u = ufl.TrialFunctions(Q)\n",
    "tau, v = ufl.TestFunctions(Q)\n",
    "\n",
    "# The source function is set to be $f = 10\\exp(-((x_{0} - 0.5)^2 +\n",
    "# (x_{1} - 0.5)^2) / 0.02)$:"
   ]
  },
  {
   "cell_type": "code",
   "execution_count": null,
   "id": "f41be8c8",
   "metadata": {},
   "outputs": [],
   "source": [
    "x = ufl.SpatialCoordinate(msh)\n",
    "f = 10 * ufl.exp(-((x[0] - 0.5) * (x[0] - 0.5) + (x[1] - 0.5) * (x[1] - 0.5)) / 0.02)"
   ]
  },
  {
   "cell_type": "markdown",
   "id": "948f0933",
   "metadata": {},
   "source": [
    "We now declare the blocked bilinear and linear forms. We use\n",
    "`ufl.extract_blocks` to extract the block structure of the bilinear\n",
    "and linear form. For the first block of the right-hand side, we provide\n",
    "a form that efficiently is 0. We do this to preserve knowledge of the\n",
    "test space in the block. *Note that the defined `L` corresponds to\n",
    "$u_{0} = 0$ on $\\Gamma_{D}$.*"
   ]
  },
  {
   "cell_type": "code",
   "execution_count": null,
   "id": "c9375df8",
   "metadata": {
    "lines_to_next_cell": 2
   },
   "outputs": [],
   "source": [
    "dx = ufl.Measure(\"dx\", msh)\n",
    "\n",
    "a = ufl.extract_blocks(\n",
    "    ufl.inner(sigma, tau) * dx + ufl.inner(u, ufl.div(tau)) * dx + ufl.inner(ufl.div(sigma), v) * dx\n",
    ")\n",
    "L = [ufl.ZeroBaseForm((tau,)), -ufl.inner(f, v) * dx]\n"
   ]
  },
  {
   "cell_type": "markdown",
   "id": "bb459ff9",
   "metadata": {},
   "source": [
    "In preparation for Dirichlet boundary conditions, we use the function\n",
    "`locate_entities_boundary` to locate mesh entities (facets) with which\n",
    "degree-of-freedoms to be constrained are associated with, and then use\n",
    "`locate_dofs_topological` to get the  degree-of-freedom indices. Below\n",
    "we identify the degree-of-freedom in `V` on the (i) top ($x_{1} = 1$)\n",
    "and (ii) bottom ($x_{1} = 0$) of the mesh/domain."
   ]
  },
  {
   "cell_type": "code",
   "execution_count": null,
   "id": "781c0ea8",
   "metadata": {},
   "outputs": [],
   "source": [
    "fdim = msh.topology.dim - 1\n",
    "facets_top = mesh.locate_entities_boundary(msh, fdim, lambda x: np.isclose(x[1], 1.0))\n",
    "facets_bottom = mesh.locate_entities_boundary(msh, fdim, lambda x: np.isclose(x[1], 0.0))\n",
    "dofs_top = fem.locate_dofs_topological(V, fdim, facets_top)\n",
    "dofs_bottom = fem.locate_dofs_topological(V, fdim, facets_bottom)"
   ]
  },
  {
   "cell_type": "markdown",
   "id": "ca87083f",
   "metadata": {},
   "source": [
    "Now, we create Dirichlet boundary objects for the condition $\\sigma\n",
    "\\cdot n = \\sin(5 x_(0)$ on the top and bottom boundaries:"
   ]
  },
  {
   "cell_type": "code",
   "execution_count": null,
   "id": "1b2f728d",
   "metadata": {},
   "outputs": [],
   "source": [
    "cells_top_ = mesh.compute_incident_entities(msh.topology, facets_top, fdim, fdim + 1)\n",
    "cells_bottom = mesh.compute_incident_entities(msh.topology, facets_bottom, fdim, fdim + 1)\n",
    "g = fem.Function(V, dtype=dtype)\n",
    "g.interpolate(lambda x: np.vstack((np.zeros_like(x[0]), np.sin(5 * x[0]))), cells0=cells_top_)\n",
    "g.interpolate(lambda x: np.vstack((np.zeros_like(x[0]), -np.sin(5 * x[0]))), cells0=cells_bottom)\n",
    "bcs = [fem.dirichletbc(g, dofs_top), fem.dirichletbc(g, dofs_bottom)]"
   ]
  },
  {
   "cell_type": "markdown",
   "id": "fe019bc2",
   "metadata": {},
   "source": [
    "Rather than solving the linear system $A x = b$, we will solve the\n",
    "preconditioned problem $P^{-1} A x = P^{-1} b$. Commonly $P = A$, but\n",
    "this does not lead to efficient solvers for saddle point problems.\n",
    "\n",
    "For this problem, we introduce the preconditioner\n",
    "$$\n",
    "a_p((\\sigma, u), (\\tau, v))\n",
    "= \\begin{bmatrix} \\int_{\\Omega} \\sigma \\cdot \\tau + (\\nabla \\cdot\n",
    "\\sigma) (\\nabla \\cdot \\tau) \\ {\\rm d} x  & 0 \\\\ 0 &\n",
    "\\int_{\\Omega} u \\cdot v \\ {\\rm d} x \\end{bmatrix}\n",
    "$$\n",
    "and assemble it into the matrix `P`:"
   ]
  },
  {
   "cell_type": "code",
   "execution_count": null,
   "id": "3557f406",
   "metadata": {},
   "outputs": [],
   "source": [
    "a_p = ufl.extract_blocks(\n",
    "    ufl.inner(sigma, tau) * dx + ufl.inner(ufl.div(sigma), ufl.div(tau)) * dx + ufl.inner(u, v) * dx\n",
    ")\n"
   ]
  },
  {
   "cell_type": "markdown",
   "id": "00cedb5d",
   "metadata": {},
   "source": [
    "We create finite element functions that will hold the $\\sigma$ and $u$\n",
    "solutions:"
   ]
  },
  {
   "cell_type": "code",
   "execution_count": null,
   "id": "67bd1baf",
   "metadata": {},
   "outputs": [],
   "source": [
    "sigma, u = fem.Function(V, name=\"sigma\", dtype=dtype), fem.Function(W, name=\"u\", dtype=dtype)"
   ]
  },
  {
   "cell_type": "markdown",
   "id": "38d5f0f4",
   "metadata": {
    "lines_to_next_cell": 2
   },
   "source": [
    "We now create a linear problem solver for the mixed problem.\n",
    "As we will use different preconditions for the individual blocks of\n",
    "the saddle point problem, we specify the matrix kind to be \"nest\",\n",
    "so that we can use # [`fieldsplit`](https://petsc.org/release/manual/ksp/#sec-block-matrices)\n",
    "(block) type and set the 'splits' between the $\\sigma$ and $u$ fields."
   ]
  },
  {
   "cell_type": "code",
   "execution_count": null,
   "id": "bd7b3fa9",
   "metadata": {
    "lines_to_next_cell": 2
   },
   "outputs": [],
   "source": [
    "\n",
    "problem = fem.petsc.LinearProblem(\n",
    "    a,\n",
    "    L,\n",
    "    u=[sigma, u],\n",
    "    P=a_p,\n",
    "    kind=\"nest\",\n",
    "    bcs=bcs,\n",
    "    petsc_options_prefix=\"demo_mixed_poisson_\",\n",
    "    petsc_options={\n",
    "        \"ksp_type\": \"gmres\",\n",
    "        \"pc_type\": \"fieldsplit\",\n",
    "        \"pc_fieldsplit_type\": \"additive\",\n",
    "        \"ksp_rtol\": 1e-8,\n",
    "        \"ksp_gmres_restart\": 100,\n",
    "        \"ksp_view\": \"\",\n",
    "    },\n",
    ")"
   ]
  },
  {
   "cell_type": "code",
   "execution_count": null,
   "id": "9899d98f",
   "metadata": {},
   "outputs": [],
   "source": [
    "ksp = problem.solver\n",
    "ksp.setMonitor(\n",
    "    lambda _, its, rnorm: PETSc.Sys.Print(f\"Iteration: {its:>4d}, residual: {rnorm:.3e}\")\n",
    ")"
   ]
  },
  {
   "cell_type": "markdown",
   "id": "acd6c138",
   "metadata": {},
   "source": [
    "For the $P_{11}$ block, which is the discontinuous Lagrange mass\n",
    "matrix, we let the preconditioner be the default, which is incomplete\n",
    "LU factorisation and which can solve the block exactly in one\n",
    "iteration. The $P_{00}$ requires careful handling as $H({\\rm div})$\n",
    "problems require special preconditioners to be efficient.\n",
    "\n",
    "If PETSc has been configured with Hypre, we use the Hypre `Auxiliary\n",
    "Maxwell Space` (AMS) algebraic multigrid preconditioner. We can use\n",
    "AMS for this $H({\\rm div})$-type problem in two-dimensions because\n",
    "$H({\\rm div})$ and $H({\\rm curl})$ spaces are effectively the same in\n",
    "two-dimensions, just rotated by $\\pi/2."
   ]
  },
  {
   "cell_type": "code",
   "execution_count": null,
   "id": "6c792b38",
   "metadata": {},
   "outputs": [],
   "source": [
    "ksp_sigma, ksp_u = ksp.getPC().getFieldSplitSubKSP()\n",
    "pc_sigma = ksp_sigma.getPC()\n",
    "if PETSc.Sys().hasExternalPackage(\"hypre\") and not np.issubdtype(dtype, np.complexfloating):\n",
    "    pc_sigma.setType(\"hypre\")\n",
    "    pc_sigma.setHYPREType(\"ams\")\n",
    "\n",
    "    opts = PETSc.Options()\n",
    "    opts[f\"{ksp_sigma.prefix}pc_hypre_ams_cycle_type\"] = 7\n",
    "    opts[f\"{ksp_sigma.prefix}pc_hypre_ams_relax_times\"] = 2\n",
    "\n",
    "    # Construct and set the 'discrete gradient' operator, which maps\n",
    "    # grad H1 -> H(curl), i.e. the gradient of a scalar Lagrange space\n",
    "    # to a H(curl) space\n",
    "    V_H1 = fem.functionspace(msh, element(\"Lagrange\", msh.basix_cell(), k, dtype=xdtype))\n",
    "    V_curl = fem.functionspace(msh, element(\"N1curl\", msh.basix_cell(), k, dtype=xdtype))\n",
    "    G = discrete_gradient(V_H1, V_curl)\n",
    "    G.assemble()\n",
    "    pc_sigma.setHYPREDiscreteGradient(G)\n",
    "\n",
    "    assert k > 0, \"Element degree must be at least 1.\"\n",
    "    if k == 1:\n",
    "        # For the lowest order base (k=1), we can supply interpolation\n",
    "        # of the '1' vectors in the space V. Hypre can then construct\n",
    "        # the required operators from G and the '1' vectors.\n",
    "        cvec0, cvec1 = fem.Function(V), fem.Function(V)\n",
    "        cvec0.interpolate(lambda x: np.vstack((np.ones_like(x[0]), np.zeros_like(x[1]))))\n",
    "        cvec1.interpolate(lambda x: np.vstack((np.zeros_like(x[0]), np.ones_like(x[1]))))\n",
    "        pc_sigma.setHYPRESetEdgeConstantVectors(cvec0.x.petsc_vec, cvec1.x.petsc_vec, None)\n",
    "    else:\n",
    "        # For high-order spaces, we must provide the (H1)^d -> H(div)\n",
    "        # interpolation operator/matrix\n",
    "        V_H1d = fem.functionspace(msh, (\"Lagrange\", k, (msh.geometry.dim,)))\n",
    "        Pi = interpolation_matrix(V_H1d, V)  # (H1)^d -> H(div)\n",
    "        Pi.assemble()\n",
    "        pc_sigma.setHYPRESetInterpolations(msh.geometry.dim, None, None, Pi, None)\n",
    "\n",
    "        # High-order elements generally converge less well than the\n",
    "        # lowest-order case with algebraic multigrid, so we perform\n",
    "        # extra work at the multigrid stage\n",
    "        opts[f\"{ksp_sigma.prefix}pc_hypre_ams_tol\"] = 1e-12\n",
    "        opts[f\"{ksp_sigma.prefix}pc_hypre_ams_max_iter\"] = 3\n",
    "\n",
    "    ksp_sigma.setFromOptions()\n",
    "else:\n",
    "    # If Hypre is not available, use LU factorisation on the $P_{00}$\n",
    "    # block\n",
    "    pc_sigma.setType(\"lu\")\n",
    "    use_superlu = PETSc.IntType == np.int64\n",
    "    if PETSc.Sys().hasExternalPackage(\"mumps\") and not use_superlu:\n",
    "        pc_sigma.setFactorSolverType(\"mumps\")\n",
    "    elif PETSc.Sys().hasExternalPackage(\"superlu_dist\"):\n",
    "        pc_sigma.setFactorSolverType(\"superlu_dist\")"
   ]
  },
  {
   "cell_type": "markdown",
   "id": "166b25ae",
   "metadata": {},
   "source": [
    "Once we have set the preconditioners for the two blocks, we can\n",
    "solve the linear system. The `LinearProblem` class will\n",
    "automatically assemble the linear system, apply the boundary\n",
    "conditions, call the Krylov solver and update the solution\n",
    "vectors `u` and `sigma`."
   ]
  },
  {
   "cell_type": "code",
   "execution_count": null,
   "id": "0f786f43",
   "metadata": {},
   "outputs": [],
   "source": [
    "problem.solve()\n",
    "converged_reason = problem.solver.getConvergedReason()\n",
    "assert converged_reason > 0, f\"Krylov solver has not converged, reason: {converged_reason}.\""
   ]
  },
  {
   "cell_type": "markdown",
   "id": "abcd4eed",
   "metadata": {},
   "source": [
    "We save the solution `u` in VTX format:"
   ]
  },
  {
   "cell_type": "code",
   "execution_count": null,
   "id": "4d784161",
   "metadata": {},
   "outputs": [],
   "source": [
    "if dolfinx.has_adios2:\n",
    "    from dolfinx.io import VTXWriter\n",
    "\n",
    "    u.name = \"u\"\n",
    "    with VTXWriter(msh.comm, \"output_mixed_poisson.bp\", u, \"bp4\") as f:\n",
    "        f.write(0.0)\n",
    "else:\n",
    "    print(\"ADIOS2 required for VTX output.\")"
   ]
  }
 ],
 "metadata": {
  "jupytext": {
   "main_language": "python"
  }
 },
 "nbformat": 4,
 "nbformat_minor": 5
}

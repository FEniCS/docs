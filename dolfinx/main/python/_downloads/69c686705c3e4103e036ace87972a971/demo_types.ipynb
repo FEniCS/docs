{
 "cells": [
  {
   "cell_type": "markdown",
   "id": "5a953cd8",
   "metadata": {},
   "source": [
    "# Solving PDEs with different scalar (float) types\n",
    "\n",
    "```{admonition} Download sources\n",
    ":class: download\n",
    "* {download}`Python script <./demo_types.py>`\n",
    "* {download}`Jupyter notebook <./demo_types.ipynb>`\n",
    "```"
   ]
  },
  {
   "cell_type": "markdown",
   "id": "3c777494",
   "metadata": {
    "lines_to_next_cell": 2
   },
   "source": [
    "This demo shows:\n",
    "\n",
    "- How to solve problems using different scalar types, .e.g. single or\n",
    "  double precision, or complex numbers\n",
    "- Interfacing with [SciPy](https://scipy.org/) sparse linear algebra\n",
    "  functionality"
   ]
  },
  {
   "cell_type": "code",
   "execution_count": null,
   "id": "76d2fcee",
   "metadata": {},
   "outputs": [],
   "source": [
    "import sys\n",
    "\n",
    "from mpi4py import MPI\n",
    "\n",
    "import numpy as np\n",
    "import scipy.sparse\n",
    "import scipy.sparse.linalg\n",
    "\n",
    "import ufl\n",
    "from dolfinx import fem, la, mesh, plot\n"
   ]
  },
  {
   "cell_type": "markdown",
   "id": "0f3f8b6b",
   "metadata": {},
   "source": [
    "SciPy solvers do not support MPI, so all computations will be\n",
    "performed on a single MPI rank"
   ]
  },
  {
   "cell_type": "code",
   "execution_count": null,
   "id": "ca425cf0",
   "metadata": {
    "lines_to_next_cell": 2
   },
   "outputs": [],
   "source": [
    "comm = MPI.COMM_SELF"
   ]
  },
  {
   "cell_type": "markdown",
   "id": "10496f86",
   "metadata": {
    "lines_to_next_cell": 2
   },
   "source": [
    "Create a function that solves the Poisson equation using different\n",
    "precision float and complex scalar types for the finite element\n",
    "solution."
   ]
  },
  {
   "cell_type": "code",
   "execution_count": null,
   "id": "597726ee",
   "metadata": {},
   "outputs": [],
   "source": [
    "def display_scalar(u, name, filter=np.real):\n",
    "    \"\"\"Plot the solution using pyvista\"\"\"\n",
    "    try:\n",
    "        import pyvista\n",
    "\n",
    "        cells, types, x = plot.vtk_mesh(u.function_space)\n",
    "        grid = pyvista.UnstructuredGrid(cells, types, x)\n",
    "        grid.point_data[\"u\"] = filter(u.x.array)\n",
    "        grid.set_active_scalars(\"u\")\n",
    "        plotter = pyvista.Plotter()\n",
    "        plotter.add_mesh(grid, show_edges=True)\n",
    "        plotter.add_mesh(grid.warp_by_scalar())\n",
    "        plotter.add_title(f\"{name}: real\" if filter is np.real else f\"{name}: imag\")\n",
    "        if pyvista.OFF_SCREEN:\n",
    "            pyvista.start_xvfb(wait=0.1)\n",
    "            plotter.screenshot(f\"u_{'real' if filter is np.real else 'imag'}.png\")\n",
    "        else:\n",
    "            plotter.show()\n",
    "    except ModuleNotFoundError:\n",
    "        print(\"'pyvista' is required to visualise the solution\")"
   ]
  },
  {
   "cell_type": "code",
   "execution_count": null,
   "id": "07f8f0f7",
   "metadata": {},
   "outputs": [],
   "source": [
    "def display_vector(u, name, filter=np.real):\n",
    "    \"\"\"Plot the solution using pyvista\"\"\"\n",
    "    try:\n",
    "        import pyvista\n",
    "\n",
    "        V = u.function_space\n",
    "        cells, types, x = plot.vtk_mesh(V)\n",
    "        grid = pyvista.UnstructuredGrid(cells, types, x)\n",
    "        bs = V.dofmap.index_map_bs\n",
    "        grid.point_data[\"u\"] = filter(np.insert(u.x.array.reshape(x.shape[0], bs), bs, 0, axis=1))\n",
    "        plotter = pyvista.Plotter()\n",
    "        plotter.add_mesh(grid.warp_by_scalar(), show_edges=True)\n",
    "        plotter.add_title(f\"{name}: real\" if filter is np.real else f\"{name}: imag\")\n",
    "        if pyvista.OFF_SCREEN:\n",
    "            pyvista.start_xvfb(wait=0.1)\n",
    "            plotter.screenshot(f\"u_{'real' if filter is np.real else 'imag'}.png\")\n",
    "        else:\n",
    "            plotter.show()\n",
    "    except ModuleNotFoundError:\n",
    "        print(\"'pyvista' is required to visualise the solution\")"
   ]
  },
  {
   "cell_type": "code",
   "execution_count": null,
   "id": "1d1117b3",
   "metadata": {
    "lines_to_next_cell": 2
   },
   "outputs": [],
   "source": [
    "def poisson(dtype):\n",
    "    \"\"\"Poisson problem solver\n",
    "\n",
    "    Args:\n",
    "        dtype: Scalar type to use.\n",
    "\n",
    "\n",
    "    \"\"\"\n",
    "\n",
    "    # Create a mesh and locate facets by a geometric condition\n",
    "    msh = mesh.create_rectangle(\n",
    "        comm=comm,\n",
    "        points=((0.0, 0.0), (2.0, 1.0)),\n",
    "        n=(32, 16),\n",
    "        cell_type=mesh.CellType.triangle,\n",
    "        dtype=np.real(dtype(0)).dtype,\n",
    "    )\n",
    "    facets = mesh.locate_entities_boundary(\n",
    "        msh, dim=1, marker=lambda x: np.isclose(x[0], 0.0) | np.isclose(x[0], 2.0)\n",
    "    )\n",
    "\n",
    "    # Define a variational problem.\n",
    "    V = fem.functionspace(msh, (\"Lagrange\", 1))\n",
    "    u, v = ufl.TrialFunction(V), ufl.TestFunction(V)\n",
    "    x = ufl.SpatialCoordinate(msh)\n",
    "    fr = 10 * ufl.exp(-((x[0] - 0.5) ** 2 + (x[1] - 0.5) ** 2) / 0.02)\n",
    "    fc = ufl.sin(2 * np.pi * x[0]) + 10 * ufl.sin(4 * np.pi * x[1]) * 1j\n",
    "    gr = ufl.sin(5 * x[0])\n",
    "    gc = ufl.sin(5 * x[0]) * 1j\n",
    "    a = ufl.inner(ufl.grad(u), ufl.grad(v)) * ufl.dx\n",
    "    L = ufl.inner(fr + fc, v) * ufl.dx + ufl.inner(gr + gc, v) * ufl.ds\n",
    "\n",
    "    # In preparation for constructing Dirichlet boundary conditions, locate\n",
    "    # facets on the constrained boundary and the corresponding\n",
    "    # degrees-of-freedom.\n",
    "    dofs = fem.locate_dofs_topological(V=V, entity_dim=1, entities=facets)\n",
    "\n",
    "    # Process forms. This will compile the forms for the requested type.\n",
    "    a0 = fem.form(a, dtype=dtype)\n",
    "    if np.issubdtype(dtype, np.complexfloating):\n",
    "        L0 = fem.form(L, dtype=dtype)\n",
    "    else:\n",
    "        L0 = fem.form(ufl.replace(L, {fc: 0, gc: 0}), dtype=dtype)\n",
    "\n",
    "    # Create a Dirichlet boundary condition\n",
    "    bc = fem.dirichletbc(value=dtype(0), dofs=dofs, V=V)\n",
    "\n",
    "    # Assemble forms\n",
    "    A = fem.assemble_matrix(a0, [bc])\n",
    "    A.scatter_reverse()\n",
    "    b = fem.assemble_vector(L0)\n",
    "    fem.apply_lifting(b.array, [a0], bcs=[[bc]])\n",
    "    b.scatter_reverse(la.InsertMode.add)\n",
    "    bc.set(b.array)\n",
    "\n",
    "    # Create a SciPy CSR  matrix that shares data with A and solve\n",
    "    As = A.to_scipy()\n",
    "    uh = fem.Function(V, dtype=dtype)\n",
    "    uh.x.array[:] = scipy.sparse.linalg.spsolve(As, b.array)\n",
    "\n",
    "    return uh"
   ]
  },
  {
   "cell_type": "markdown",
   "id": "3f27d4f4",
   "metadata": {
    "lines_to_next_cell": 2
   },
   "source": [
    "Create a function that solves the linearised elasticity equation using\n",
    "different precision float and complex scalar types for the finite\n",
    "element solution."
   ]
  },
  {
   "cell_type": "code",
   "execution_count": null,
   "id": "7e5abb43",
   "metadata": {
    "lines_to_next_cell": 2
   },
   "outputs": [],
   "source": [
    "def elasticity(dtype) -> fem.Function:\n",
    "    \"\"\"Linearised elasticity problem solver.\"\"\"\n",
    "\n",
    "    # Create a mesh and locate facets by a geometric condition\n",
    "    msh = mesh.create_rectangle(\n",
    "        comm=comm,\n",
    "        points=((0.0, 0.0), (2.0, 1.0)),\n",
    "        n=(32, 16),\n",
    "        cell_type=mesh.CellType.triangle,\n",
    "        dtype=np.real(dtype(0)).dtype,\n",
    "    )\n",
    "    facets = mesh.locate_entities_boundary(\n",
    "        msh, dim=1, marker=lambda x: np.isclose(x[0], 0.0) | np.isclose(x[0], 2.0)\n",
    "    )\n",
    "\n",
    "    # Define the variational problem.\n",
    "    gdim = msh.geometry.dim\n",
    "    V = fem.functionspace(msh, (\"Lagrange\", 1, (gdim,)))\n",
    "    ω, ρ = 300.0, 10.0\n",
    "    x = ufl.SpatialCoordinate(msh)\n",
    "    f = ufl.as_vector((ρ * ω**2 * x[0], ρ * ω**2 * x[1]))\n",
    "\n",
    "    E, ν = 1.0e6, 0.3\n",
    "    μ, λ = E / (2.0 * (1.0 + ν)), E * ν / ((1.0 + ν) * (1.0 - 2.0 * ν))\n",
    "\n",
    "    def σ(v):\n",
    "        \"\"\"Return an expression for the stress σ given a displacement\n",
    "        field\"\"\"\n",
    "        return 2.0 * μ * ufl.sym(ufl.grad(v)) + λ * ufl.tr(ufl.sym(ufl.grad(v))) * ufl.Identity(\n",
    "            len(v)\n",
    "        )\n",
    "\n",
    "    u, v = ufl.TrialFunction(V), ufl.TestFunction(V)\n",
    "    a = ufl.inner(σ(u), ufl.grad(v)) * ufl.dx\n",
    "    L = ufl.inner(f, v) * ufl.dx\n",
    "\n",
    "    dofs = fem.locate_dofs_topological(V=V, entity_dim=1, entities=facets)\n",
    "\n",
    "    # Process forms. This will compile the forms for the requested type.\n",
    "    a0, L0 = fem.form(a, dtype=dtype), fem.form(L, dtype=dtype)\n",
    "\n",
    "    # Create a Dirichlet boundary condition\n",
    "    bc = fem.dirichletbc(np.zeros(2, dtype=dtype), dofs, V=V)\n",
    "\n",
    "    # Assemble forms (CSR matrix)\n",
    "    A = fem.assemble_matrix(a0, [bc])\n",
    "    A.scatter_reverse()\n",
    "\n",
    "    b = fem.assemble_vector(L0)\n",
    "    fem.apply_lifting(b.array, [a0], bcs=[[bc]])\n",
    "    b.scatter_reverse(la.InsertMode.add)\n",
    "    bc.set(b.array)\n",
    "\n",
    "    # Create a SciPy CSR  matrix that shares data with A and solve\n",
    "    As = A.to_scipy()\n",
    "    uh = fem.Function(V, dtype=dtype)\n",
    "    uh.x.array[:] = scipy.sparse.linalg.spsolve(As, b.array)\n",
    "\n",
    "    return uh"
   ]
  },
  {
   "cell_type": "markdown",
   "id": "f1accef1",
   "metadata": {
    "lines_to_next_cell": 2
   },
   "source": [
    "Solve problems for different types"
   ]
  },
  {
   "cell_type": "code",
   "execution_count": null,
   "id": "18b4269e",
   "metadata": {
    "lines_to_next_cell": 2
   },
   "outputs": [],
   "source": [
    "uh = poisson(dtype=np.float32)\n",
    "uh = poisson(dtype=np.float64)\n",
    "if not sys.platform.startswith(\"win32\"):\n",
    "    uh = poisson(dtype=np.complex64)\n",
    "    uh = poisson(dtype=np.complex128)\n",
    "display_scalar(uh, \"poisson\", np.real)\n",
    "display_scalar(uh, \"poisson\", np.imag)"
   ]
  },
  {
   "cell_type": "code",
   "execution_count": null,
   "id": "8bddd657",
   "metadata": {},
   "outputs": [],
   "source": [
    "uh = elasticity(dtype=np.float32)\n",
    "uh = elasticity(dtype=np.float64)\n",
    "if not sys.platform.startswith(\"win32\"):\n",
    "    uh = elasticity(dtype=np.complex64)\n",
    "    uh = elasticity(dtype=np.complex128)\n",
    "display_vector(uh, \"elasticity\", np.real)"
   ]
  }
 ],
 "metadata": {
  "jupytext": {
   "main_language": "python"
  }
 },
 "nbformat": 4,
 "nbformat_minor": 5
}

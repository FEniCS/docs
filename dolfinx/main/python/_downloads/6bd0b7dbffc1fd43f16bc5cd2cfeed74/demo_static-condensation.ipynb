{
 "cells": [
  {
   "cell_type": "markdown",
   "id": "a694a36e",
   "metadata": {},
   "source": [
    "(demo-static-condensation)=\n",
    "\n",
    "# Static condensation of linear elasticity\n",
    "\n",
    "Copyright (C) 2020  Michal Habera and Andreas Zilian\n",
    "\n",
    "```{admonition} Download sources\n",
    ":class: download\n",
    "* {download}`Python script <./demo_static-condensation.py>`\n",
    "* {download}`Jupyter notebook <./demo_static-condensation.ipynb>`\n",
    "```\n",
    "This demo solves a Cook's plane stress elasticity test in a mixed\n",
    "space formulation. The test is a sloped cantilever under upward\n",
    "traction force at free end. Static condensation of internal (stress)\n",
    "degrees-of-freedom is demonstrated.\n",
    "\n",
    "This demo illustrates how to:\n",
    "- Use static condensation with [numba](https://numba.pydata.org/)\n",
    "  on variational forms made with UFL.\n",
    "- Extracting JIT compiled C-kernels using {py:func}`ffcx_jit\n",
    "<dolfinx.jit.ffcx_jit>`"
   ]
  },
  {
   "cell_type": "markdown",
   "id": "77e5d826",
   "metadata": {},
   "source": [
    "This demo requires more modules than usual, as it uses `numba` for\n",
    "efficient static condensation."
   ]
  },
  {
   "cell_type": "code",
   "execution_count": null,
   "id": "72b588d6",
   "metadata": {},
   "outputs": [],
   "source": [
    "from pathlib import Path\n",
    "\n",
    "from mpi4py import MPI\n",
    "from petsc4py import PETSc\n",
    "\n",
    "import cffi\n",
    "import numba\n",
    "import numba.core.typing.cffi_utils as cffi_support\n",
    "import numpy as np\n",
    "\n",
    "import ufl\n",
    "from basix.ufl import element\n",
    "from dolfinx import default_real_type, default_scalar_type, geometry\n",
    "from dolfinx.fem import (\n",
    "    Form,\n",
    "    Function,\n",
    "    IntegralType,\n",
    "    dirichletbc,\n",
    "    form,\n",
    "    form_cpp_class,\n",
    "    functionspace,\n",
    "    locate_dofs_topological,\n",
    ")\n",
    "from dolfinx.fem.petsc import apply_lifting, assemble_matrix, assemble_vector\n",
    "from dolfinx.io import XDMFFile\n",
    "from dolfinx.jit import ffcx_jit\n",
    "from dolfinx.mesh import locate_entities_boundary, meshtags\n",
    "from ffcx.codegeneration.utils import empty_void_pointer\n",
    "from ffcx.codegeneration.utils import numba_ufcx_kernel_signature as ufcx_signature\n"
   ]
  },
  {
   "cell_type": "code",
   "execution_count": null,
   "id": "b9d57824",
   "metadata": {},
   "outputs": [],
   "source": [
    "rtype = default_real_type\n",
    "dtype = default_scalar_type\n",
    "if np.issubdtype(rtype, np.float32):  # type: ignore\n",
    "    print(\"float32 not yet supported for this demo.\")\n",
    "    exit(0)"
   ]
  },
  {
   "cell_type": "markdown",
   "id": "b34a193f",
   "metadata": {},
   "source": [
    "We start by reading in the Cook's mesh [cooks_tri_mesh.xdmf](\n",
    "https://github.com/FEniCS/dolfinx/blob/main/python/demo/data/cooks_tri_mesh.xdmf)\n",
    "using {py:meth}`XDMFFile.read_mesh <dolfinx.io.XDMFFile.read_mesh>`.\n",
    "Note that the mesh is written in plain-text format, which means we use\n",
    "{py:attr}`XDMFFile.Encoding.ASCII <dolfinx.io.XDMFFile.Encoding.ASCII>`."
   ]
  },
  {
   "cell_type": "code",
   "execution_count": null,
   "id": "e53c0133",
   "metadata": {},
   "outputs": [],
   "source": [
    "infile = XDMFFile(\n",
    "    MPI.COMM_WORLD,\n",
    "    Path(Path(__file__).parent, \"data\", \"cooks_tri_mesh.xdmf\"),\n",
    "    \"r\",\n",
    "    encoding=XDMFFile.Encoding.ASCII,\n",
    ")\n",
    "msh = infile.read_mesh(name=\"Grid\")\n",
    "infile.close()"
   ]
  },
  {
   "cell_type": "markdown",
   "id": "5a8dc73e",
   "metadata": {},
   "source": [
    "We create the Stress (Se) and displacement (Ue) elements and\n",
    "corresponding function spaces. Note that the stress element is symmetric."
   ]
  },
  {
   "cell_type": "code",
   "execution_count": null,
   "id": "790aec91",
   "metadata": {},
   "outputs": [],
   "source": [
    "gdim = msh.geometry.dim\n",
    "Se = element(\"DG\", msh.basix_cell(), 1, shape=(gdim, gdim), symmetry=True, dtype=rtype)  # type: ignore\n",
    "Ue = element(\"Lagrange\", msh.basix_cell(), 2, shape=(gdim,), dtype=rtype)  # type: ignore\n",
    "S = functionspace(msh, Se)\n",
    "U = functionspace(msh, Ue)"
   ]
  },
  {
   "cell_type": "markdown",
   "id": "69763444",
   "metadata": {},
   "source": [
    "Next, we define the trial and test functions for stress and displacement,"
   ]
  },
  {
   "cell_type": "code",
   "execution_count": null,
   "id": "c8c6c1b3",
   "metadata": {},
   "outputs": [],
   "source": [
    "sigma, tau = ufl.TrialFunction(S), ufl.TestFunction(S)\n",
    "u, v = ufl.TrialFunction(U), ufl.TestFunction(U)"
   ]
  },
  {
   "cell_type": "markdown",
   "id": "4e740ecb",
   "metadata": {},
   "source": [
    "Locate all facets at the free end and assign them value 1. Sort the\n",
    "facet indices (requirement for constructing {py:class}`MeshTags\n",
    "<dolfinx.mesh.MeshTags>`)."
   ]
  },
  {
   "cell_type": "code",
   "execution_count": null,
   "id": "8f7321bf",
   "metadata": {},
   "outputs": [],
   "source": [
    "tdim = msh.topology.dim\n",
    "free_end_facets = np.sort(locate_entities_boundary(msh, tdim - 1, lambda x: np.isclose(x[0], 48.0)))\n",
    "mt = meshtags(msh, tdim - 1, free_end_facets, 1)"
   ]
  },
  {
   "cell_type": "markdown",
   "id": "aac23da2",
   "metadata": {},
   "source": [
    "Next, we create an integration measure with the facet markers."
   ]
  },
  {
   "cell_type": "code",
   "execution_count": null,
   "id": "73137c25",
   "metadata": {},
   "outputs": [],
   "source": [
    "ds = ufl.Measure(\"ds\", subdomain_data=mt)"
   ]
  },
  {
   "cell_type": "markdown",
   "id": "b2b418c5",
   "metadata": {},
   "source": [
    "Homogeneous boundary condition in displacement"
   ]
  },
  {
   "cell_type": "code",
   "execution_count": null,
   "id": "d3662d93",
   "metadata": {},
   "outputs": [],
   "source": [
    "u_bc = Function(U)\n",
    "u_bc.x.array[:] = 0"
   ]
  },
  {
   "cell_type": "markdown",
   "id": "c894398c",
   "metadata": {},
   "source": [
    "Displacement {py:class}`BC <dolfinx.fem.dirichletbc>` is applied to\n",
    "the left side"
   ]
  },
  {
   "cell_type": "code",
   "execution_count": null,
   "id": "cf6bd06f",
   "metadata": {},
   "outputs": [],
   "source": [
    "left_facets = locate_entities_boundary(msh, tdim - 1, lambda x: np.isclose(x[0], 0.0))\n",
    "bdofs = locate_dofs_topological(U, tdim - 1, left_facets)\n",
    "bc = dirichletbc(u_bc, bdofs)"
   ]
  },
  {
   "cell_type": "markdown",
   "id": "486b5197",
   "metadata": {},
   "source": [
    "Elastic stiffness tensor and Poisson ratio"
   ]
  },
  {
   "cell_type": "code",
   "execution_count": null,
   "id": "de596182",
   "metadata": {},
   "outputs": [],
   "source": [
    "E, nu = 1.0, 1.0 / 3.0\n",
    "\n",
    "\n",
    "def sigma_u(u):\n",
    "    \"\"\"Constitutive relation for stress-strain. Assuming plane-stress in\n",
    "    XY\"\"\"\n",
    "    eps = 0.5 * (ufl.grad(u) + ufl.grad(u).T)\n",
    "    sigma = E / (1.0 - nu**2) * ((1.0 - nu) * eps + nu * ufl.Identity(2) * ufl.tr(eps))\n",
    "    return sigma"
   ]
  },
  {
   "cell_type": "markdown",
   "id": "78825d0f",
   "metadata": {},
   "source": [
    "With the definitions above, we can define the different blocks\n",
    "of the variational formulation"
   ]
  },
  {
   "cell_type": "code",
   "execution_count": null,
   "id": "f7d291cb",
   "metadata": {},
   "outputs": [],
   "source": [
    "a00 = ufl.inner(sigma, tau) * ufl.dx\n",
    "a10 = -ufl.inner(sigma, ufl.grad(v)) * ufl.dx\n",
    "a01 = -ufl.inner(sigma_u(u), tau) * ufl.dx\n",
    "\n",
    "f = ufl.as_vector([0.0, 1.0 / 16])\n",
    "b1 = form(-ufl.inner(f, v) * ds(1), dtype=dtype)  # type: ignore"
   ]
  },
  {
   "cell_type": "markdown",
   "id": "97443baa",
   "metadata": {},
   "source": [
    "To generate (C-code) and JIT compile the kernels, we use\n",
    "{py:func}`ffcx_jit <dolfinx.jit.ffcx_jit>` for each individual block.\n",
    "We extract the kernel function from the compiled form object by\n",
    "getting the `tabulate_tensor_{dtype}` attribute of the compiled form."
   ]
  },
  {
   "cell_type": "code",
   "execution_count": null,
   "id": "d47dd7c3",
   "metadata": {},
   "outputs": [],
   "source": [
    "ufcx00, _, _ = ffcx_jit(msh.comm, a00, form_compiler_options={\"scalar_type\": dtype})  # type: ignore\n",
    "kernel00 = getattr(ufcx00.form_integrals[0], f\"tabulate_tensor_{np.dtype(dtype).name}\")  # type: ignore\n",
    "\n",
    "ufcx01, _, _ = ffcx_jit(msh.comm, a01, form_compiler_options={\"scalar_type\": dtype})  # type: ignore\n",
    "kernel01 = getattr(ufcx01.form_integrals[0], f\"tabulate_tensor_{np.dtype(dtype).name}\")  # type: ignore\n",
    "\n",
    "ufcx10, _, _ = ffcx_jit(msh.comm, a10, form_compiler_options={\"scalar_type\": dtype})  # type: ignore\n",
    "kernel10 = getattr(ufcx10.form_integrals[0], f\"tabulate_tensor_{np.dtype(dtype).name}\")  # type: ignore"
   ]
  },
  {
   "cell_type": "code",
   "execution_count": null,
   "id": "60eee12f",
   "metadata": {},
   "outputs": [],
   "source": [
    "ffi = cffi.FFI()\n",
    "if np.issubdtype(dtype, np.complexfloating):\n",
    "    if cffi.__version_info__ > (1, 16, 99) and cffi.__version_info__ <= (1, 17, 1):\n",
    "        print(\n",
    "            \"CFFI 1.17.0 and 1.17.1 has a bug for complex type.\"\n",
    "            \"See https://github.com/FEniCS/dolfinx/pull/3635. Exiting.\"\n",
    "        )\n",
    "        exit(0)\n",
    "    cffi_support.register_type(ffi.typeof(\"double _Complex\"), numba.types.complex128)"
   ]
  },
  {
   "cell_type": "markdown",
   "id": "1502a1da",
   "metadata": {},
   "source": [
    "Get local dofmap sizes for later local tensor tabulations"
   ]
  },
  {
   "cell_type": "code",
   "execution_count": null,
   "id": "c6b3c35f",
   "metadata": {
    "lines_to_next_cell": 2
   },
   "outputs": [],
   "source": [
    "Ssize = S.element.space_dimension\n",
    "Usize = U.element.space_dimension"
   ]
  },
  {
   "cell_type": "markdown",
   "id": "f9980da4",
   "metadata": {
    "lines_to_next_cell": 2
   },
   "source": [
    "Next, we define a static condensation kernel that uses the\n",
    "previously defined kernels to compute the condensed local element\n",
    "tensor. The kernel is decorated with {py:func}`numba.cfunc` using the\n",
    "appropriate signature obtained from {py:func}`ufcx_signature`.`"
   ]
  },
  {
   "cell_type": "code",
   "execution_count": null,
   "id": "9aea4028",
   "metadata": {},
   "outputs": [],
   "source": [
    "@numba.cfunc(ufcx_signature(dtype, rtype), nopython=True)  # type: ignore\n",
    "def tabulate_A(A_, w_, c_, coords_, entity_local_index, permutation=ffi.NULL, custom_data=None):\n",
    "    \"\"\"Element kernel that applies static condensation.\"\"\"\n",
    "\n",
    "    # Prepare target condensed local element tensor\n",
    "    A = numba.carray(A_, (Usize, Usize), dtype=dtype)\n",
    "\n",
    "    # Tabulate all sub blocks locally\n",
    "    A00 = np.zeros((Ssize, Ssize), dtype=dtype)\n",
    "    kernel00(\n",
    "        ffi.from_buffer(A00),\n",
    "        w_,\n",
    "        c_,\n",
    "        coords_,\n",
    "        entity_local_index,\n",
    "        permutation,\n",
    "        empty_void_pointer(),\n",
    "    )\n",
    "\n",
    "    A01 = np.zeros((Ssize, Usize), dtype=dtype)\n",
    "    kernel01(\n",
    "        ffi.from_buffer(A01),\n",
    "        w_,\n",
    "        c_,\n",
    "        coords_,\n",
    "        entity_local_index,\n",
    "        permutation,\n",
    "        empty_void_pointer(),\n",
    "    )\n",
    "\n",
    "    A10 = np.zeros((Usize, Ssize), dtype=dtype)\n",
    "    kernel10(\n",
    "        ffi.from_buffer(A10),\n",
    "        w_,\n",
    "        c_,\n",
    "        coords_,\n",
    "        entity_local_index,\n",
    "        permutation,\n",
    "        empty_void_pointer(),\n",
    "    )\n",
    "\n",
    "    # A = - A10 * A00^{-1} * A01\n",
    "    A[:, :] = -A10 @ np.linalg.solve(A00, A01)"
   ]
  },
  {
   "cell_type": "markdown",
   "id": "3b01bf7d",
   "metadata": {},
   "source": [
    "Prepare a {py:class}`Form<dolfinx.fem.Form>` with a condensed\n",
    "tabulation kernel. We specify the integration domains to be the\n",
    "cells owned by the current process"
   ]
  },
  {
   "cell_type": "code",
   "execution_count": null,
   "id": "7cc4c782",
   "metadata": {},
   "outputs": [],
   "source": [
    "formtype = form_cpp_class(dtype)  # type: ignore\n",
    "cells = np.arange(msh.topology.index_map(msh.topology.dim).size_local)\n",
    "integrals = {IntegralType.cell: [(0, tabulate_A.address, cells, np.array([], dtype=np.int8))]}\n",
    "a_cond = Form(\n",
    "    formtype([U._cpp_object, U._cpp_object], integrals, [], [], False, [], mesh=msh._cpp_object)\n",
    ")"
   ]
  },
  {
   "cell_type": "markdown",
   "id": "4e4401c1",
   "metadata": {},
   "source": [
    "Next, we pass the compiled kernel to the standard {py:func}`\n",
    "assemble_matrix <dolfinx.fem.petsc.assemble_matrix>` function to assemble\n",
    "to the global condensed stiffness matrix. We also assemble the right-hand\n",
    "side vector using {py:func}`assemble_vector\n",
    "<dolfinx.fem.petsc.assemble_vector>` and apply the boundary conditions by\n",
    "{py:func}`applying lifting <dolfinx.fem.petsc.apply_lifting>` and\n",
    "{py:meth}`set bc<dolfinx.fem.DirichletBC.set>`."
   ]
  },
  {
   "cell_type": "code",
   "execution_count": null,
   "id": "54f3bb99",
   "metadata": {},
   "outputs": [],
   "source": [
    "A_cond = assemble_matrix(a_cond, bcs=[bc])\n",
    "A_cond.assemble()\n",
    "b = assemble_vector(b1)\n",
    "apply_lifting(b, [a_cond], bcs=[[bc]])\n",
    "b.ghostUpdate(addv=PETSc.InsertMode.ADD, mode=PETSc.ScatterMode.REVERSE)  # type: ignore\n",
    "bc.set(b)"
   ]
  },
  {
   "cell_type": "markdown",
   "id": "1a7cc840",
   "metadata": {},
   "source": [
    "We use a {py:class}`PETSc.KSP <petsc4py.PETSc.KSP>` solver to solve the\n",
    "condensed linear system. The solution is stored in a\n",
    "{py:class}`Function<dolfinx.fem.Function>`, while we pass the\n",
    "underlying data wrapped as a {py:class}`PETSc.Vec <petsc4py.PETSc.Vec>`\n",
    "to the solver by calling {py:meth}`petsc_vec\n",
    "<dolfinx.la.Vector.petsc_vec>` on the\n",
    "{py:meth}`vector <dolfinx.fem.Function.x>` attribute of the function."
   ]
  },
  {
   "cell_type": "code",
   "execution_count": null,
   "id": "8841bfb7",
   "metadata": {},
   "outputs": [],
   "source": [
    "uc = Function(U, name=\"u_from_condensation\")\n",
    "solver = PETSc.KSP().create(A_cond.getComm())  # type: ignore\n",
    "solver.setOperators(A_cond)\n",
    "solver.solve(b, uc.x.petsc_vec)\n",
    "solver.destroy()"
   ]
  },
  {
   "cell_type": "markdown",
   "id": "c47ee384",
   "metadata": {},
   "source": [
    "We verify the condensed solution by comparing against a standard,\n",
    "pure displacement based formulation"
   ]
  },
  {
   "cell_type": "code",
   "execution_count": null,
   "id": "522660ad",
   "metadata": {},
   "outputs": [],
   "source": [
    "a = form(-ufl.inner(sigma_u(u), ufl.grad(v)) * ufl.dx)\n",
    "A = assemble_matrix(a, bcs=[bc])\n",
    "A.assemble()"
   ]
  },
  {
   "cell_type": "markdown",
   "id": "2e0165e0",
   "metadata": {},
   "source": [
    "Create {py:class}`BoundingBoxTree <dolfinx.geometry.BoundingBoxTree>`\n",
    "using {py:meth}`bb_tree <dolfinx.geometry.bb_tree>` constructor\n",
    "for efficient computation of the ownership of a set of evaluation points"
   ]
  },
  {
   "cell_type": "code",
   "execution_count": null,
   "id": "672d0b69",
   "metadata": {},
   "outputs": [],
   "source": [
    "bb_tree = geometry.bb_tree(msh, tdim, padding=0.0)"
   ]
  },
  {
   "cell_type": "markdown",
   "id": "781b04aa",
   "metadata": {},
   "source": [
    "Check against standard table value"
   ]
  },
  {
   "cell_type": "code",
   "execution_count": null,
   "id": "9b7bb467",
   "metadata": {},
   "outputs": [],
   "source": [
    "p = np.array([[48.0, 52.0, 0.0]], dtype=np.float64)\n",
    "cell_candidates = geometry.compute_collisions_points(bb_tree, p)\n",
    "cells = geometry.compute_colliding_cells(msh, cell_candidates, p).array"
   ]
  },
  {
   "cell_type": "code",
   "execution_count": null,
   "id": "d6825869",
   "metadata": {},
   "outputs": [],
   "source": [
    "uc.x.scatter_forward()\n",
    "if len(cells) > 0:\n",
    "    value = uc.eval(p, cells[0])\n",
    "    print(value[1])\n",
    "    assert np.isclose(value[1], 23.95, rtol=1.0e-2)"
   ]
  },
  {
   "cell_type": "markdown",
   "id": "8e191629",
   "metadata": {},
   "source": [
    "Check the equality of displacement based and mixed condensed global\n",
    "matrices, i.e. check that condensation is exact"
   ]
  },
  {
   "cell_type": "code",
   "execution_count": null,
   "id": "f1577004",
   "metadata": {},
   "outputs": [],
   "source": [
    "assert np.isclose((A - A_cond).norm(), 0.0)"
   ]
  }
 ],
 "metadata": {
  "jupytext": {
   "main_language": "python"
  }
 },
 "nbformat": 4,
 "nbformat_minor": 5
}

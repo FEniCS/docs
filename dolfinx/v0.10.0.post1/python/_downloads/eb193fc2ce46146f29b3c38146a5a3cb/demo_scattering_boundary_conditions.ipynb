{
 "cells": [
  {
   "cell_type": "markdown",
   "id": "9cbb1f77",
   "metadata": {},
   "source": [
    "# Electromagnetic scattering from a wire with scattering BCs\n",
    "\n",
    "Copyright (C) 2022 Michele Castriotta, Igor Baratta, Jørgen S. Dokken\n",
    "\n",
    "```{admonition} Download sources\n",
    ":class: download\n",
    "* {download}`Python script\n",
    "<./demo_scattering_boundary_conditions.py>`\n",
    "* {download}`Jupyter notebook\n",
    "<./demo_scattering_boundary_conditions.ipynb>`\n",
    "```\n",
    "\n",
    "This demo illustrates how to:\n",
    "\n",
    "- Use complex quantities in FEniCSx\n",
    "- Setup and solve Maxwell's equations\n",
    "- Implement Scattering Boundary Conditions\n",
    "\n",
    "First of all, let's import the modules that will be used:"
   ]
  },
  {
   "cell_type": "code",
   "execution_count": null,
   "id": "49e35d9e",
   "metadata": {},
   "outputs": [],
   "source": [
    "import sys\n",
    "from pathlib import Path\n",
    "\n",
    "from mpi4py import MPI\n",
    "from petsc4py import PETSc\n",
    "\n",
    "import gmsh\n",
    "import numpy as np\n",
    "from scipy.special import h2vp, hankel2, jv, jvp\n",
    "\n",
    "import ufl\n",
    "from basix.ufl import element\n",
    "from dolfinx import default_real_type, default_scalar_type, fem, io, plot\n",
    "from dolfinx.fem.petsc import LinearProblem\n",
    "\n",
    "try:\n",
    "    import pyvista\n",
    "\n",
    "    have_pyvista = True\n",
    "except ModuleNotFoundError:\n",
    "    print(\"pyvista and pyvistaqt are required to visualise the solution\")\n",
    "    have_pyvista = False\n",
    "\n",
    "if PETSc.IntType == np.int64 and MPI.COMM_WORLD.size > 1:\n",
    "    print(\"This solver fails with PETSc and 64-bit integers becaude of memory errors in MUMPS.\")\n",
    "    # Note: when PETSc.IntType == np.int32, superlu_dist is used rather\n",
    "    # than MUMPS and does not trigger memory failures.\n",
    "    exit(0)\n"
   ]
  },
  {
   "cell_type": "markdown",
   "id": "6557d770",
   "metadata": {
    "lines_to_next_cell": 2
   },
   "source": [
    "## Mesh generation\n",
    "First, we define the `generate_mesh_wire` function, which is used to\n",
    "generate the mesh used for scattering boundary conditions demo. The\n",
    "mesh is made up by a central circle representing the wire, and an\n",
    "external circle, which represents the external boundary of our domain,\n",
    "where scattering boundary conditions are applied. The\n",
    "`generate_mesh_wire` function takes as input:\n",
    "\n",
    "- `radius_wire`: the radius of the wire\n",
    "- `radius_dom`: the radius of the external boundary\n",
    "- `in_wire_size`: the mesh size at a distance `0.8 * radius_wire` from\n",
    "  the origin\n",
    "- `on_wire_size`: the mesh size on the wire boundary\n",
    "- `bkg_size`: the mesh size at a distance `0.9 * radius_dom` from the\n",
    "  origin\n",
    "- `boundary_size`: the mesh size on the external boundary\n",
    "- `au_tag`: the tag of the physical group representing the wire\n",
    "- `bkg_tag`: the tag of the physical group representing the background\n",
    "- `boundary_tag`: the tag of the physical group representing the\n",
    "  boundary\n",
    "\n",
    "In particular, `bkg_size` and `boundary_size` are necessary to set a\n",
    "finer mesh on the external boundary (to improve the accuracy of the\n",
    "scattering efficiency calculation) while keenp.ping a coarser size over\n",
    "the rest of the domain."
   ]
  },
  {
   "cell_type": "code",
   "execution_count": null,
   "id": "5c608a50",
   "metadata": {
    "lines_to_next_cell": 2
   },
   "outputs": [],
   "source": [
    "def generate_mesh_wire(\n",
    "    radius_wire: float,\n",
    "    radius_dom: float,\n",
    "    in_wire_size: float,\n",
    "    on_wire_size: float,\n",
    "    bkg_size: float,\n",
    "    boundary_size: float,\n",
    "    au_tag: int,\n",
    "    bkg_tag: int,\n",
    "    boundary_tag: int,\n",
    "):\n",
    "    gmsh.model.add(\"wire\")\n",
    "\n",
    "    # A dummy boundary is added for setting a finer mesh\n",
    "    gmsh.model.occ.addCircle(0.0, 0.0, 0.0, radius_wire * 0.8, angle1=0.0, angle2=2 * np.pi, tag=1)\n",
    "    gmsh.model.occ.addCircle(0.0, 0.0, 0.0, radius_wire, angle1=0, angle2=2 * np.pi, tag=2)\n",
    "\n",
    "    # A dummy boundary is added for setting a finer mesh\n",
    "    gmsh.model.occ.addCircle(0.0, 0.0, 0.0, radius_dom * 0.9, angle1=0.0, angle2=2 * np.pi, tag=3)\n",
    "    gmsh.model.occ.addCircle(0.0, 0.0, 0.0, radius_dom, angle1=0.0, angle2=2 * np.pi, tag=4)\n",
    "\n",
    "    gmsh.model.occ.addCurveLoop([1], tag=1)\n",
    "    gmsh.model.occ.addPlaneSurface([1], tag=1)\n",
    "\n",
    "    gmsh.model.occ.addCurveLoop([2], tag=2)\n",
    "    gmsh.model.occ.addCurveLoop([1], tag=3)\n",
    "    gmsh.model.occ.addPlaneSurface([2, 3], tag=2)\n",
    "\n",
    "    gmsh.model.occ.addCurveLoop([3], tag=4)\n",
    "    gmsh.model.occ.addCurveLoop([2], tag=5)\n",
    "    gmsh.model.occ.addPlaneSurface([4, 5], tag=3)\n",
    "\n",
    "    gmsh.model.occ.addCurveLoop([4], tag=6)\n",
    "    gmsh.model.occ.addCurveLoop([3], tag=7)\n",
    "    gmsh.model.occ.addPlaneSurface([6, 7], tag=4)\n",
    "\n",
    "    gmsh.model.occ.synchronize()\n",
    "\n",
    "    gmsh.model.addPhysicalGroup(2, [1, 2], tag=au_tag)\n",
    "    gmsh.model.addPhysicalGroup(2, [3, 4], tag=bkg_tag)\n",
    "\n",
    "    gmsh.model.addPhysicalGroup(1, [4], tag=boundary_tag)\n",
    "\n",
    "    gmsh.model.mesh.setSize([(0, 1)], size=in_wire_size)\n",
    "    gmsh.model.mesh.setSize([(0, 2)], size=on_wire_size)\n",
    "    gmsh.model.mesh.setSize([(0, 3)], size=bkg_size)\n",
    "    gmsh.model.mesh.setSize([(0, 4)], size=boundary_size)\n",
    "\n",
    "    gmsh.model.mesh.generate(2)\n",
    "\n",
    "    return gmsh.model"
   ]
  },
  {
   "cell_type": "markdown",
   "id": "6052b81d",
   "metadata": {
    "lines_to_next_cell": 2
   },
   "source": [
    "(em_efficiencies)=\n",
    "## Mathematical formulation\n",
    "Next, we define the mathematical formulation for the calculation of the\n",
    "absorption, scattering and extinction efficiencies of a wire\n",
    "being hit normally by a TM-polarized electromagnetic wave.\n",
    "\n",
    "The formulas are taken from:\n",
    "Milton Kerker, [The Scattering of Light and Other Electromagnetic\n",
    "Radiation, Chapter 6, Elsevier, 1969.](https://doi.org/10.1016/B978-0-12-404550-7.50012-9)\n",
    "\n",
    "First of all, let's define the parameters of the problem:\n",
    "\n",
    "- $n = \\sqrt{\\varepsilon}$: refractive index of the wire,\n",
    "- $n_b$: refractive index of the background medium,\n",
    "- $m = n/n_b$: relative refractive index of the wire,\n",
    "- $\\lambda_0$: wavelength of the electromagnetic wave,\n",
    "- $r_w$: radius of the cross-section of the wire,\n",
    "- $\\alpha = 2\\pi r_w n_b/\\lambda_0$.\n",
    "\n",
    "Now, let's define the $a_\\nu$ coefficients as:\n",
    "\n",
    "$$\n",
    "\\begin{equation}\n",
    "a_\\nu=\\frac{J_\\nu(\\alpha) J_\\nu^{\\prime}(m \\alpha)-m J_\\nu(m \\alpha)\n",
    "J_\\nu^{\\prime}(\\alpha)}{H_\\nu^{(2)}(\\alpha) J_\\nu^{\\prime}(m \\alpha)\n",
    "-m J_\\nu(m \\alpha) H_\\nu^{(2){\\prime}}(\\alpha)}\n",
    "\\end{equation}\n",
    "$$\n",
    "\n",
    "where:\n",
    "- $J_\\nu(x)$: $\\nu$-th order Bessel function of the first kind,\n",
    "- $J_\\nu^{\\prime}(x)$: first derivative with respect to $x$ of\n",
    "the $\\nu$-th order Bessel function of the first kind,\n",
    "- $H_\\nu^{(2)}(x)$: $\\nu$-th order Hankel function of the second kind,\n",
    "- $H_\\nu^{(2){\\prime}}(x)$: first derivative with respect to $x$ of\n",
    "the $\\nu$-th order Hankel function of the second kind.\n",
    "\n",
    "We can now calculate the scattering, extinction and absorption\n",
    "efficiencies as:\n",
    "\n",
    "$$\n",
    "& q_{\\mathrm{sca}}=(2 / \\alpha)\\left[\\left|a_0\\right|^{2}\n",
    "+2 \\sum_{\\nu=1}^{\\infty}\\left|a_\\nu\\right|^{2}\\right] \\\\\n",
    "& q_{\\mathrm{ext}}=(2 / \\alpha) \\operatorname{Re}\\left[ a_0\n",
    "+2 \\sum_{\\nu=1}^{\\infty} a_\\nu\\right] \\\\\n",
    "& q_{\\mathrm{abs}} = q_{\\mathrm{ext}} - q_{\\mathrm{sca}}\n",
    "$$"
   ]
  },
  {
   "cell_type": "code",
   "execution_count": null,
   "id": "62fc5f67",
   "metadata": {
    "lines_to_next_cell": 0
   },
   "outputs": [],
   "source": [
    "# The functions that we import from `scipy.special` correspond to:\n",
    "#\n",
    "# - `jv(nu, x)` ⟷ $J_\\nu(x)$,\n",
    "# - `jvp(nu, x, 1)` ⟷ $J_\\nu^{\\prime}(x)$,\n",
    "# - `hankel2(nu, x)` ⟷ $H_\\nu^{(2)}(x)$,\n",
    "# - `h2vp(nu, x, 1)` ⟷ $H_\\nu^{(2){\\prime}}(x)$.\n",
    "#\n",
    "# Next, we define a function for calculating the analytical efficiencies\n",
    "# in Python. The inputs of the function are:\n",
    "#\n",
    "# - `eps` ⟷ $\\varepsilon$,\n",
    "# - `n_bkg` ⟷ $n_b$,\n",
    "# - `wl0` ⟷ $\\lambda_0$,\n",
    "# - `radius_wire` ⟷ $r_w$.\n",
    "#\n",
    "# We also define a nested function for the calculation of $a_l$. For the\n",
    "# final calculation of the efficiencies, the summation over the different\n",
    "# orders of the Bessel functions is truncated at $\\nu=50$."
   ]
  },
  {
   "cell_type": "code",
   "execution_count": null,
   "id": "f9d3a182",
   "metadata": {},
   "outputs": [],
   "source": [
    "def compute_a(nu: int, m: complex, alpha: float) -> float:\n",
    "    J_nu_alpha = jv(nu, alpha)\n",
    "    J_nu_malpha = jv(nu, m * alpha)\n",
    "    J_nu_alpha_p = jvp(nu, alpha, 1)\n",
    "    J_nu_malpha_p = jvp(nu, m * alpha, 1)\n",
    "\n",
    "    H_nu_alpha = hankel2(nu, alpha)\n",
    "    H_nu_alpha_p = h2vp(nu, alpha, 1)\n",
    "\n",
    "    a_nu_num = J_nu_alpha * J_nu_malpha_p - m * J_nu_malpha * J_nu_alpha_p\n",
    "    a_nu_den = H_nu_alpha * J_nu_malpha_p - m * J_nu_malpha * H_nu_alpha_p\n",
    "    return a_nu_num / a_nu_den\n",
    "\n",
    "\n",
    "def calculate_analytical_efficiencies(\n",
    "    eps: complex, n_bkg: float, wl0: float, radius_wire: float, num_n: int = 50\n",
    ") -> tuple[float, float, float]:\n",
    "    m = np.sqrt(np.conj(eps)) / n_bkg\n",
    "    alpha = 2 * np.pi * radius_wire / wl0 * n_bkg\n",
    "    c = 2 / alpha\n",
    "    q_ext = c * np.real(compute_a(0, m, alpha))\n",
    "    q_sca = c * np.abs(compute_a(0, m, alpha)) ** 2\n",
    "    for nu in range(1, num_n + 1):\n",
    "        q_ext += c * 2 * np.real(compute_a(nu, m, alpha))\n",
    "        q_sca += c * 2 * np.abs(compute_a(nu, m, alpha)) ** 2\n",
    "    return q_ext - q_sca, q_sca, q_ext"
   ]
  },
  {
   "cell_type": "markdown",
   "id": "ad337d0a",
   "metadata": {},
   "source": [
    "Since we want to solve time-harmonic Maxwell's equation, we need to\n",
    "solve a complex-valued PDE, and therefore need to use PETSc compiled\n",
    "with complex numbers."
   ]
  },
  {
   "cell_type": "code",
   "execution_count": null,
   "id": "1af94cba",
   "metadata": {
    "lines_to_next_cell": 2
   },
   "outputs": [],
   "source": [
    "if not np.issubdtype(default_scalar_type, np.complexfloating):\n",
    "    print(\"Demo should only be executed with DOLFINx complex mode\")\n",
    "    exit(0)"
   ]
  },
  {
   "cell_type": "markdown",
   "id": "81d52673",
   "metadata": {},
   "source": [
    "Now, let's consider an infinite metallic wire immersed in a background\n",
    "medium (e.g. vacuum or water). Let's now consider the plane cutting\n",
    "the wire perpendicularly to its axis at a generic point. Such plane\n",
    "$\\Omega=\\Omega_{m} \\cup\\Omega_{b}$ is formed by the cross-section of\n",
    "the wire $\\Omega_m$ and the background medium $\\Omega_{b}$ surrounding\n",
    "the wire. Let's consider just the portion of this plane delimited by\n",
    "an external circular boundary $\\partial \\Omega$. We want to calculate\n",
    "the electric field $\\mathbf{E}_s$ scattered by the wire when a\n",
    "background wave $\\mathbf{E}_b$ impinges on it. We will consider a\n",
    "background plane wave at $\\lambda_0$ wavelength, that can be written\n",
    "analytically as:\n",
    "\n",
    "$$\n",
    "\\mathbf{E}_b = \\exp(\\mathbf{k}\\cdot\\mathbf{r})\\hat{\\mathbf{u}}_p\n",
    "$$\n",
    "\n",
    "with $\\mathbf{k} = \\frac{2\\pi}{\\lambda_0}n_b\\hat{\\mathbf{u}}_k$ being\n",
    "the wavevector of the plane wave, pointing along the propagation\n",
    "direction, with $\\hat{\\mathbf{u}}_p$ being the polarization direction,\n",
    "and with $\\mathbf{r}$ being a point in $\\Omega$. We will only consider\n",
    "$\\hat{\\mathbf{u}}_k$ and $\\hat{\\mathbf{u}}_p$ with components\n",
    "belonging to the $\\Omega$ domain and perpendicular to each other, i.e.\n",
    "$\\hat{\\mathbf{u}}_k \\perp \\hat{\\mathbf{u}}_p$ (transversality\n",
    "condition of plane waves). Using a Cartesian coordinate system for\n",
    "$\\Omega$, and by defining $k_x = n_bk_0\\cos\\theta$ and $k_y =\n",
    "n_bk_0\\sin\\theta$, with $\\theta$ being the angle defined by the\n",
    "propagation direction $\\hat{\\mathbf{u}}_k$ and the horizontal axis\n",
    "$\\hat{\\mathbf{u}}_x$, we have:\n",
    "\n",
    "$$\n",
    "\\mathbf{E}_b = -\\sin\\theta e^{j (k_xx+k_yy)}\\hat{\\mathbf{u}}_x\n",
    "+ \\cos\\theta e^{j (k_xx+k_yy)}\\hat{\\mathbf{u}}_y\n",
    "$$\n",
    "\n",
    "The following class implements this functions. The inputs to the\n",
    "function are the angle $\\theta$, the background refractive index $n_b$\n",
    "and the vacuum wavevector $k_0$."
   ]
  },
  {
   "cell_type": "code",
   "execution_count": null,
   "id": "836f84c2",
   "metadata": {
    "lines_to_end_of_cell_marker": 2
   },
   "outputs": [],
   "source": [
    "\n",
    "\n",
    "class BackgroundElectricField:\n",
    "    def __init__(self, theta: float, n_bkg: float, k0: complex):\n",
    "        self.theta = theta  # incident angle\n",
    "        self.k0 = k0  # vacuum wavevector\n",
    "        self.n_bkg = n_bkg  # background refractive index\n",
    "\n",
    "    def eval(\n",
    "        self, x: np.typing.NDArray[np.float64]\n",
    "    ) -> tuple[np.typing.NDArray[np.complex128], np.typing.NDArray[np.complex128]]:\n",
    "        kx = self.n_bkg * self.k0 * np.cos(self.theta)\n",
    "        ky = self.n_bkg * self.k0 * np.sin(self.theta)\n",
    "        phi = kx * x[0] + ky * x[1]\n",
    "        ax, ay = np.sin(self.theta), np.cos(self.theta)\n",
    "        return (-ax * np.exp(1j * phi), ay * np.exp(1j * phi))"
   ]
  },
  {
   "cell_type": "markdown",
   "id": "252aed21",
   "metadata": {
    "lines_to_next_cell": 2
   },
   "source": [
    "The Maxwell's equation for scattering problems takes the following\n",
    "form:\n",
    "\n",
    "$$\n",
    "-\\nabla \\times \\nabla \\times \\mathbf{E}_s+\\varepsilon_{r} k_{0}^{2}\n",
    "\\mathbf{E}_s\n",
    "+k_{0}^{2}\\left(\\varepsilon_{r}-\\varepsilon_{b}\\right)\n",
    "\\mathbf{E}_{\\mathrm{b}}=0 \\textrm{ in } \\Omega,\n",
    "$$\n",
    "\n",
    "where $k_0 = 2\\pi/\\lambda_0$ is the vacuum wavevector of the\n",
    "background field, $\\varepsilon_b$ is the background relative\n",
    "permittivity and $\\varepsilon_r$ is the relative permittivity as a\n",
    "function of space, i.e.:\n",
    "\n",
    "$$\n",
    "\\varepsilon_r = \\begin{cases}\n",
    "\\varepsilon_m & \\textrm{on }\\Omega_m \\\\\n",
    "\\varepsilon_b & \\textrm{on }\\Omega_b\n",
    "\\end{cases}\n",
    "$$\n",
    "\n",
    "with $\\varepsilon_m$ being the relative permittivity of the metallic\n",
    "wire. As reference values, we will consider $\\lambda_0 =\n",
    "400\\textrm{nm}$ (violet light), $\\varepsilon_b = 1.33^2$ (relative\n",
    "permittivity of water), and $\\varepsilon_m = -1.0782 +\n",
    "5.8089\\textrm{j}$ (relative permittivity of gold at $400\\textrm{nm}$).\n",
    "\n",
    "To form a well-determined system, we add boundary conditions on\n",
    "$\\partial \\Omega$. It is common to use scattering boundary conditions\n",
    "(ref), which make the boundary transparent for $\\mathbf{E}_s$,\n",
    "allowing us to restrict the computational boundary to a finite\n",
    "$\\Omega$ domain. The first-order boundary conditions in the 2D case\n",
    "take the following form:\n",
    "\n",
    "$$\\mathbf{n} \\times\n",
    "\\nabla \\times \\mathbf{E}_s+\\left(j k_{0}n_b + \\frac{1}{2r}\n",
    "\\right) \\mathbf{n} \\times \\mathbf{E}_s\n",
    "\\times \\mathbf{n}=0\\quad \\textrm{ on } \\partial \\Omega,\n",
    "$$\n",
    "\n",
    "\n",
    "with $n_b = \\sqrt{\\varepsilon_b}$ being the background refractive\n",
    "index, $\\mathbf{n}$ being the normal vector to $\\partial \\Omega$, and\n",
    "$r = \\sqrt{(x-x_s)^2 + (y-y_s)^2}$ being the distance of the $(x, y)$\n",
    "point on $\\partial\\Omega$ from the wire centered in $(x_s, y_s)$. We\n",
    "consider a wired centered at the origin, i.e. $r =\\sqrt{x^2 + y^2}$.\n",
    "\n",
    "The radial distance function $r(x)$ and $\\nabla \\times$ operator for a\n",
    "2D vector (in UFL syntax) is defined below.\n"
   ]
  },
  {
   "cell_type": "code",
   "execution_count": null,
   "id": "0d317de1",
   "metadata": {
    "lines_to_end_of_cell_marker": 2
   },
   "outputs": [],
   "source": [
    "def radial_distance(x: ufl.SpatialCoordinate):\n",
    "    \"\"\"Returns the radial distance from the origin\"\"\"\n",
    "    return ufl.sqrt(x[0] ** 2 + x[1] ** 2)\n",
    "\n",
    "\n",
    "def curl_2d(f: fem.Function):\n",
    "    \"\"\"Returns the curl of two 2D vectors as a 3D vector\"\"\"\n",
    "    return ufl.as_vector((0, 0, f[1].dx(0) - f[0].dx(1)))"
   ]
  },
  {
   "cell_type": "markdown",
   "id": "99ea785d",
   "metadata": {
    "lines_to_next_cell": 2
   },
   "source": [
    "Next we define some mesh specific parameters. Please notice that the\n",
    "length units are normalized with respect to $1\\mu m$."
   ]
  },
  {
   "cell_type": "code",
   "execution_count": null,
   "id": "8bc7a63f",
   "metadata": {},
   "outputs": [],
   "source": [
    "pi = np.pi\n",
    "epsilon_0 = 8.8541878128 * 10**-12\n",
    "mu_0 = 4 * pi * 10**-7\n",
    "\n",
    "# Radius of the wire and of the boundary of the domain\n",
    "radius_wire = 0.050\n",
    "radius_dom = 1\n",
    "\n",
    "# The smaller the mesh_factor, the finer is the mesh\n",
    "mesh_factor = 1.2\n",
    "\n",
    "# Mesh size inside the wire\n",
    "in_wire_size = mesh_factor * 7.0e-3\n",
    "\n",
    "# Mesh size at the boundary of the wire\n",
    "on_wire_size = mesh_factor * 3.0e-3\n",
    "\n",
    "# Mesh size in the background\n",
    "bkg_size = mesh_factor * 60.0e-3\n",
    "\n",
    "# Mesh size at the boundary\n",
    "boundary_size = mesh_factor * 30.0e-3\n",
    "\n",
    "# Tags for the subdomains\n",
    "au_tag = 1  # gold wire\n",
    "bkg_tag = 2  # background\n",
    "boundary_tag = 3  # boundary"
   ]
  },
  {
   "cell_type": "markdown",
   "id": "f4fb7718",
   "metadata": {},
   "source": [
    "We generate the mesh using GMSH and convert it to a\n",
    "{py:class}`Mesh<dolfinx.mesh.Mesh>` using\n",
    "{py:func}`model_to_mesh <dolfinx.io.gmsh.model_to_mesh>`."
   ]
  },
  {
   "cell_type": "code",
   "execution_count": null,
   "id": "7277b4c3",
   "metadata": {},
   "outputs": [],
   "source": [
    "model = None\n",
    "gmsh.initialize(sys.argv)\n",
    "if MPI.COMM_WORLD.rank == 0:\n",
    "    model = generate_mesh_wire(\n",
    "        radius_wire,\n",
    "        radius_dom,\n",
    "        in_wire_size,\n",
    "        on_wire_size,\n",
    "        bkg_size,\n",
    "        boundary_size,\n",
    "        au_tag,\n",
    "        bkg_tag,\n",
    "        boundary_tag,\n",
    "    )\n",
    "\n",
    "model = MPI.COMM_WORLD.bcast(model, root=0)\n",
    "mesh_data = io.gmsh.model_to_mesh(model, MPI.COMM_WORLD, 0, gdim=2)\n",
    "assert mesh_data.cell_tags is not None, \"Cell tags are missing\"\n",
    "assert mesh_data.facet_tags is not None, \"Facet tags are missing\"\n",
    "\n",
    "gmsh.finalize()\n",
    "MPI.COMM_WORLD.barrier()"
   ]
  },
  {
   "cell_type": "code",
   "execution_count": null,
   "id": "976b44d1",
   "metadata": {},
   "outputs": [],
   "source": [
    "# The mesh is visualized with [PyVista](https://docs.pyvista.org/)\n",
    "out_folder = Path(\"out_scattering_boundary_conditions\")\n",
    "out_folder.mkdir(parents=True, exist_ok=True)\n",
    "if have_pyvista:\n",
    "    topology, cell_types, geometry = plot.vtk_mesh(mesh_data.mesh, 2)\n",
    "    grid = pyvista.UnstructuredGrid(topology, cell_types, geometry)\n",
    "    plotter = pyvista.Plotter()\n",
    "    num_local_cells = mesh_data.mesh.topology.index_map(mesh_data.mesh.topology.dim).size_local\n",
    "    grid.cell_data[\"Marker\"] = mesh_data.cell_tags.values[\n",
    "        mesh_data.cell_tags.indices < num_local_cells\n",
    "    ]\n",
    "    grid.set_active_scalars(\"Marker\")\n",
    "    plotter.add_mesh(grid, show_edges=True)\n",
    "    plotter.view_xy()\n",
    "    if not pyvista.OFF_SCREEN:\n",
    "        plotter.show()\n",
    "    else:\n",
    "        figure = plotter.screenshot(out_folder / \"wire_mesh.png\", window_size=[8000, 8000])"
   ]
  },
  {
   "cell_type": "markdown",
   "id": "d4fc8835",
   "metadata": {},
   "source": [
    "Now we define some other problem specific parameters:"
   ]
  },
  {
   "cell_type": "code",
   "execution_count": null,
   "id": "a0c10bd8",
   "metadata": {},
   "outputs": [],
   "source": [
    "wl0 = 0.4  # Wavelength of the background field\n",
    "n_bkg = 1.33  # Background refractive index\n",
    "eps_bkg = n_bkg**2  # Background relative permittivity\n",
    "k0 = 2 * np.pi / wl0  # Wavevector of the background field\n",
    "theta = np.pi / 4  # Angle of incidence of the background field"
   ]
  },
  {
   "cell_type": "markdown",
   "id": "6a058a0b",
   "metadata": {},
   "source": [
    "We use a function space consisting of degree 3 [Nedelec (first\n",
    "kind)](https://defelement.org/elements/nedelec1.html) elements to\n",
    "represent the electric field"
   ]
  },
  {
   "cell_type": "code",
   "execution_count": null,
   "id": "37369994",
   "metadata": {},
   "outputs": [],
   "source": [
    "degree = 3\n",
    "curl_el = element(\"N1curl\", mesh_data.mesh.basix_cell(), degree, dtype=default_real_type)\n",
    "V = fem.functionspace(mesh_data.mesh, curl_el)"
   ]
  },
  {
   "cell_type": "markdown",
   "id": "453181a6",
   "metadata": {},
   "source": [
    "Next, we can interpolate $\\mathbf{E}_b$ into the function space $V$:"
   ]
  },
  {
   "cell_type": "code",
   "execution_count": null,
   "id": "b4a28ed1",
   "metadata": {},
   "outputs": [],
   "source": [
    "f = BackgroundElectricField(theta, n_bkg, k0)\n",
    "Eb = fem.Function(V)\n",
    "Eb.interpolate(f.eval)\n",
    "\n",
    "x = ufl.SpatialCoordinate(mesh_data.mesh)\n",
    "r = radial_distance(x)\n",
    "\n",
    "# Create test and trial functions\n",
    "Es = ufl.TrialFunction(V)\n",
    "v = ufl.TestFunction(V)\n",
    "\n",
    "# Definition of 3d fields for cross and curl operations\n",
    "Es_3d = ufl.as_vector((Es[0], Es[1], 0))\n",
    "v_3d = ufl.as_vector((v[0], v[1], 0))\n",
    "\n",
    "# Measures for subdomains\n",
    "dx = ufl.Measure(\"dx\", mesh_data.mesh, subdomain_data=mesh_data.cell_tags)\n",
    "ds = ufl.Measure(\"ds\", mesh_data.mesh, subdomain_data=mesh_data.facet_tags)\n",
    "dDom = dx((au_tag, bkg_tag))\n",
    "dsbc = ds(boundary_tag)\n",
    "\n",
    "# Normal to the boundary\n",
    "n = ufl.FacetNormal(mesh_data.mesh)\n",
    "n_3d = ufl.as_vector((n[0], n[1], 0))"
   ]
  },
  {
   "cell_type": "markdown",
   "id": "1297ae19",
   "metadata": {},
   "source": [
    "We turn our focus to the permittivity $\\varepsilon$. First, we define\n",
    "the relative permittivity $\\varepsilon_m$ of the gold wire at $400nm$.\n",
    "This data can be found in [*Olmon et al.\n",
    "2012*](https://doi.org/10.1103/PhysRevB.86.235147) or at\n",
    "[refractiveindex.info](\n",
    "https://refractiveindex.info/?shelf=main&book=Au&page=Olmon-sc)):"
   ]
  },
  {
   "cell_type": "code",
   "execution_count": null,
   "id": "93cb6d3b",
   "metadata": {},
   "outputs": [],
   "source": [
    "eps_au = -1.0782 + 1j * 5.8089"
   ]
  },
  {
   "cell_type": "markdown",
   "id": "76618b8e",
   "metadata": {},
   "source": [
    "We define a permittivity function $\\varepsilon$ that takes the value\n",
    "of the gold permittivity $\\varepsilon_m$ for cells inside the wire,\n",
    "while it takes the value of the background permittivity otherwise:"
   ]
  },
  {
   "cell_type": "code",
   "execution_count": null,
   "id": "7c2c67ac",
   "metadata": {},
   "outputs": [],
   "source": [
    "D = fem.functionspace(mesh_data.mesh, (\"DG\", 0))\n",
    "eps = fem.Function(D)\n",
    "au_cells = mesh_data.cell_tags.find(au_tag)\n",
    "bkg_cells = mesh_data.cell_tags.find(bkg_tag)\n",
    "eps.x.array[au_cells] = np.full_like(au_cells, eps_au, dtype=eps.x.array.dtype)\n",
    "eps.x.array[bkg_cells] = np.full_like(bkg_cells, eps_bkg, dtype=eps.x.array.dtype)\n",
    "eps.x.scatter_forward()"
   ]
  },
  {
   "cell_type": "markdown",
   "id": "a105f509",
   "metadata": {},
   "source": [
    "### Derivation of the weak formulation\n",
    "Next we derive the weak formulation of the Maxwell's equation plus\n",
    "with scattering boundary conditions. First, we take the inner products\n",
    "of the equations with a complex test function $\\mathbf{v}$, and\n",
    "integrate the terms over the corresponding domains:\n",
    "\n",
    "$$\n",
    "\\begin{align}\n",
    "& \\int_{\\Omega}-\\nabla \\times( \\nabla \\times \\mathbf{E}_s) \\cdot\n",
    "\\bar{\\mathbf{v}}+\\varepsilon_{r} k_{0}^{2} \\mathbf{E}_s \\cdot\n",
    "\\bar{\\mathbf{v}}+k_{0}^{2}\\left(\\varepsilon_{r}-\\varepsilon_b\\right)\n",
    "\\mathbf{E}_b \\cdot \\bar{\\mathbf{v}}~\\mathrm{d}x \\\\\n",
    "+& \\int_{\\partial \\Omega}\n",
    "(\\mathbf{n} \\times \\nabla \\times \\mathbf{E}_s) \\cdot \\bar{\\mathbf{v}}\n",
    "+\\left(j n_bk_{0}+\\frac{1}{2r}\\right) (\\mathbf{n} \\times \\mathbf{E}_s\n",
    "\\times \\mathbf{n}) \\cdot \\bar{\\mathbf{v}}~\\mathrm{d}s=0\n",
    "\\end{align}\n",
    "$$\n",
    "\n",
    "By using $(\\nabla \\times \\mathbf{A}) \\cdot \\mathbf{B}=\\mathbf{A}\n",
    "\\cdot(\\nabla \\times \\mathbf{B})+\\nabla \\cdot(\\mathbf{A} \\times\n",
    "\\mathbf{B}),$ we can change the first term into:\n",
    "\n",
    "$$\n",
    "\\begin{align}\n",
    "& \\int_{\\Omega}-\\nabla \\cdot(\\nabla\\times\\mathbf{E}_s \\times\n",
    "\\bar{\\mathbf{v}})-\\nabla \\times \\mathbf{E}_s \\cdot \\nabla\n",
    "\\times\\bar{\\mathbf{v}}+\\varepsilon_{r} k_{0}^{2} \\mathbf{E}_s\n",
    "\\cdot \\bar{\\mathbf{v}}+k_{0}^{2}\\left(\\varepsilon_{r}-\\varepsilon_b\n",
    "\\right) \\mathbf{E}_b \\cdot \\bar{\\mathbf{v}}~\\mathrm{dx} \\\\\n",
    "+&\\int_{\\partial \\Omega}\n",
    "(\\mathbf{n} \\times \\nabla \\times \\mathbf{E}_s) \\cdot \\bar{\\mathbf{v}}\n",
    "+\\left(j n_bk_{0}+\\frac{1}{2r}\\right) (\\mathbf{n} \\times \\mathbf{E}_s\n",
    "\\times \\mathbf{n}) \\cdot \\bar{\\mathbf{v}}~\\mathrm{d}s=0,\n",
    "\\end{align}\n",
    "$$\n",
    "\n",
    "using the divergence theorem\n",
    "$\\int_\\Omega\\nabla\\cdot\\mathbf{F}~\\mathrm{d}x = \\int_{\\partial\\Omega}\n",
    "\\mathbf{F}\\cdot\\mathbf{n}~\\mathrm{d}s$, we can write:\n",
    "\n",
    "$$\n",
    "\\begin{align}\n",
    "& \\int_{\\Omega}-(\\nabla \\times \\mathbf{E}_s) \\cdot (\\nabla \\times\n",
    "\\bar{\\mathbf{v}})+\\varepsilon_{r} k_{0}^{2} \\mathbf{E}_s \\cdot\n",
    "\\bar{\\mathbf{v}}+k_{0}^{2}\\left(\\varepsilon_{r}-\\varepsilon_b\\right)\n",
    "\\mathbf{E}_b \\cdot \\bar{\\mathbf{v}}~\\mathrm{d}x \\\\\n",
    "+&\\int_{\\partial \\Omega}\n",
    "-(\\nabla\\times\\mathbf{E}_s \\times \\bar{\\mathbf{v}})\\cdot\\mathbf{n}\n",
    "+ (\\mathbf{n} \\times \\nabla \\times \\mathbf{E}_s) \\cdot \\bar{\\mathbf{v}}\n",
    "+\\left(j n_bk_{0}+\\frac{1}{2r}\\right) (\\mathbf{n} \\times \\mathbf{E}_s\n",
    "\\times \\mathbf{n}) \\cdot \\bar{\\mathbf{v}}~\\mathrm{d}s=0.\n",
    "\\end{align}\n",
    "$$\n",
    "\n",
    "Cancelling $-(\\nabla\\times\\mathbf{E}_s \\times \\bar{\\mathbf{V}})\n",
    "\\cdot\\mathbf{n}$  and $\\mathbf{n} \\times \\nabla \\times \\mathbf{E}_s\n",
    "\\cdot \\bar{\\mathbf{V}}$ and rearrange $\\left((\\mathbf{n} \\times\n",
    "\\mathbf{E}_s) \\times \\mathbf{n}\\right) \\cdot \\bar{\\mathbf{v}}$ to\n",
    "$(\\mathbf{E}_s \\times\\mathbf{n}) \\cdot (\\bar{\\mathbf{v}} \\times\n",
    "\\mathbf{n})$ using the triple product rule $\\mathbf{A} \\cdot(\\mathbf{B}\n",
    "\\times \\mathbf{C})=\\mathbf{B} \\cdot(\\mathbf{C} \\times\n",
    "\\mathbf{A})=\\mathbf{C} \\cdot(\\mathbf{A} \\times \\mathbf{B})$, we get:\n",
    "\n",
    "$$\n",
    "\\begin{align}\n",
    "& \\int_{\\Omega}-(\\nabla \\times \\mathbf{E}_s) \\cdot (\\nabla \\times\n",
    "\\bar{\\mathbf{v}})+\\varepsilon_{r} k_{0}^{2} \\mathbf{E}_s \\cdot\n",
    "\\bar{\\mathbf{v}}+k_{0}^{2}\\left(\\varepsilon_{r}-\\varepsilon_b\\right)\n",
    "\\mathbf{E}_b \\cdot \\bar{\\mathbf{v}}~\\mathrm{d}x \\\\\n",
    "+&\\int_{\\partial \\Omega}\n",
    "\\left(j n_bk_{0}+\\frac{1}{2r}\\right)( \\mathbf{n} \\times \\mathbf{E}_s\n",
    "\\times \\mathbf{n}) \\cdot \\bar{\\mathbf{v}} ~\\mathrm{d} s = 0.\n",
    "\\end{align}\n",
    "$$\n",
    "\n",
    "We use the [UFL](https://github.com/FEniCS/ufl/) to implement the\n",
    "residual"
   ]
  },
  {
   "cell_type": "code",
   "execution_count": null,
   "id": "4808585f",
   "metadata": {},
   "outputs": [],
   "source": [
    "# Weak form\n",
    "F = (\n",
    "    -ufl.inner(ufl.curl(Es), ufl.curl(v)) * dDom\n",
    "    + eps * (k0**2) * ufl.inner(Es, v) * dDom\n",
    "    + (k0**2) * (eps - eps_bkg) * ufl.inner(Eb, v) * dDom\n",
    "    + (1j * k0 * n_bkg + 1 / (2 * r))\n",
    "    * ufl.inner(ufl.cross(Es_3d, n_3d), ufl.cross(v_3d, n_3d))\n",
    "    * dsbc\n",
    ")"
   ]
  },
  {
   "cell_type": "markdown",
   "id": "8810a7fb",
   "metadata": {},
   "source": [
    "## Solving the variational problem"
   ]
  },
  {
   "cell_type": "markdown",
   "id": "13284db0",
   "metadata": {},
   "source": [
    "We split the residual into a sesquilinear (lhs) and linear (rhs) form\n",
    "and solve the problem. We store the scattered field $\\mathbf{E}_s$ as\n",
    "`Esh`:"
   ]
  },
  {
   "cell_type": "code",
   "execution_count": null,
   "id": "9e4cbce9",
   "metadata": {},
   "outputs": [],
   "source": [
    "a, L = ufl.lhs(F), ufl.rhs(F)\n",
    "problem = LinearProblem(\n",
    "    a,\n",
    "    L,\n",
    "    bcs=[],\n",
    "    petsc_options_prefix=\"demo_scattering_boundary_conditions_\",\n",
    "    petsc_options={\"ksp_type\": \"preonly\", \"pc_type\": \"lu\"},\n",
    ")\n",
    "Esh = problem.solve()\n",
    "assert problem.solver.getConvergedReason() > 0"
   ]
  },
  {
   "cell_type": "markdown",
   "id": "218b96f1",
   "metadata": {},
   "source": [
    "We save the solution as an [ADIOS2\n",
    "bp](https://adios2.readthedocs.io/en/latest/ecosystem/visualization.html)\n",
    "folder. In order to do so, we need to interpolate our solution\n",
    "discretized with Nedelec elements into a suitable discontinuous\n",
    "Lagrange space."
   ]
  },
  {
   "cell_type": "code",
   "execution_count": null,
   "id": "8b2f7a7d",
   "metadata": {},
   "outputs": [],
   "source": [
    "gdim = mesh_data.mesh.geometry.dim\n",
    "V_dg = fem.functionspace(mesh_data.mesh, (\"Discontinuous Lagrange\", degree, (gdim,)))\n",
    "Esh_dg = fem.Function(V_dg)\n",
    "assert isinstance(Esh, fem.Function)\n",
    "Esh_dg.interpolate(Esh)\n",
    "\n",
    "with io.VTXWriter(mesh_data.mesh.comm, out_folder / \"Esh.bp\", Esh_dg) as vtx:\n",
    "    vtx.write(0.0)"
   ]
  },
  {
   "cell_type": "markdown",
   "id": "9aca1510",
   "metadata": {},
   "source": [
    "We visualize the solution using PyVista. For more information about\n",
    "saving and visualizing vector fields discretized with Nedelec\n",
    "elements, check [this](\n",
    "https://docs.fenicsproject.org/dolfinx/main/python/demos/demo_interpolation-io.html)\n",
    "DOLFINx demo."
   ]
  },
  {
   "cell_type": "code",
   "execution_count": null,
   "id": "4edd7d5f",
   "metadata": {
    "lines_to_next_cell": 2
   },
   "outputs": [],
   "source": [
    "if have_pyvista:\n",
    "    V_cells, V_types, V_x = plot.vtk_mesh(V_dg)\n",
    "    V_grid = pyvista.UnstructuredGrid(V_cells, V_types, V_x)\n",
    "    Esh_values = np.zeros((V_x.shape[0], 3), dtype=np.float64)\n",
    "    Esh_values[:, : mesh_data.mesh.topology.dim] = Esh_dg.x.array.reshape(\n",
    "        V_x.shape[0], mesh_data.mesh.topology.dim\n",
    "    ).real\n",
    "\n",
    "    V_grid.point_data[\"u\"] = Esh_values\n",
    "\n",
    "    plotter = pyvista.Plotter()\n",
    "    plotter.add_text(\"magnitude\", font_size=12, color=\"black\")\n",
    "    plotter.add_mesh(V_grid.copy(), show_edges=True)\n",
    "    plotter.view_xy()\n",
    "    plotter.link_views()\n",
    "    if pyvista.OFF_SCREEN:\n",
    "        plotter.screenshot(out_folder / \"Esh.png\", window_size=[800, 800])\n",
    "    else:\n",
    "        plotter.show()"
   ]
  },
  {
   "cell_type": "markdown",
   "id": "23cc6801",
   "metadata": {},
   "source": [
    "Next we can calculate the total electric field\n",
    "$\\mathbf{E}=\\mathbf{E}_s+\\mathbf{E}_b$ and save it."
   ]
  },
  {
   "cell_type": "code",
   "execution_count": null,
   "id": "9dd53e5b",
   "metadata": {},
   "outputs": [],
   "source": [
    "E = fem.Function(V)\n",
    "E.x.array[:] = Eb.x.array[:] + Esh.x.array[:]\n",
    "E_dg = fem.Function(V_dg)\n",
    "E_dg.interpolate(E)\n",
    "with io.VTXWriter(mesh_data.mesh.comm, \"E.bp\", E_dg) as vtx:\n",
    "    vtx.write(0.0)"
   ]
  },
  {
   "cell_type": "markdown",
   "id": "52520251",
   "metadata": {},
   "source": [
    "We validate our numerical solution by computing the absorption,\n",
    "scattering and extinction efficiencies, which are quantities that\n",
    "define how much light is absorbed and scattered by the wire. First of\n",
    "all, we calculate the analytical efficiencies with the\n",
    "`calculate_analytical_efficiencies` function defined in a separate\n",
    "file:"
   ]
  },
  {
   "cell_type": "code",
   "execution_count": null,
   "id": "37940209",
   "metadata": {},
   "outputs": [],
   "source": [
    "# Calculation of analytical efficiencies\n",
    "q_abs_analyt, q_sca_analyt, q_ext_analyt = calculate_analytical_efficiencies(\n",
    "    eps_au, n_bkg, wl0, radius_wire\n",
    ")"
   ]
  },
  {
   "cell_type": "markdown",
   "id": "31fd14c0",
   "metadata": {},
   "source": [
    "## Calculation of the numerical efficiencies\n",
    "Now we can calculate the numerical efficiencies. The formula for the\n",
    "absorption, scattering and extinction are:\n",
    "\n",
    "$$\n",
    "\\begin{align}\n",
    "& Q_{abs} = \\operatorname{Re}\\left(\\int_{\\Omega_{m}} \\frac{1}{2}\n",
    "  \\frac{\\operatorname{Im}(\\varepsilon_m)k_0}{Z_0n_b}\n",
    "  \\mathbf{E}\\cdot\\hat{\\mathbf{E}}dx\\right) \\\\\n",
    "& Q_{sca} = \\operatorname{Re}\\left(\\int_{\\partial\\Omega} \\frac{1}{2}\n",
    "  \\left(\\mathbf{E}_s\\times\\bar{\\mathbf{H}}_s\\right)\n",
    "  \\cdot\\mathbf{n}ds\\right)\\\\ \\\\\n",
    "& Q_{ext} = Q_{abs} + Q_{sca},\n",
    "\\end{align}\n",
    "$$\n",
    "\n",
    "with $Z_0 = \\sqrt{\\frac{\\mu_0}{\\varepsilon_0}}$ being the vacuum\n",
    "impedance, and $\\mathbf{H}_s =\n",
    "-j\\frac{1}{Z_0k_0n_b}\\nabla\\times\\mathbf{E}_s$ being the scattered\n",
    "magnetic field. We can then normalize these values over the intensity\n",
    "of the electromagnetic field $I_0$ and the geometrical cross section\n",
    "of the wire, $\\sigma_{gcs} = 2r_w$:\n",
    "\n",
    "$$\n",
    "\\begin{align}\n",
    "& q_{abs} = \\frac{Q_{abs}}{I_0\\sigma_{gcs}} \\\\\n",
    "& q_{sca} = \\frac{Q_{sca}}{I_0\\sigma_{gcs}} \\\\\n",
    "& q_{ext} = q_{abs} + q_{sca}.\n",
    "\\end{align}\n",
    "$$\n",
    "\n",
    "We can calculate these values in the following way:"
   ]
  },
  {
   "cell_type": "code",
   "execution_count": null,
   "id": "22fc7027",
   "metadata": {},
   "outputs": [],
   "source": [
    "Z0 = np.sqrt(mu_0 / epsilon_0)  # Vacuum impedance\n",
    "Hsh_3d = -1j * curl_2d(Esh) / (Z0 * k0 * n_bkg)  # Magnetic field H\n",
    "Esh_3d = ufl.as_vector((Esh[0], Esh[1], 0))\n",
    "E_3d = ufl.as_vector((E[0], E[1], 0))\n",
    "\n",
    "# Intensity of the electromagnetic fields I0 = 0.5*E0**2/Z0 E0 =\n",
    "# np.sqrt(ax**2 + ay**2) = 1, see background_electric_field\n",
    "I0 = 0.5 / Z0\n",
    "gcs = 2 * radius_wire  # Geometrical cross section of the wire"
   ]
  },
  {
   "cell_type": "markdown",
   "id": "1731efdf",
   "metadata": {},
   "source": [
    "Quantities for the calculation of efficiencies"
   ]
  },
  {
   "cell_type": "code",
   "execution_count": null,
   "id": "3466bdb6",
   "metadata": {},
   "outputs": [],
   "source": [
    "P = 0.5 * ufl.inner(ufl.cross(Esh_3d, ufl.conj(Hsh_3d)), n_3d)\n",
    "Q = 0.5 * np.imag(eps_au) * k0 * (ufl.inner(E_3d, E_3d)) / Z0 / n_bkg"
   ]
  },
  {
   "cell_type": "markdown",
   "id": "883bdbde",
   "metadata": {},
   "source": [
    "Normalized absorption efficiency"
   ]
  },
  {
   "cell_type": "code",
   "execution_count": null,
   "id": "f67c4d08",
   "metadata": {},
   "outputs": [],
   "source": [
    "dAu = dx(au_tag)  # Define integration domain for the wire\n",
    "q_abs_fenics_proc = (fem.assemble_scalar(fem.form(Q * dAu)) / gcs / I0).real\n",
    "q_abs_fenics = mesh_data.mesh.comm.allreduce(q_abs_fenics_proc, op=MPI.SUM)"
   ]
  },
  {
   "cell_type": "markdown",
   "id": "c986f9d0",
   "metadata": {},
   "source": [
    "Normalized scattering efficiency"
   ]
  },
  {
   "cell_type": "code",
   "execution_count": null,
   "id": "8f9a69eb",
   "metadata": {},
   "outputs": [],
   "source": [
    "q_sca_fenics_proc = (fem.assemble_scalar(fem.form(P * dsbc)) / gcs / I0).real\n",
    "q_sca_fenics = mesh_data.mesh.comm.allreduce(q_sca_fenics_proc, op=MPI.SUM)"
   ]
  },
  {
   "cell_type": "markdown",
   "id": "1e7476b2",
   "metadata": {},
   "source": [
    "Extinction efficiency"
   ]
  },
  {
   "cell_type": "code",
   "execution_count": null,
   "id": "852c63c8",
   "metadata": {},
   "outputs": [],
   "source": [
    "q_ext_fenics = q_abs_fenics + q_sca_fenics"
   ]
  },
  {
   "cell_type": "markdown",
   "id": "cf7f4037",
   "metadata": {},
   "source": [
    "Error calculation"
   ]
  },
  {
   "cell_type": "code",
   "execution_count": null,
   "id": "53bd4bf8",
   "metadata": {},
   "outputs": [],
   "source": [
    "err_abs = np.abs(q_abs_analyt - q_abs_fenics) / q_abs_analyt\n",
    "err_sca = np.abs(q_sca_analyt - q_sca_fenics) / q_sca_analyt\n",
    "err_ext = np.abs(q_ext_analyt - q_ext_fenics) / q_ext_analyt"
   ]
  },
  {
   "cell_type": "markdown",
   "id": "7c37b4d1",
   "metadata": {},
   "source": [
    "Check if errors are smaller than 1%"
   ]
  },
  {
   "cell_type": "code",
   "execution_count": null,
   "id": "91dabf78",
   "metadata": {},
   "outputs": [],
   "source": [
    "assert err_abs < 0.01, \"Error in absorption efficiency is too large\"\n",
    "assert err_sca < 0.01, \"Error in scattering efficiency is too large\"\n",
    "assert err_ext < 0.01, \"Error in Extinction efficiency is too large\"\n",
    "\n",
    "PETSc.Sys.Print(f\"The analytical absorption efficiency is {q_abs_analyt}\")\n",
    "PETSc.Sys.Print(f\"The numerical absorption efficiency is {q_abs_fenics}\")\n",
    "PETSc.Sys.Print(f\"The error is {err_abs * 100}%\")\n",
    "PETSc.Sys.Print(f\"The analytical scattering efficiency is {q_sca_analyt}\")\n",
    "PETSc.Sys.Print(f\"The numerical scattering efficiency is {q_sca_fenics}\")\n",
    "PETSc.Sys.Print(f\"The error is {err_sca * 100}%\")\n",
    "PETSc.Sys.Print(f\"The analytical extinction efficiency is {q_ext_analyt}\")\n",
    "PETSc.Sys.Print(f\"The numerical extinction efficiency is {q_ext_fenics}\")\n",
    "PETSc.Sys.Print(f\"The error is {err_ext * 100}%\")"
   ]
  }
 ],
 "metadata": {
  "jupytext": {
   "formats": "ipynb,py"
  },
  "kernelspec": {
   "display_name": "Python 3 (DOLFINx complex)",
   "language": "python",
   "name": "python3-complex"
  }
 },
 "nbformat": 4,
 "nbformat_minor": 5
}

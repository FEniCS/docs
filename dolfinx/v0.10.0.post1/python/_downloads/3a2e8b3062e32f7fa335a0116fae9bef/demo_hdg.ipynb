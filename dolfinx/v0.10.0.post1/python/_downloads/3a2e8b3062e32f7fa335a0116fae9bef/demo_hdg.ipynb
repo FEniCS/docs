{
 "cells": [
  {
   "cell_type": "markdown",
   "id": "9e5ded0c",
   "metadata": {},
   "source": [
    "# HDG scheme for the Poisson equation\n",
    "\n",
    "```{admonition} Download sources\n",
    ":class: download\n",
    "* {download}`Python script <./demo_hdg.py>`\n",
    "* {download}`Jupyter notebook <./demo_hdg.ipynb>`\n",
    "```\n",
    "This demo illustrates how to:\n",
    "\n",
    "- Solve Poisson's equation using an HDG scheme.\n",
    "- Defining custom integration domains\n",
    "- Create a submesh over all facets of the mesh\n",
    "- Use `ufl.MixedFunctionSpace` to defined blocked problems.\n",
    "- Assemble mixed systems with multiple, related meshes"
   ]
  },
  {
   "cell_type": "code",
   "execution_count": null,
   "id": "2b034248",
   "metadata": {
    "lines_to_next_cell": 2
   },
   "outputs": [],
   "source": [
    "from mpi4py import MPI\n",
    "from petsc4py import PETSc\n",
    "\n",
    "import numpy as np\n",
    "\n",
    "import dolfinx\n",
    "import ufl\n",
    "from dolfinx import fem, mesh\n",
    "from dolfinx.cpp.mesh import cell_num_entities\n",
    "from dolfinx.fem import extract_function_spaces\n",
    "from dolfinx.fem.petsc import (\n",
    "    apply_lifting,\n",
    "    assemble_matrix,\n",
    "    assemble_vector,\n",
    "    assign,\n",
    "    create_vector,\n",
    "    set_bc,\n",
    ")\n"
   ]
  },
  {
   "cell_type": "markdown",
   "id": "00cec71f",
   "metadata": {
    "lines_to_next_cell": 2
   },
   "source": [
    "We start by creating two convenience functions: One to compute\n",
    "the L2 norm of a UFL expression, and one to define the integration\n",
    "domains for the facets of all cells in a mesh."
   ]
  },
  {
   "cell_type": "code",
   "execution_count": null,
   "id": "5a49ebfe",
   "metadata": {
    "lines_to_next_cell": 2
   },
   "outputs": [],
   "source": [
    "def norm_L2(v: ufl.core.expr.Expr, measure: ufl.Measure = ufl.dx) -> np.inexact:\n",
    "    \"\"\"Convenience function to compute the L2 norm of a UFL expression.\"\"\"\n",
    "    compiled_form = fem.form(ufl.inner(v, v) * measure)\n",
    "    comm = compiled_form.mesh.comm\n",
    "    return np.sqrt(comm.allreduce(fem.assemble_scalar(compiled_form), op=MPI.SUM))"
   ]
  },
  {
   "cell_type": "markdown",
   "id": "301c9821",
   "metadata": {
    "lines_to_next_cell": 2
   },
   "source": [
    "In DOLFINx, we represent integration domains over entities of\n",
    "codimension > 0 as a tuple `(cell_idx, local_entity_idx)`,\n",
    "where `cell_idx` is the index of the cell in the mesh\n",
    "(local to process), and `local_entity_idx` is the local index\n",
    "of the sub entity (local to cell). For the HDG scheme, we will\n",
    "integrate over the facets of each cell (for internal facets,\n",
    "there will be repeat entries, from the viewpoint of the connected cells)."
   ]
  },
  {
   "cell_type": "code",
   "execution_count": null,
   "id": "687312af",
   "metadata": {},
   "outputs": [],
   "source": [
    "def compute_cell_boundary_facets(msh: dolfinx.mesh.Mesh) -> np.ndarray:\n",
    "    \"\"\"Compute the integration entities for integrals around the\n",
    "    boundaries of all cells in msh.\n",
    "\n",
    "    Parameters:\n",
    "        msh: The mesh.\n",
    "\n",
    "    Returns:\n",
    "        Facets to integrate over, identified by ``(cell, local facet\n",
    "        index)`` pairs.\n",
    "    \"\"\"\n",
    "    tdim = msh.topology.dim\n",
    "    fdim = tdim - 1\n",
    "    n_f = cell_num_entities(msh.topology.cell_type, fdim)\n",
    "    n_c = msh.topology.index_map(tdim).size_local\n",
    "    return np.vstack((np.repeat(np.arange(n_c), n_f), np.tile(np.arange(n_f), n_c))).T.flatten()"
   ]
  },
  {
   "cell_type": "code",
   "execution_count": null,
   "id": "1986c2e2",
   "metadata": {},
   "outputs": [],
   "source": [
    "def u_e(x):\n",
    "    \"\"\"Exact solution.\"\"\"\n",
    "    u_e = 1\n",
    "    for i in range(tdim):\n",
    "        u_e *= ufl.sin(ufl.pi * x[i])\n",
    "    return u_e"
   ]
  },
  {
   "cell_type": "code",
   "execution_count": null,
   "id": "3a290cde",
   "metadata": {},
   "outputs": [],
   "source": [
    "comm = MPI.COMM_WORLD\n",
    "rank = comm.rank\n",
    "dtype = PETSc.ScalarType"
   ]
  },
  {
   "cell_type": "markdown",
   "id": "322656bd",
   "metadata": {},
   "source": [
    "Create the mesh"
   ]
  },
  {
   "cell_type": "code",
   "execution_count": null,
   "id": "d59f3e77",
   "metadata": {},
   "outputs": [],
   "source": [
    "n = 8  # Number of elements in each direction\n",
    "msh = mesh.create_unit_cube(comm, n, n, n, ghost_mode=mesh.GhostMode.none)"
   ]
  },
  {
   "cell_type": "markdown",
   "id": "74b38021",
   "metadata": {},
   "source": [
    "We need to create a broken Lagrange space defined over the facets of\n",
    "the mesh. To do so, we require a sub-mesh of the all facets. We begin\n",
    "by creating a list of all of the facets in the mesh"
   ]
  },
  {
   "cell_type": "code",
   "execution_count": null,
   "id": "d224b63c",
   "metadata": {},
   "outputs": [],
   "source": [
    "tdim = msh.topology.dim\n",
    "fdim = tdim - 1\n",
    "msh.topology.create_entities(fdim)\n",
    "facet_imap = msh.topology.index_map(fdim)\n",
    "num_facets = facet_imap.size_local + facet_imap.num_ghosts\n",
    "facets = np.arange(num_facets, dtype=np.int32)"
   ]
  },
  {
   "cell_type": "markdown",
   "id": "f19b4622",
   "metadata": {},
   "source": [
    "The submesh is created with {py:func}`dolfinx.mesh.create_submesh`,\n",
    "which takes in the mesh to extract entities from, the topological\n",
    "dimension of the entities, and the set of entities to create the\n",
    "submesh (indices local to process).\n",
    "```{admonition} Note\n",
    "Despite all facets being present in the submesh, the entity map\n",
    "isn't necessarily the identity in parallel\n",
    "```"
   ]
  },
  {
   "cell_type": "code",
   "execution_count": null,
   "id": "3a43d11f",
   "metadata": {},
   "outputs": [],
   "source": [
    "facet_mesh, facet_mesh_emap = mesh.create_submesh(msh, fdim, facets)[:2]"
   ]
  },
  {
   "cell_type": "markdown",
   "id": "ee1de1a4",
   "metadata": {},
   "source": [
    "Define function spaces"
   ]
  },
  {
   "cell_type": "code",
   "execution_count": null,
   "id": "8ea465fd",
   "metadata": {},
   "outputs": [],
   "source": [
    "k = 3  # Polynomial order\n",
    "V = fem.functionspace(msh, (\"Discontinuous Lagrange\", k))\n",
    "Vbar = fem.functionspace(facet_mesh, (\"Discontinuous Lagrange\", k))"
   ]
  },
  {
   "cell_type": "markdown",
   "id": "73853fda",
   "metadata": {},
   "source": [
    "Trial and test functions in mixed space, we use {py:class}`\n",
    "ufl.MixedFunctionSpace`\n",
    "to create a single function space object we can extract {py:func}`\n",
    "ufl.TrialFunctions`\n",
    "and {py:func}`ufl.TestFunctions` from."
   ]
  },
  {
   "cell_type": "code",
   "execution_count": null,
   "id": "ef0586a5",
   "metadata": {
    "lines_to_next_cell": 2
   },
   "outputs": [],
   "source": [
    "W = ufl.MixedFunctionSpace(V, Vbar)\n",
    "u, ubar = ufl.TrialFunctions(W)\n",
    "v, vbar = ufl.TestFunctions(W)"
   ]
  },
  {
   "cell_type": "markdown",
   "id": "d9b6fcd8",
   "metadata": {},
   "source": [
    "## Define integration measures"
   ]
  },
  {
   "cell_type": "markdown",
   "id": "d10f138b",
   "metadata": {},
   "source": [
    "We define the integration measure over cells as we would do in any\n",
    "other UFL form."
   ]
  },
  {
   "cell_type": "code",
   "execution_count": null,
   "id": "08b5d810",
   "metadata": {},
   "outputs": [],
   "source": [
    "dx_c = ufl.Measure(\"dx\", domain=msh)"
   ]
  },
  {
   "cell_type": "markdown",
   "id": "1c07e05c",
   "metadata": {},
   "source": [
    "For the cell boundaries, we need to define an integration measure to\n",
    "integrate around the boundary of each cell. The integration entities\n",
    "can be computed using the following convenience function."
   ]
  },
  {
   "cell_type": "code",
   "execution_count": null,
   "id": "a2cef6bf",
   "metadata": {},
   "outputs": [],
   "source": [
    "cell_boundary_facets = compute_cell_boundary_facets(msh)\n",
    "cell_boundaries = 1  # A tag"
   ]
  },
  {
   "cell_type": "code",
   "execution_count": null,
   "id": "6bf99be4",
   "metadata": {},
   "outputs": [],
   "source": [
    "# We pass the integration domains into the `ufl.Measure` through the\n",
    "# `subdomain_data` keyword argument.\n",
    "ds_c = ufl.Measure(\"ds\", subdomain_data=[(cell_boundaries, cell_boundary_facets)], domain=msh)"
   ]
  },
  {
   "cell_type": "markdown",
   "id": "32e8f0c2",
   "metadata": {},
   "source": [
    "Create a cell integral measure over the facet mesh"
   ]
  },
  {
   "cell_type": "code",
   "execution_count": null,
   "id": "fa114243",
   "metadata": {},
   "outputs": [],
   "source": [
    "dx_f = ufl.Measure(\"dx\", domain=facet_mesh)"
   ]
  },
  {
   "cell_type": "markdown",
   "id": "df3a30f0",
   "metadata": {},
   "source": [
    "## Variational formulation"
   ]
  },
  {
   "cell_type": "code",
   "execution_count": null,
   "id": "71e94158",
   "metadata": {},
   "outputs": [],
   "source": [
    "h = ufl.CellDiameter(msh)\n",
    "n = ufl.FacetNormal(msh)\n",
    "gamma = 16.0 * k**2 / h  # Scaled penalty parameter\n",
    "\n",
    "x = ufl.SpatialCoordinate(msh)\n",
    "c = 1.0 + 0.1 * ufl.sin(ufl.pi * x[0]) * ufl.sin(ufl.pi * x[1])\n",
    "a = (\n",
    "    ufl.inner(c * ufl.grad(u), ufl.grad(v)) * dx_c\n",
    "    - ufl.inner(c * (u - ubar), ufl.dot(ufl.grad(v), n)) * ds_c(cell_boundaries)\n",
    "    - ufl.inner(ufl.dot(ufl.grad(u), n), c * (v - vbar)) * ds_c(cell_boundaries)\n",
    "    + gamma * ufl.inner(c * (u - ubar), v - vbar) * ds_c(cell_boundaries)\n",
    ")\n",
    "\n",
    "f = -ufl.div(c * ufl.grad(u_e(x)))  # Manufacture a source term\n",
    "L = ufl.inner(f, v) * dx_c\n",
    "L += ufl.inner(fem.Constant(facet_mesh, dtype(0.0)), vbar) * dx_f"
   ]
  },
  {
   "cell_type": "markdown",
   "id": "8119cb05",
   "metadata": {},
   "source": [
    "Our bilinear form involves two domains (`msh` and `facet_mesh`). The\n",
    "mesh passed to the measure is called the \"integration domain\". For\n",
    "each additional mesh in our form, we must pass an\n",
    "{py:class}`EntityMap<dolfinx.mesh.EntityMap` object\n",
    "that relates entities in that mesh to entities in the integration\n",
    "domain. In this case, the only other mesh is `facet_mesh`, so we pass\n",
    "`facet_mesh_emap`."
   ]
  },
  {
   "cell_type": "code",
   "execution_count": null,
   "id": "cc8a9cdf",
   "metadata": {},
   "outputs": [],
   "source": [
    "entity_maps = [facet_mesh_emap]"
   ]
  },
  {
   "cell_type": "markdown",
   "id": "45840392",
   "metadata": {},
   "source": [
    "Compile forms for the blocked system, using {py:func}`ufl.extract_blocks`\n",
    "for the bilinear and linear forms."
   ]
  },
  {
   "cell_type": "code",
   "execution_count": null,
   "id": "1fe24279",
   "metadata": {},
   "outputs": [],
   "source": [
    "a_blocked = dolfinx.fem.form(ufl.extract_blocks(a), entity_maps=entity_maps)\n",
    "L_blocked = dolfinx.fem.form(ufl.extract_blocks(L))"
   ]
  },
  {
   "cell_type": "markdown",
   "id": "420de46a",
   "metadata": {},
   "source": [
    "Apply Dirichlet boundary conditions. We begin by locating the boundary\n",
    "facets of msh."
   ]
  },
  {
   "cell_type": "code",
   "execution_count": null,
   "id": "e2bd35a9",
   "metadata": {},
   "outputs": [],
   "source": [
    "msh_boundary_facets = mesh.exterior_facet_indices(msh.topology)"
   ]
  },
  {
   "cell_type": "markdown",
   "id": "fc1a1fab",
   "metadata": {},
   "source": [
    "Since the boundary condition is enforced in the facet space, we need\n",
    "to get the corresponding facets in `facet_mesh` using the entity map"
   ]
  },
  {
   "cell_type": "code",
   "execution_count": null,
   "id": "422e7ecf",
   "metadata": {},
   "outputs": [],
   "source": [
    "facet_mesh_boundary_facets = facet_mesh_emap.sub_topology_to_topology(\n",
    "    msh_boundary_facets, inverse=True\n",
    ")"
   ]
  },
  {
   "cell_type": "markdown",
   "id": "4e4873b9",
   "metadata": {},
   "source": [
    "Get the dofs and apply the boundary condition"
   ]
  },
  {
   "cell_type": "code",
   "execution_count": null,
   "id": "cf12398e",
   "metadata": {},
   "outputs": [],
   "source": [
    "facet_mesh.topology.create_connectivity(fdim, fdim)\n",
    "dofs = fem.locate_dofs_topological(Vbar, fdim, facet_mesh_boundary_facets)\n",
    "bc = fem.dirichletbc(dtype(0.0), dofs, Vbar)"
   ]
  },
  {
   "cell_type": "markdown",
   "id": "a37dcdeb",
   "metadata": {},
   "source": [
    "Assemble the matrix and vector"
   ]
  },
  {
   "cell_type": "code",
   "execution_count": null,
   "id": "5abc3d40",
   "metadata": {},
   "outputs": [],
   "source": [
    "A = assemble_matrix(a_blocked, bcs=[bc])\n",
    "A.assemble()"
   ]
  },
  {
   "cell_type": "code",
   "execution_count": null,
   "id": "771e0e6a",
   "metadata": {},
   "outputs": [],
   "source": [
    "b = assemble_vector(L_blocked)\n",
    "bcs1 = fem.bcs_by_block(fem.extract_function_spaces(a_blocked, 1), [bc])\n",
    "apply_lifting(b, a_blocked, bcs=bcs1)\n",
    "b.ghostUpdate(addv=PETSc.InsertMode.ADD, mode=PETSc.ScatterMode.REVERSE)\n",
    "bcs0 = fem.bcs_by_block(extract_function_spaces(L_blocked), [bc])\n",
    "set_bc(b, bcs0)"
   ]
  },
  {
   "cell_type": "markdown",
   "id": "99f08283",
   "metadata": {},
   "source": [
    "Setup the solver"
   ]
  },
  {
   "cell_type": "code",
   "execution_count": null,
   "id": "9f9964a1",
   "metadata": {},
   "outputs": [],
   "source": [
    "ksp = PETSc.KSP().create(msh.comm)\n",
    "ksp.setOperators(A)\n",
    "ksp.setType(\"preonly\")\n",
    "ksp.getPC().setType(\"lu\")\n",
    "ksp.getPC().setFactorSolverType(\"superlu_dist\")"
   ]
  },
  {
   "cell_type": "markdown",
   "id": "9278f06c",
   "metadata": {},
   "source": [
    "Compute solution"
   ]
  },
  {
   "cell_type": "code",
   "execution_count": null,
   "id": "43deebba",
   "metadata": {},
   "outputs": [],
   "source": [
    "try:\n",
    "    x = create_vector([V, Vbar])\n",
    "    ksp.solve(b, x)\n",
    "    ksp.destroy()\n",
    "    x.ghostUpdate(addv=PETSc.InsertMode.INSERT, mode=PETSc.ScatterMode.FORWARD)\n",
    "    b.destroy()\n",
    "except PETSc.Error as e:  # type: ignore\n",
    "    if e.ierr == 92:\n",
    "        print(\"The required PETSc solver/preconditioner is not available. Exiting.\")\n",
    "        print(e)\n",
    "        exit(0)\n",
    "    else:\n",
    "        raise e"
   ]
  },
  {
   "cell_type": "markdown",
   "id": "2e1ccdef",
   "metadata": {},
   "source": [
    "Create functions for the solution and update values"
   ]
  },
  {
   "cell_type": "code",
   "execution_count": null,
   "id": "b4b556bb",
   "metadata": {},
   "outputs": [],
   "source": [
    "u, ubar = fem.Function(V, name=\"u\"), fem.Function(Vbar, name=\"ubar\")\n",
    "assign(x, [u, ubar])\n",
    "x.destroy()"
   ]
  },
  {
   "cell_type": "markdown",
   "id": "f70959de",
   "metadata": {},
   "source": [
    "Write to file"
   ]
  },
  {
   "cell_type": "code",
   "execution_count": null,
   "id": "c7f9f16f",
   "metadata": {
    "lines_to_next_cell": 2
   },
   "outputs": [],
   "source": [
    "if dolfinx.has_adios2:\n",
    "    from dolfinx.io import VTXWriter\n",
    "\n",
    "    with VTXWriter(msh.comm, \"u.bp\", u, \"bp4\") as f:\n",
    "        f.write(0.0)\n",
    "    with VTXWriter(msh.comm, \"ubar.bp\", ubar, \"bp4\") as f:\n",
    "        f.write(0.0)\n",
    "else:\n",
    "    print(\"ADIOS2 required for VTX output\")"
   ]
  },
  {
   "cell_type": "markdown",
   "id": "bc546fc4",
   "metadata": {},
   "source": [
    "Compute errors"
   ]
  },
  {
   "cell_type": "code",
   "execution_count": null,
   "id": "4dd2942d",
   "metadata": {},
   "outputs": [],
   "source": [
    "x = ufl.SpatialCoordinate(msh)\n",
    "e_u = norm_L2(u - u_e(x))\n",
    "x_bar = ufl.SpatialCoordinate(facet_mesh)\n",
    "e_ubar = norm_L2(ubar - u_e(x_bar))\n",
    "PETSc.Sys.Print(f\"e_u = {e_u:.5e}\")\n",
    "PETSc.Sys.Print(f\"e_ubar = {e_ubar:.5e}\")"
   ]
  }
 ],
 "metadata": {
  "jupytext": {
   "main_language": "python"
  }
 },
 "nbformat": 4,
 "nbformat_minor": 5
}

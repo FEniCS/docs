{
 "cells": [
  {
   "cell_type": "markdown",
   "id": "ce410cd4",
   "metadata": {
    "lines_to_next_cell": 2
   },
   "source": [
    "# Creating TNT elements using Basix's custom element interface\n",
    "\n",
    "```{admonition} Download sources\n",
    ":class: download\n",
    "* {download}`Python script <./demo_tnt-elements.py>`\n",
    "* {download}`Jupyter notebook <./demo_tnt-elements.ipynb>`\n",
    "```\n",
    "Basix provides numerous finite elements, but there are many other\n",
    "possible elements a user may want to use. This demo\n",
    "({download}`demo_tnt-elements.py`) shows how the Basix custom element\n",
    "interface can be used to define elements. More detailed information\n",
    "about the inputs needed to create a custom element can be found in\n",
    "[the Basix\n",
    "documentation](https://docs.fenicsproject.org/basix/main/python/demo/demo_custom_element.py.html).\n",
    "\n",
    "We begin this demo by importing the required modules."
   ]
  },
  {
   "cell_type": "code",
   "execution_count": null,
   "id": "19f3721c",
   "metadata": {},
   "outputs": [],
   "source": [
    "from mpi4py import MPI\n",
    "\n",
    "import matplotlib as mpl\n",
    "import matplotlib.pylab as plt\n",
    "import numpy as np\n",
    "\n",
    "import basix\n",
    "import basix.ufl\n",
    "import ufl\n",
    "from dolfinx import default_real_type, fem, mesh\n",
    "from dolfinx.fem.petsc import LinearProblem\n",
    "\n",
    "mpl.use(\"agg\")"
   ]
  },
  {
   "cell_type": "markdown",
   "id": "2552e0fb",
   "metadata": {},
   "source": [
    "## Defining a degree 1 TNT element\n",
    "\n",
    "We will define [tiniest tensor\n",
    "(TNT)](https://defelement.org/elements/tnt.html) elements on a\n",
    "quadrilateral ([Commuting diagrams for the TNT elements on cubes\n",
    "(Cockburn, Qiu,\n",
    "2014)](https://doi.org/10.1090/S0025-5718-2013-02729-9)).\n",
    "\n",
    "### The polynomial set\n",
    "\n",
    "We begin by defining a basis of the polynomial space spanned by the\n",
    "TNT element, which is defined in terms of the orthogonal Legendre\n",
    "polynomials on the cell. For a degree 1 element, the polynomial set\n",
    "contains $1$, $y$, $y^2$, $x$, $xy$, $xy^2$, $x^2$, and $x^2y$, which\n",
    "are the first 8 polynomials in the degree 2 set of polynomials on a\n",
    "quadrilateral. We create an $8 \\times 9$  matrix (number of dofs by\n",
    "number of polynomials in the degree 2 set) with an $8 \\times 8$\n",
    "identity in the first 8 columns. The order in which polynomials appear\n",
    "in the polynomial sets for each cell can be found in the [Basix\n",
    "documentation](https://docs.fenicsproject.org/basix/main/polyset-order.html)."
   ]
  },
  {
   "cell_type": "code",
   "execution_count": null,
   "id": "24329cef",
   "metadata": {},
   "outputs": [],
   "source": [
    "wcoeffs = np.eye(8, 9)"
   ]
  },
  {
   "cell_type": "markdown",
   "id": "74f9837f",
   "metadata": {},
   "source": [
    "For elements where the coefficients matrix is not an identity, we can\n",
    "use the properties of orthonormal polynomials to compute `wcoeffs`.\n",
    "Let $\\{q_0, q_1,\\dots\\}$ be the orthonormal polynomials of a given\n",
    "degree for a given cell, and suppose that we're trying to represent a\n",
    "function $f_i\\in\\operatorname{span}\\{q_1, q_2,\\dots\\}$ (as\n",
    "$\\{f_0, f_1,\\dots\\}$ is a basis of the polynomial space for our element).\n",
    "Using the properties of orthonormal polynomials, we see that\n",
    "$f_i = \\sum_j\\left(\\int_R f_iq_j\\,\\mathrm{d}\\mathbf{x}\\right)q_j$,\n",
    "and so the coefficients are given by\n",
    "$a_{ij}=\\int_R f_iq_j\\,\\mathrm{d}\\mathbf{x}$.\n",
    "Hence we could compute `wcoeffs` as follows:"
   ]
  },
  {
   "cell_type": "code",
   "execution_count": null,
   "id": "68f30c63",
   "metadata": {},
   "outputs": [],
   "source": [
    "wcoeffs2 = np.empty((8, 9))\n",
    "pts, wts = basix.make_quadrature(basix.CellType.quadrilateral, 4)\n",
    "evals = basix.tabulate_polynomials(\n",
    "    basix.PolynomialType.legendre, basix.CellType.quadrilateral, 2, pts\n",
    ")\n",
    "\n",
    "for j, v in enumerate(evals):\n",
    "    wcoeffs2[0, j] = sum(v * wts)  # 1\n",
    "    wcoeffs2[1, j] = sum(v * pts[:, 1] * wts)  # y\n",
    "    wcoeffs2[2, j] = sum(v * pts[:, 1] ** 2 * wts)  # y^2\n",
    "    wcoeffs2[3, j] = sum(v * pts[:, 0] * pts[:, 1] * wts)  # xy\n",
    "    wcoeffs2[4, j] = sum(v * pts[:, 0] * pts[:, 1] ** 2 * wts)  # xy^2\n",
    "    wcoeffs2[5, j] = sum(v * pts[:, 0] ** 2 * pts[:, 1] * wts)  # x^2y"
   ]
  },
  {
   "cell_type": "markdown",
   "id": "5b3f1eac",
   "metadata": {},
   "source": [
    "### Interpolation operators\n",
    "\n",
    "We provide the information that defines the DOFs associated with each\n",
    "sub-entity of the cell. First, we associate a point evaluation with\n",
    "each vertex."
   ]
  },
  {
   "cell_type": "code",
   "execution_count": null,
   "id": "9ffb71b1",
   "metadata": {},
   "outputs": [],
   "source": [
    "geometry = basix.geometry(basix.CellType.quadrilateral)\n",
    "topology = basix.topology(basix.CellType.quadrilateral)\n",
    "x = [[], [], [], []]  # type: ignore [var-annotated]\n",
    "M = [[], [], [], []]  # type: ignore [var-annotated]\n",
    "\n",
    "for v in topology[0]:\n",
    "    x[0].append(np.array(geometry[v]))\n",
    "    M[0].append(np.array([[[[1.0]]]]))"
   ]
  },
  {
   "cell_type": "markdown",
   "id": "7d9dbe75",
   "metadata": {},
   "source": [
    "For each edge, we define points and a matrix that represent the\n",
    "integral of the function along that edge. We do this by mapping\n",
    "quadrature points to the edge and putting quadrature points in the\n",
    "matrix."
   ]
  },
  {
   "cell_type": "code",
   "execution_count": null,
   "id": "dd79def7",
   "metadata": {},
   "outputs": [],
   "source": [
    "pts, wts = basix.make_quadrature(basix.CellType.interval, 2)\n",
    "for e in topology[1]:\n",
    "    v0 = geometry[e[0]]\n",
    "    v1 = geometry[e[1]]\n",
    "    edge_pts = np.array([v0 + p * (v1 - v0) for p in pts])\n",
    "    x[1].append(edge_pts)\n",
    "\n",
    "    mat = np.zeros((1, 1, pts.shape[0], 1))\n",
    "    mat[0, 0, :, 0] = wts\n",
    "    M[1].append(mat)"
   ]
  },
  {
   "cell_type": "markdown",
   "id": "71d1dc71",
   "metadata": {},
   "source": [
    "There are no DOFs associated with the interior of the cell for the\n",
    "lowest order TNT element, so we associate an empty list of points and\n",
    "an empty matrix with the interior."
   ]
  },
  {
   "cell_type": "code",
   "execution_count": null,
   "id": "e63df6ce",
   "metadata": {},
   "outputs": [],
   "source": [
    "x[2].append(np.zeros([0, 2]))\n",
    "M[2].append(np.zeros([0, 1, 0, 1]))"
   ]
  },
  {
   "cell_type": "markdown",
   "id": "ae515aa6",
   "metadata": {},
   "source": [
    "### Creating the Basix element\n",
    "\n",
    "We now create the element. Using the Basix UFL interface, we can wrap\n",
    "this element so that it can be used with FFCx/DOLFINx."
   ]
  },
  {
   "cell_type": "code",
   "execution_count": null,
   "id": "6685f532",
   "metadata": {},
   "outputs": [],
   "source": [
    "tnt_degree1 = basix.ufl.custom_element(\n",
    "    basix.CellType.quadrilateral,\n",
    "    [],\n",
    "    wcoeffs,\n",
    "    x,\n",
    "    M,\n",
    "    0,\n",
    "    basix.MapType.identity,\n",
    "    basix.SobolevSpace.H1,\n",
    "    False,\n",
    "    1,\n",
    "    2,\n",
    "    dtype=default_real_type,\n",
    ")"
   ]
  },
  {
   "cell_type": "markdown",
   "id": "57122b14",
   "metadata": {
    "lines_to_next_cell": 2
   },
   "source": [
    "## Creating higher degree TNT elements\n",
    "\n",
    "The following function follows the same method as above to define\n",
    "arbitrary degree TNT elements."
   ]
  },
  {
   "cell_type": "code",
   "execution_count": null,
   "id": "c2ab2dfd",
   "metadata": {
    "lines_to_next_cell": 2
   },
   "outputs": [],
   "source": [
    "def create_tnt_quad(degree):\n",
    "    assert degree > 1\n",
    "    # Polyset\n",
    "    ndofs = (degree + 1) ** 2 + 4\n",
    "    npoly = (degree + 2) ** 2\n",
    "\n",
    "    wcoeffs = np.zeros((ndofs, npoly))\n",
    "\n",
    "    dof_n = 0\n",
    "    for i in range(degree + 1):\n",
    "        for j in range(degree + 1):\n",
    "            wcoeffs[dof_n, i * (degree + 2) + j] = 1\n",
    "            dof_n += 1\n",
    "\n",
    "    for i, j in [(degree + 1, 1), (degree + 1, 0), (1, degree + 1), (0, degree + 1)]:\n",
    "        wcoeffs[dof_n, i * (degree + 2) + j] = 1\n",
    "        dof_n += 1\n",
    "\n",
    "    # Interpolation\n",
    "    geometry = basix.geometry(basix.CellType.quadrilateral)\n",
    "    topology = basix.topology(basix.CellType.quadrilateral)\n",
    "    x = [[], [], [], []]\n",
    "    M = [[], [], [], []]\n",
    "\n",
    "    # Vertices\n",
    "    for v in topology[0]:\n",
    "        x[0].append(np.array(geometry[v]))\n",
    "        M[0].append(np.array([[[[1.0]]]]))\n",
    "\n",
    "    # Edges\n",
    "    pts, wts = basix.make_quadrature(basix.CellType.interval, 2 * degree)\n",
    "    poly = basix.tabulate_polynomials(\n",
    "        basix.PolynomialType.legendre, basix.CellType.interval, degree - 1, pts\n",
    "    )\n",
    "    edge_ndofs = poly.shape[0]\n",
    "    for e in topology[1]:\n",
    "        v0 = geometry[e[0]]\n",
    "        v1 = geometry[e[1]]\n",
    "        edge_pts = np.array([v0 + p * (v1 - v0) for p in pts])\n",
    "        x[1].append(edge_pts)\n",
    "\n",
    "        mat = np.zeros((edge_ndofs, 1, len(pts), 1))\n",
    "        for i in range(edge_ndofs):\n",
    "            mat[i, 0, :, 0] = wts[:] * poly[i, :]\n",
    "        M[1].append(mat)\n",
    "\n",
    "    # Interior\n",
    "    if degree == 1:\n",
    "        x[2].append(np.zeros([0, 2]))\n",
    "        M[2].append(np.zeros([0, 1, 0, 1]))\n",
    "    else:\n",
    "        pts, wts = basix.make_quadrature(basix.CellType.quadrilateral, 2 * degree - 1)\n",
    "        poly = basix.tabulate_polynomials(\n",
    "            basix.PolynomialType.legendre, basix.CellType.quadrilateral, degree - 2, pts\n",
    "        )\n",
    "        face_ndofs = poly.shape[0]\n",
    "        x[2].append(pts)\n",
    "        mat = np.zeros((face_ndofs, 1, len(pts), 1))\n",
    "        for i in range(face_ndofs):\n",
    "            mat[i, 0, :, 0] = wts[:] * poly[i, :]\n",
    "        M[2].append(mat)\n",
    "\n",
    "    return basix.ufl.custom_element(\n",
    "        basix.CellType.quadrilateral,\n",
    "        [],\n",
    "        wcoeffs,\n",
    "        x,\n",
    "        M,\n",
    "        0,\n",
    "        basix.MapType.identity,\n",
    "        basix.SobolevSpace.H1,\n",
    "        False,\n",
    "        degree,\n",
    "        degree + 1,\n",
    "        dtype=default_real_type,\n",
    "    )"
   ]
  },
  {
   "cell_type": "markdown",
   "id": "e7ae1b71",
   "metadata": {
    "lines_to_next_cell": 2
   },
   "source": [
    "## Comparing TNT elements and Q elements\n",
    "\n",
    "We now use the code above to compare TNT elements and\n",
    "[Q](https://defelement.org/elements/lagrange.html) elements on\n",
    "quadrilaterals. The following function takes a DOLFINx function space\n",
    "as input, and solves a Poisson problem and returns the $L_2$ error of\n",
    "the solution."
   ]
  },
  {
   "cell_type": "code",
   "execution_count": null,
   "id": "17338268",
   "metadata": {},
   "outputs": [],
   "source": [
    "def poisson_error(V: fem.FunctionSpace):\n",
    "    msh = V.mesh\n",
    "    u, v = ufl.TrialFunction(V), ufl.TestFunction(V)\n",
    "\n",
    "    x = ufl.SpatialCoordinate(msh)\n",
    "    u_exact = ufl.sin(10 * x[1]) * ufl.cos(15 * x[0])\n",
    "    f = -ufl.div(ufl.grad(u_exact))\n",
    "\n",
    "    a = ufl.inner(ufl.grad(u), ufl.grad(v)) * ufl.dx\n",
    "    L = ufl.inner(f, v) * ufl.dx\n",
    "\n",
    "    # Create Dirichlet boundary condition\n",
    "    u_bc = fem.Function(V)\n",
    "    u_bc.interpolate(lambda x: np.sin(10 * x[1]) * np.cos(15 * x[0]))\n",
    "\n",
    "    msh.topology.create_connectivity(msh.topology.dim - 1, msh.topology.dim)\n",
    "    bndry_facets = mesh.exterior_facet_indices(msh.topology)\n",
    "    bdofs = fem.locate_dofs_topological(V, msh.topology.dim - 1, bndry_facets)\n",
    "    bc = fem.dirichletbc(u_bc, bdofs)\n",
    "\n",
    "    # Solve\n",
    "    ksp_rtol = 1e2 * np.finfo(default_real_type).eps\n",
    "    problem = LinearProblem(\n",
    "        a,\n",
    "        L,\n",
    "        bcs=[bc],\n",
    "        petsc_options_prefix=\"demo_tnt_elements_\",\n",
    "        petsc_options={\"ksp_rtol\": ksp_rtol},\n",
    "    )\n",
    "    uh = problem.solve()\n",
    "    converged_reason = problem.solver.getConvergedReason()\n",
    "    num_its = problem.solver.getIterationNumber()\n",
    "    assert converged_reason > 0, (\n",
    "        f\"Failed to converge, reason: {converged_reason}, iterations: {num_its}\"\n",
    "    )\n",
    "\n",
    "    M = (u_exact - uh) ** 2 * ufl.dx\n",
    "    M = fem.form(M)\n",
    "    error = msh.comm.allreduce(fem.assemble_scalar(M), op=MPI.SUM)\n",
    "    return error**0.5"
   ]
  },
  {
   "cell_type": "markdown",
   "id": "1f043517",
   "metadata": {},
   "source": [
    "We create a mesh, then solve the Poisson problem using our TNT\n",
    "elements of degree 1 to 8. We then do the same with Q elements of\n",
    "degree 1 to 9. For the TNT elements, we store a number 1 larger than\n",
    "the degree as this is the highest degree polynomial in the space."
   ]
  },
  {
   "cell_type": "code",
   "execution_count": null,
   "id": "11b88e5e",
   "metadata": {},
   "outputs": [],
   "source": [
    "msh = mesh.create_unit_square(MPI.COMM_WORLD, 15, 15, mesh.CellType.quadrilateral)\n",
    "\n",
    "tnt_ndofs = []\n",
    "tnt_degrees = []\n",
    "tnt_errors = []\n",
    "\n",
    "V = fem.functionspace(msh, tnt_degree1)\n",
    "tnt_degrees.append(2)\n",
    "tnt_ndofs.append(V.dofmap.index_map.size_global)\n",
    "tnt_errors.append(poisson_error(V))\n",
    "print(f\"TNT degree 2 error: {tnt_errors[-1]}\")\n",
    "for degree in range(2, 9):\n",
    "    V = fem.functionspace(msh, create_tnt_quad(degree))\n",
    "    tnt_degrees.append(degree + 1)\n",
    "    tnt_ndofs.append(V.dofmap.index_map.size_global)\n",
    "    tnt_errors.append(poisson_error(V))\n",
    "    print(f\"TNT degree {degree} error: {tnt_errors[-1]}\")\n",
    "\n",
    "q_ndofs = []\n",
    "q_degrees = []\n",
    "q_errors = []\n",
    "for degree in range(1, 9):\n",
    "    V = fem.functionspace(msh, (\"Q\", degree))\n",
    "    q_degrees.append(degree)\n",
    "    q_ndofs.append(V.dofmap.index_map.size_global)\n",
    "    q_errors.append(poisson_error(V))\n",
    "    print(f\"Q degree {degree} error: {q_errors[-1]}\")"
   ]
  },
  {
   "cell_type": "markdown",
   "id": "1d5f7b30",
   "metadata": {},
   "source": [
    "We now plot the data that we have obtained. First we plot the error\n",
    "against the polynomial degree for the two elements. The two elements\n",
    "appear to perform equally well."
   ]
  },
  {
   "cell_type": "code",
   "execution_count": null,
   "id": "e4c775ec",
   "metadata": {},
   "outputs": [],
   "source": [
    "if MPI.COMM_WORLD.rank == 0:  # Only plot on one rank\n",
    "    plt.plot(q_degrees, q_errors, \"bo-\")\n",
    "    plt.plot(tnt_degrees, tnt_errors, \"gs-\")\n",
    "    plt.yscale(\"log\")\n",
    "    plt.xlabel(\"Polynomial degree\")\n",
    "    plt.ylabel(\"Error\")\n",
    "    plt.legend([\"Q\", \"TNT\"])\n",
    "    plt.savefig(\"demo_tnt-elements_degrees_vs_error.png\")\n",
    "    plt.clf()"
   ]
  },
  {
   "cell_type": "markdown",
   "id": "c1aa954e",
   "metadata": {},
   "source": [
    "![](demo_tnt-elements_degrees_vs_error.png)\n",
    "\n",
    "A key advantage of TNT elements is that for a given degree, they span\n",
    "a smaller polynomial space than Q elements. This can be observed in\n",
    "the following diagram, where we plot the error against the square root\n",
    "of the number of DOFs (providing a measure of cell size in 2D)"
   ]
  },
  {
   "cell_type": "code",
   "execution_count": null,
   "id": "40d22381",
   "metadata": {},
   "outputs": [],
   "source": [
    "if MPI.COMM_WORLD.rank == 0:  # Only plot on one rank\n",
    "    plt.plot(np.sqrt(q_ndofs), q_errors, \"bo-\")\n",
    "    plt.plot(np.sqrt(tnt_ndofs), tnt_errors, \"gs-\")\n",
    "    plt.yscale(\"log\")\n",
    "    plt.xlabel(\"Square root of number of DOFs\")\n",
    "    plt.ylabel(\"Error\")\n",
    "    plt.legend([\"Q\", \"TNT\"])\n",
    "    plt.savefig(\"demo_tnt-elements_ndofs_vs_error.png\")\n",
    "    plt.clf()"
   ]
  },
  {
   "cell_type": "markdown",
   "id": "00009946",
   "metadata": {},
   "source": [
    "![](demo_tnt-elements_ndofs_vs_error.png)"
   ]
  }
 ],
 "metadata": {
  "jupytext": {
   "main_language": "python"
  }
 },
 "nbformat": 4,
 "nbformat_minor": 5
}

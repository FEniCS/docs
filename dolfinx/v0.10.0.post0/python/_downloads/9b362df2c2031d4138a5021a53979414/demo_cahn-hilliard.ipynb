{
 "cells": [
  {
   "cell_type": "markdown",
   "id": "21a9807f",
   "metadata": {},
   "source": [
    "# Cahn-Hilliard equation\n",
    "\n",
    "```{admonition} Download sources\n",
    ":class: download\n",
    "* {download}`Python script <./demo_cahn-hilliard.py>`\n",
    "* {download}`Jupyter notebook <./demo_cahn-hilliard.ipynb>`\n",
    "```\n",
    "This example demonstrates the solution of the Cahn-Hilliard equation,\n",
    "a nonlinear, time-dependent fourth-order PDE.\n",
    "\n",
    "- A mixed finite element method\n",
    "- The $\\theta$-method for time-dependent equations\n",
    "- Automatic linearisation\n",
    "- Use of the class\n",
    "  {py:class}`NonlinearProblem<dolfinx.fem.petsc.NonlinearProblem>`\n",
    "- Interpolation of functions\n",
    "- Visualisation of a running simulation with\n",
    "  [PyVista](https://pyvista.org/)\n",
    "\n",
    "## Equation and problem definition\n",
    "\n",
    "The Cahn-Hilliard equation is a parabolic equation and is typically\n",
    "used to model phase separation in binary mixtures.  It involves\n",
    "first-order time derivatives, and second- and fourth-order spatial\n",
    "derivatives.  The equation reads:\n",
    "\n",
    "$$\n",
    "\\begin{align}\n",
    "\\frac{\\partial c}{\\partial t} -\n",
    "  \\nabla \\cdot M \\left(\\nabla\\left(\\frac{d f}{dc}\n",
    "  - \\lambda \\nabla^{2}c\\right)\\right) &= 0 \\quad {\\rm in} \\ \\Omega, \\\\\n",
    "M\\left(\\nabla\\left(\\frac{d f}{d c} -\n",
    "  \\lambda \\nabla^{2}c\\right)\\right) \\cdot n\n",
    "  &= 0 \\quad {\\rm on} \\ \\partial\\Omega, \\\\\n",
    "M \\lambda \\nabla c \\cdot n &= 0 \\quad {\\rm on} \\ \\partial\\Omega.\n",
    "\\end{align}\n",
    "$$\n",
    "\n",
    "where $c$ is the unknown field, the function $f$ is usually non-convex\n",
    "in $c$ (a fourth-order polynomial is commonly used), $n$ is the\n",
    "outward directed boundary normal, and $M$ is a scalar parameter.\n",
    "\n",
    "### Operator split form\n",
    "\n",
    "The Cahn-Hilliard equation is a fourth-order equation, so casting it\n",
    "in a weak form would result in the presence of second-order spatial\n",
    "derivatives, and the problem could not be solved using a standard\n",
    "Lagrange finite element basis.  A solution is to rephrase the problem\n",
    "as two coupled second-order equations:\n",
    "\n",
    "$$\n",
    "\\begin{align}\n",
    "\\frac{\\partial c}{\\partial t} - \\nabla \\cdot M \\nabla\\mu\n",
    "    &= 0 \\quad {\\rm in} \\ \\Omega, \\\\\n",
    "\\mu -  \\frac{d f}{d c} + \\lambda \\nabla^{2}c &= 0 \\quad {\\rm in}\n",
    "  \\ \\Omega.\n",
    "\\end{align}\n",
    "$$\n",
    "\n",
    "The unknown fields are now $c$ and $\\mu$. The weak (variational) form\n",
    "of the problem reads: find $(c, \\mu) \\in V \\times V$ such that\n",
    "\n",
    "$$\n",
    "\\begin{align}\n",
    "\\int_{\\Omega} \\frac{\\partial c}{\\partial t} q \\, {\\rm d} x +\n",
    "    \\int_{\\Omega} M \\nabla\\mu \\cdot \\nabla q \\, {\\rm d} x\n",
    "    &= 0 \\quad \\forall \\ q \\in V,  \\\\\n",
    "\\int_{\\Omega} \\mu v \\, {\\rm d} x - \\int_{\\Omega} \\frac{d f}{d c} v \\,\n",
    "  {\\rm d} x - \\int_{\\Omega} \\lambda \\nabla c \\cdot \\nabla v \\, {\\rm d} x\n",
    "   &= 0 \\quad \\forall \\ v \\in V.\n",
    "\\end{align}\n",
    "$$\n",
    "\n",
    "### Time discretisation\n",
    "\n",
    "Before being able to solve this problem, the time derivative must be\n",
    "dealt with. Apply the $\\theta$-method to the mixed weak form of the\n",
    "equation:\n",
    "\n",
    "$$\n",
    "\\begin{align}\n",
    "\\int_{\\Omega} \\frac{c_{n+1} - c_{n}}{dt} q \\, {\\rm d} x\n",
    "  + \\int_{\\Omega} M \\nabla \\mu_{n+\\theta} \\cdot \\nabla q \\, {\\rm d} x\n",
    "  &= 0 \\quad \\forall \\ q \\in V  \\\\\n",
    "\\int_{\\Omega} \\mu_{n+1} v  \\, {\\rm d} x - \\int_{\\Omega}\n",
    "  \\frac{d f_{n+1}}{d c} v  \\, {\\rm d} x - \\int_{\\Omega} \\lambda \\nabla\n",
    "  c_{n+1} \\cdot \\nabla v \\, {\\rm d} x &= 0 \\quad \\forall \\ v \\in V\n",
    "\\end{align}\n",
    "$$\n",
    "\n",
    "where $dt = t_{n+1} - t_{n}$ and $\\mu_{n+\\theta} = (1-\\theta) \\mu_{n} +\n",
    "\\theta \\mu_{n+1}$.\n",
    "The task is: given $c_{n}$ and $\\mu_{n}$, solve the above equation to\n",
    "find $c_{n+1}$ and $\\mu_{n+1}$.\n",
    "\n",
    "### Demo parameters\n",
    "\n",
    "The following domains, functions and time stepping parameters are used\n",
    "in this demo:\n",
    "\n",
    "- $\\Omega = (0, 1) \\times (0, 1)$ (unit square)\n",
    "- $f = 100 c^{2} (1-c)^{2}$\n",
    "- $\\lambda = 1 \\times 10^{-2}$\n",
    "- $M = 1$\n",
    "- $dt = 5 \\times 10^{-6}$\n",
    "- $\\theta = 0.5$\n",
    "\n",
    "## Implementation"
   ]
  },
  {
   "cell_type": "code",
   "execution_count": null,
   "id": "3ed2d0e0",
   "metadata": {},
   "outputs": [],
   "source": [
    "import os\n",
    "from pathlib import Path\n",
    "\n",
    "from mpi4py import MPI\n",
    "from petsc4py import PETSc\n",
    "\n",
    "import numpy as np\n",
    "\n",
    "import ufl\n",
    "from basix.ufl import element, mixed_element\n",
    "from dolfinx import default_real_type, log, plot\n",
    "from dolfinx.fem import Function, functionspace\n",
    "from dolfinx.fem.petsc import NonlinearProblem\n",
    "from dolfinx.io import XDMFFile\n",
    "from dolfinx.mesh import CellType, create_unit_square\n",
    "\n",
    "try:\n",
    "    import pyvista as pv\n",
    "    import pyvistaqt as pvqt\n",
    "\n",
    "    have_pyvista = True\n",
    "except ModuleNotFoundError:\n",
    "    print(\"pyvista and pyvistaqt are required to visualise the solution\")\n",
    "    have_pyvista = False\n",
    "\n",
    "\n",
    "# Save all logging to file\n",
    "log.set_output_file(\"log.txt\")"
   ]
  },
  {
   "cell_type": "markdown",
   "id": "5872dccc",
   "metadata": {},
   "source": [
    "Next, various model parameters are defined:"
   ]
  },
  {
   "cell_type": "code",
   "execution_count": null,
   "id": "ed6d0895",
   "metadata": {},
   "outputs": [],
   "source": [
    "lmbda = 1.0e-02  # surface parameter\n",
    "dt = 5.0e-06  # time step\n",
    "theta = 0.5  # time stepping family, e.g. theta=1 -> backward Euler, theta=0.5 -> Crank-Nicholson\n",
    "t = 0.0  # Current time"
   ]
  },
  {
   "cell_type": "markdown",
   "id": "c130473a",
   "metadata": {},
   "source": [
    "A unit square mesh with 96 cells edges in each direction is created,\n",
    "and on this mesh a\n",
    "{py:class}`FunctionSpace <dolfinx.fem.FunctionSpace>` `ME` is built\n",
    "using a pair of linear Lagrange elements."
   ]
  },
  {
   "cell_type": "code",
   "execution_count": null,
   "id": "70eecd0b",
   "metadata": {},
   "outputs": [],
   "source": [
    "msh = create_unit_square(MPI.COMM_WORLD, 96, 96, CellType.triangle)\n",
    "P1 = element(\"Lagrange\", msh.basix_cell(), 1, dtype=default_real_type)\n",
    "ME = functionspace(msh, mixed_element([P1, P1]))"
   ]
  },
  {
   "cell_type": "markdown",
   "id": "14e2997d",
   "metadata": {},
   "source": [
    "Trial and test functions of the space `ME` are now defined:"
   ]
  },
  {
   "cell_type": "code",
   "execution_count": null,
   "id": "91636d15",
   "metadata": {},
   "outputs": [],
   "source": [
    "q, v = ufl.TestFunctions(ME)"
   ]
  },
  {
   "cell_type": "markdown",
   "id": "06e21fdc",
   "metadata": {},
   "source": [
    "```{index} split functions\n",
    "```\n",
    "\n",
    "For the test functions, {py:func}`TestFunctions<function\n",
    "ufl.argument.TestFunctions>` (note the 's' at the end) is used to\n",
    "define the scalar test functions `q` and `v`. Some mixed objects of\n",
    "the {py:class}`Function<dolfinx.fem.function.Function>` class on `ME`\n",
    "are defined to represent $u = (c_{n+1}, \\mu_{n+1})$ and $u0 = (c_{n},\n",
    "\\mu_{n})$, and these are then split into sub-functions:"
   ]
  },
  {
   "cell_type": "code",
   "execution_count": null,
   "id": "bbbc6102",
   "metadata": {},
   "outputs": [],
   "source": [
    "u = Function(ME)  # current solution\n",
    "u0 = Function(ME)  # solution from previous converged step\n",
    "\n",
    "# Split mixed functions\n",
    "c, mu = ufl.split(u)\n",
    "c0, mu0 = ufl.split(u0)"
   ]
  },
  {
   "cell_type": "markdown",
   "id": "f002b84c",
   "metadata": {},
   "source": [
    "The line `c, mu = split(u)` permits direct access to the\n",
    "components of a mixed function. Note that `c` and `mu` are references\n",
    "for components of `u`, and not copies.\n",
    "\n",
    "```{index} single: interpolating functions; (in Cahn-Hilliard demo)\n",
    "```\n",
    "\n",
    "The initial conditions are interpolated into a finite element space:"
   ]
  },
  {
   "cell_type": "code",
   "execution_count": null,
   "id": "bcaa19fc",
   "metadata": {},
   "outputs": [],
   "source": [
    "\n",
    "# Interpolate initial condition\n",
    "rng = np.random.default_rng(42)\n",
    "u.sub(0).interpolate(lambda x: 0.63 + 0.02 * (0.5 - rng.random(x.shape[1])))\n",
    "u.x.scatter_forward()"
   ]
  },
  {
   "cell_type": "markdown",
   "id": "5f0a1722",
   "metadata": {},
   "source": [
    "The first line creates an object of type `InitialConditions`.  The\n",
    "following two lines make `u` and `u0` interpolants of `u_init` (since\n",
    "`u` and `u0` are finite element functions, they may not be able to\n",
    "represent a given function exactly, but the function can be\n",
    "approximated by interpolating it in a finite element space).\n",
    "\n",
    "```{index} automatic differentiation\n",
    "```\n",
    "\n",
    "The chemical potential $df/dc$ is computed using UFL automatic\n",
    "differentiation:"
   ]
  },
  {
   "cell_type": "code",
   "execution_count": null,
   "id": "20414b02",
   "metadata": {},
   "outputs": [],
   "source": [
    "# Compute the chemical potential df/dc\n",
    "c = ufl.variable(c)\n",
    "f = 100 * c**2 * (1 - c) ** 2\n",
    "dfdc = ufl.diff(f, c)"
   ]
  },
  {
   "cell_type": "markdown",
   "id": "bbf4b44d",
   "metadata": {},
   "source": [
    "The first line declares that `c` is a variable that some function can\n",
    "be differentiated with respect to. The next line is the function $f$\n",
    "defined in the problem statement, and the third line performs the\n",
    "differentiation of `f` with respect to the variable `c`.\n",
    "\n",
    "It is convenient to introduce an expression for $\\mu_{n+\\theta}$:"
   ]
  },
  {
   "cell_type": "code",
   "execution_count": null,
   "id": "298b4b55",
   "metadata": {},
   "outputs": [],
   "source": [
    "mu_mid = (1.0 - theta) * mu0 + theta * mu  # mu_(n+theta)"
   ]
  },
  {
   "cell_type": "markdown",
   "id": "a42a3066",
   "metadata": {},
   "source": [
    "which is then used in the definition of the variational forms:"
   ]
  },
  {
   "cell_type": "code",
   "execution_count": null,
   "id": "b1f2b24b",
   "metadata": {},
   "outputs": [],
   "source": [
    "# Weak statement of the equations\n",
    "F0 = (\n",
    "    ufl.inner(c, q) * ufl.dx\n",
    "    - ufl.inner(c0, q) * ufl.dx\n",
    "    + dt * ufl.inner(ufl.grad(mu_mid), ufl.grad(q)) * ufl.dx\n",
    ")\n",
    "F1 = (\n",
    "    ufl.inner(mu, v) * ufl.dx\n",
    "    - ufl.inner(dfdc, v) * ufl.dx\n",
    "    - lmbda * ufl.inner(ufl.grad(c), ufl.grad(v)) * ufl.dx\n",
    ")\n",
    "F = F0 + F1"
   ]
  },
  {
   "cell_type": "markdown",
   "id": "7264759f",
   "metadata": {},
   "source": [
    "This is a statement of the time-discrete equations presented as part\n",
    "of the problem statement, using UFL syntax.\n",
    "\n",
    "```{index} single: Newton solver; (in Cahn-Hilliard demo)\n",
    "```\n",
    "\n",
    "To solve the nonlinear system of equations,\n",
    "{py:class}`NonlinearProblem<dolfinx.fem.petsc.NonlinearProblem>` object\n",
    "to solve a system of nonlinear equations.\n",
    "For the factorisation of the underlying linearized problems, prefer\n",
    "MUMPS, then superlu_dist, then default.\n",
    "We measure convergence by looking at the norm of the increment of the\n",
    "solution between two iterations, called `stol` in PETSc, see:\n",
    "[`SNES convegence tests`](https://petsc.org/release/manual/snes/#convergence-tests)\n",
    "for further details."
   ]
  },
  {
   "cell_type": "code",
   "execution_count": null,
   "id": "5d7b305f",
   "metadata": {},
   "outputs": [],
   "source": [
    "use_superlu = PETSc.IntType == np.int64  # or PETSc.ScalarType == np.complex64\n",
    "sys = PETSc.Sys()  # type: ignore\n",
    "if sys.hasExternalPackage(\"mumps\") and not use_superlu:\n",
    "    linear_solver = \"mumps\"\n",
    "elif sys.hasExternalPackage(\"superlu_dist\"):\n",
    "    linear_solver = \"superlu_dist\"\n",
    "else:\n",
    "    linear_solver = \"petsc\"\n",
    "petsc_options = {\n",
    "    \"snes_type\": \"newtonls\",\n",
    "    \"snes_linesearch_type\": \"none\",\n",
    "    \"snes_stol\": np.sqrt(np.finfo(default_real_type).eps) * 1e-2,\n",
    "    \"snes_atol\": 0,\n",
    "    \"snes_rtol\": 0,\n",
    "    \"ksp_type\": \"preonly\",\n",
    "    \"pc_type\": \"lu\",\n",
    "    \"pc_factor_mat_solver_type\": linear_solver,\n",
    "    \"snes_monitor\": None,\n",
    "}\n",
    "problem = NonlinearProblem(\n",
    "    F, u, petsc_options_prefix=\"demo_cahn-hilliard_\", petsc_options=petsc_options\n",
    ")"
   ]
  },
  {
   "cell_type": "markdown",
   "id": "3c57d8ee",
   "metadata": {},
   "source": [
    "We prepare output files and pyvista for time-dependent visualization:"
   ]
  },
  {
   "cell_type": "code",
   "execution_count": null,
   "id": "dfe01d07",
   "metadata": {},
   "outputs": [],
   "source": [
    "out_folder = Path(\"demo_ch\")\n",
    "out_folder.mkdir(parents=True, exist_ok=True)\n",
    "file = XDMFFile(MPI.COMM_WORLD, out_folder / \"output.xdmf\", \"w\")  # Output file\n",
    "file.write_mesh(msh)"
   ]
  },
  {
   "cell_type": "markdown",
   "id": "a9c71763",
   "metadata": {},
   "source": [
    "Get the sub-space for c and the corresponding dofs in the mixed space\n",
    "vector. This is used for visualization on the collapsed subspace with\n",
    "pyvista."
   ]
  },
  {
   "cell_type": "code",
   "execution_count": null,
   "id": "890d5543",
   "metadata": {},
   "outputs": [],
   "source": [
    "V0, dofs = ME.sub(0).collapse()"
   ]
  },
  {
   "cell_type": "markdown",
   "id": "661f7acd",
   "metadata": {},
   "source": [
    "Prepare viewer for plotting the solution during the computation"
   ]
  },
  {
   "cell_type": "code",
   "execution_count": null,
   "id": "ee04f4fc",
   "metadata": {
    "lines_to_next_cell": 2
   },
   "outputs": [],
   "source": [
    "if have_pyvista:\n",
    "    # Create a VTK 'mesh' with 'nodes' at the function dofs\n",
    "    topology, cell_types, x = plot.vtk_mesh(V0)\n",
    "    grid = pv.UnstructuredGrid(topology, cell_types, x)\n",
    "\n",
    "    # Set output data\n",
    "    grid.point_data[\"c\"] = u.x.array[dofs].real\n",
    "    grid.set_active_scalars(\"c\")\n",
    "\n",
    "    p = pvqt.BackgroundPlotter(title=\"concentration\", auto_update=True)\n",
    "    p.add_mesh(grid, clim=[0, 1])\n",
    "    p.view_xy(negative=True)\n",
    "    p.add_text(f\"time: {t}\", font_size=12, name=\"timelabel\")"
   ]
  },
  {
   "cell_type": "code",
   "execution_count": null,
   "id": "c2bf447a",
   "metadata": {},
   "outputs": [],
   "source": [
    "# Reduce run time if on test (CI) server\n",
    "if \"CI\" in os.environ.keys() or \"GITHUB_ACTIONS\" in os.environ.keys():\n",
    "    T = 3 * dt\n",
    "else:\n",
    "    T = 50 * dt"
   ]
  },
  {
   "cell_type": "markdown",
   "id": "96c64993",
   "metadata": {},
   "source": [
    "The solver is advanced in time from $t_{n}$ to\n",
    "$t_{n+1}$ until a terminal time $T$ is reached"
   ]
  },
  {
   "cell_type": "code",
   "execution_count": null,
   "id": "af982c93",
   "metadata": {},
   "outputs": [],
   "source": [
    "c = u.sub(0)\n",
    "u0.x.array[:] = u.x.array\n",
    "step = 0\n",
    "while t < T:\n",
    "    t += dt\n",
    "    _ = problem.solve()\n",
    "    converged_reason = problem.solver.getConvergedReason()\n",
    "    assert converged_reason > 0\n",
    "    num_iterations = problem.solver.getIterationNumber()\n",
    "    print(f\"Step {step}: {converged_reason=} {num_iterations=}\")\n",
    "    u0.x.array[:] = u.x.array\n",
    "    file.write_function(c, t)\n",
    "\n",
    "    # Flushing the output ensures that the full output is written to the\n",
    "    # disk.\n",
    "    file.flush()\n",
    "    step += 1\n",
    "\n",
    "    # Update the plot window\n",
    "    if have_pyvista:\n",
    "        p.add_text(f\"time: {t:.2e}\", font_size=12, name=\"timelabel\")\n",
    "        grid.point_data[\"c\"] = u.x.array[dofs].real\n",
    "        p.app.processEvents()\n",
    "\n",
    "file.close()"
   ]
  },
  {
   "cell_type": "markdown",
   "id": "ce0489e8",
   "metadata": {},
   "source": [
    "Update plot"
   ]
  },
  {
   "cell_type": "code",
   "execution_count": null,
   "id": "de0a4886",
   "metadata": {},
   "outputs": [],
   "source": [
    "if have_pyvista:\n",
    "    grid.point_data[\"c\"] = u.x.array[dofs].real\n",
    "    screenshot = out_folder / \"ch.png\" if pv.OFF_SCREEN else None\n",
    "    pv.plot(grid, show_edges=True, screenshot=screenshot)"
   ]
  }
 ],
 "metadata": {
  "jupytext": {
   "main_language": "python"
  }
 },
 "nbformat": 4,
 "nbformat_minor": 5
}

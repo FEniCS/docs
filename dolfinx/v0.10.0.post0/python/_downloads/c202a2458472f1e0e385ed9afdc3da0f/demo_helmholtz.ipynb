{
 "cells": [
  {
   "cell_type": "markdown",
   "id": "6a50d497",
   "metadata": {},
   "source": [
    "# Helmholtz equation\n",
    "\n",
    "Copyright (C) 2018-2025 Samuel Groth and Jørgen S. Dokken\n",
    "\n",
    "```{admonition} Download sources\n",
    ":class: download\n",
    "* {download}`Python script <./demo_helmholtz.py>`\n",
    "* {download}`Jupyter notebook <./demo_helmholtz.ipynb>`\n",
    "```\n",
    "This demo illustrates how to:\n",
    "- Create a complex-valued finite element formulation\n",
    "In the following example, we will consider the Helmholtz equation solved\n",
    "with both a complex valued and a real valued finite element formulation.\n",
    "\n",
    "In the complex mode, the exact solution is a plane wave propagating at\n",
    "an angle theta to the positive x-axis. Chosen for comparison with\n",
    "results from Ihlenburg's book [Finite Element Analysis of Acoustic\n",
    "Scattering, p138-139](https://doi.org/10.1007/0-387-22700-8_4).\n",
    "In real mode, the exact solution corresponds to\n",
    "the real part of the plane wave (a sin function which also solves the\n",
    "homogeneous Helmholtz equation)."
   ]
  },
  {
   "cell_type": "markdown",
   "id": "60126b53",
   "metadata": {},
   "source": [
    "We start by importing the necessary modules"
   ]
  },
  {
   "cell_type": "code",
   "execution_count": null,
   "id": "f5b4a01b",
   "metadata": {},
   "outputs": [],
   "source": [
    "from mpi4py import MPI\n",
    "from petsc4py import PETSc\n",
    "\n",
    "import numpy as np\n",
    "\n",
    "import ufl\n",
    "from dolfinx.fem import (\n",
    "    Expression,\n",
    "    Function,\n",
    "    assemble_scalar,\n",
    "    dirichletbc,\n",
    "    form,\n",
    "    functionspace,\n",
    "    locate_dofs_geometrical,\n",
    ")\n",
    "from dolfinx.fem.petsc import LinearProblem\n",
    "from dolfinx.io import XDMFFile\n",
    "from dolfinx.mesh import create_unit_square\n"
   ]
  },
  {
   "cell_type": "markdown",
   "id": "c1acbc60",
   "metadata": {},
   "source": [
    "We define the necessary parameters for the discretized problem"
   ]
  },
  {
   "cell_type": "code",
   "execution_count": null,
   "id": "d1003c8b",
   "metadata": {},
   "outputs": [],
   "source": [
    "k0 = 4 * np.pi  # Wavenumber\n",
    "deg = 1  # Approximation space polynomial degree\n",
    "n_elem = 64  # Number of elements in each direction of the mesh\n",
    "A = 1  # Source amplitude"
   ]
  },
  {
   "cell_type": "markdown",
   "id": "f7421c29",
   "metadata": {},
   "source": [
    "Next, we create the discrete domain, a unit square and set up the\n",
    "discrete function space."
   ]
  },
  {
   "cell_type": "code",
   "execution_count": null,
   "id": "fb463381",
   "metadata": {},
   "outputs": [],
   "source": [
    "msh = create_unit_square(MPI.COMM_WORLD, n_elem, n_elem)\n",
    "V = functionspace(msh, (\"Lagrange\", deg))"
   ]
  },
  {
   "cell_type": "markdown",
   "id": "ed599130",
   "metadata": {},
   "source": [
    "## Define variational problem.\n",
    "The Helmholtz equation can be discretized in the same way for both the\n",
    "real and complex valued formulation. However, note that we use\n",
    "`ufl.inner` instead of `ufl.dot` or the ` * ` operator between\n",
    "the test and trial function, and that the test-function is\n",
    "**always** the second variable in the operator.\n",
    "The reason for this is that for complex variational forms,\n",
    "one requires a sesquilinear two-form, with the inner product being\n",
    "$(a,b)=\\int_\\Omega a \\cdot \\bar{b}~\\mathrm{d}x$."
   ]
  },
  {
   "cell_type": "code",
   "execution_count": null,
   "id": "9dd1d5cc",
   "metadata": {},
   "outputs": [],
   "source": [
    "u, v = ufl.TrialFunction(V), ufl.TestFunction(V)\n",
    "a = ufl.inner(ufl.grad(u), ufl.grad(v)) * ufl.dx - k0**2 * ufl.inner(u, v) * ufl.dx"
   ]
  },
  {
   "cell_type": "markdown",
   "id": "5fec8b6d",
   "metadata": {
    "lines_to_next_cell": 2
   },
   "source": [
    "We solve for plane wave with mixed Dirichlet and Neumann BCs.\n",
    "We use ufl to manufacture an exact solution and corresponding\n",
    "boundary conditions."
   ]
  },
  {
   "cell_type": "code",
   "execution_count": null,
   "id": "81a131e9",
   "metadata": {},
   "outputs": [],
   "source": [
    "theta = np.pi / 4\n",
    "V_exact = functionspace(\n",
    "    msh, (\"Lagrange\", deg + 3)\n",
    ")  # Exact solution should be in a higher order space\n",
    "u_exact = Function(V_exact, name=\"u_exact\")\n",
    "u_exact.interpolate(lambda x: A * np.exp(1j * k0 * (np.cos(theta) * x[0] + np.sin(theta) * x[1])))\n",
    "x = ufl.SpatialCoordinate(msh)\n",
    "n = ufl.FacetNormal(msh)\n",
    "g = -ufl.dot(n, ufl.grad(u_exact))\n",
    "L = -ufl.inner(g, v) * ufl.ds\n",
    "\n",
    "dofs_D = locate_dofs_geometrical(\n",
    "    V, lambda x: np.logical_or(np.isclose(x[0], 0), np.isclose(x[1], 0))\n",
    ")\n",
    "u_bc = Function(V)\n",
    "u_bc.interpolate(Expression(u_exact, V.element.interpolation_points))\n",
    "bcs = [dirichletbc(u_bc, dofs_D)]"
   ]
  },
  {
   "cell_type": "markdown",
   "id": "b3c90167",
   "metadata": {},
   "source": [
    "In this problem, we rely on PETSc as the linear algebra backend.\n",
    "PETSc can only be configured for a either real of complex valued matrices\n",
    "and vectors. We can check how PETSc is configured by calling"
   ]
  },
  {
   "cell_type": "code",
   "execution_count": null,
   "id": "7214c2d7",
   "metadata": {},
   "outputs": [],
   "source": [
    "is_complex_mode = np.issubdtype(PETSc.ScalarType, np.complexfloating)\n",
    "PETSc.Sys.Print(f\"PETSc is configured in complex mode: {is_complex_mode}\")\n",
    "\n",
    "uh = Function(V)\n",
    "uh.name = \"u\"\n",
    "problem = LinearProblem(\n",
    "    a,\n",
    "    L,\n",
    "    bcs=bcs,\n",
    "    u=uh,\n",
    "    petsc_options_prefix=\"demo_helmholtz_\",\n",
    "    petsc_options={\"ksp_type\": \"preonly\", \"pc_type\": \"lu\", \"ksp_error_if_not_converged\": True},\n",
    ")\n",
    "_ = problem.solve()"
   ]
  },
  {
   "cell_type": "markdown",
   "id": "dd8d5672",
   "metadata": {},
   "source": [
    "Save solution in XDMF format (to be viewed in ParaView, for example)"
   ]
  },
  {
   "cell_type": "code",
   "execution_count": null,
   "id": "97202539",
   "metadata": {},
   "outputs": [],
   "source": [
    "with XDMFFile(\n",
    "    MPI.COMM_WORLD, \"out_helmholtz/plane_wave.xdmf\", \"w\", encoding=XDMFFile.Encoding.HDF5\n",
    ") as file:\n",
    "    file.write_mesh(msh)\n",
    "    file.write_function(uh)"
   ]
  },
  {
   "cell_type": "markdown",
   "id": "4acb737f",
   "metadata": {},
   "source": [
    "Calculate $L_2$ and $H_0^1$ errors of FEM solution and best\n",
    "approximation. This demonstrates the error bounds given in Ihlenburg.\n",
    "Pollution errors are evident for high wavenumbers."
   ]
  },
  {
   "cell_type": "code",
   "execution_count": null,
   "id": "da4afc18",
   "metadata": {},
   "outputs": [],
   "source": [
    "diff = uh - u_exact\n",
    "H1_diff = msh.comm.allreduce(\n",
    "    assemble_scalar(form(ufl.inner(ufl.grad(diff), ufl.grad(diff)) * ufl.dx)), op=MPI.SUM\n",
    ")\n",
    "H1_exact = msh.comm.allreduce(\n",
    "    assemble_scalar(form(ufl.inner(ufl.grad(u_exact), ufl.grad(u_exact)) * ufl.dx)), op=MPI.SUM\n",
    ")\n",
    "PETSc.Sys.Print(\"Relative H1 error of FEM solution:\", abs(np.sqrt(H1_diff) / np.sqrt(H1_exact)))"
   ]
  },
  {
   "cell_type": "code",
   "execution_count": null,
   "id": "540c9e30",
   "metadata": {},
   "outputs": [],
   "source": [
    "L2_diff = msh.comm.allreduce(assemble_scalar(form(ufl.inner(diff, diff) * ufl.dx)), op=MPI.SUM)\n",
    "L2_exact = msh.comm.allreduce(\n",
    "    assemble_scalar(form(ufl.inner(u_exact, u_exact) * ufl.dx)), op=MPI.SUM\n",
    ")\n",
    "PETSc.Sys.Print(\"Relative L2 error of FEM solution:\", abs(np.sqrt(L2_diff) / np.sqrt(L2_exact)))"
   ]
  }
 ],
 "metadata": {
  "jupytext": {
   "main_language": "python"
  }
 },
 "nbformat": 4,
 "nbformat_minor": 5
}

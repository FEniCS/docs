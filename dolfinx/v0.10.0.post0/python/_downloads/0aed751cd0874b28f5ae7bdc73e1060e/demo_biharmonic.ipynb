{
 "cells": [
  {
   "cell_type": "markdown",
   "id": "f0e8b297",
   "metadata": {
    "lines_to_next_cell": 2
   },
   "source": [
    "# Biharmonic equation\n",
    "\n",
    "```{admonition} Download sources\n",
    ":class: download\n",
    "* {download}`Python script <./demo_biharmonic.py>`\n",
    "* {download}`Jupyter notebook <./demo_biharmonic.ipynb>`\n",
    "```\n",
    "This demo illustrates how to:\n",
    "\n",
    "- Solve a linear partial differential equation\n",
    "- Use a discontinuous Galerkin method\n",
    "- Solve a fourth-order differential equation\n",
    "\n",
    "## Equation and problem definition\n",
    "\n",
    "### Strong formulation\n",
    "\n",
    "The biharmonic equation is a fourth-order elliptic equation.\n",
    "On the domain $\\Omega \\subset \\mathbb{R}^{d}$, $1 \\le d \\le 3$, it reads\n",
    "\n",
    "$$\n",
    "\\nabla^{4} u = f \\quad {\\rm in} \\ \\Omega,\n",
    "$$\n",
    "\n",
    "where $\\nabla^{4} \\equiv \\nabla^{2} \\nabla^{2}$ is the biharmonic\n",
    "operator and $f$ is a prescribed source term.\n",
    "To formulate a complete boundary value problem, the biharmonic equation\n",
    "must be complemented by suitable boundary conditions.\n",
    "\n",
    "### Weak formulation\n",
    "\n",
    "Multiplying the biharmonic equation by a test function and integrating\n",
    "by parts twice leads to a problem of second-order derivatives, which\n",
    "would require $H^{2}$ conforming (roughly $C^{1}$ continuous) basis\n",
    "functions. To solve the biharmonic equation using Lagrange finite element\n",
    "basis functions, the biharmonic equation can be split into two second-\n",
    "order equations (see the Mixed Poisson demo for a mixed method for the\n",
    "Poisson equation), or a variational formulation can be constructed that\n",
    "imposes weak continuity of normal derivatives between finite element\n",
    "cells. This demo uses a discontinuous Galerkin approach to impose\n",
    "continuity of the normal derivative weakly.\n",
    "\n",
    "Consider a triangulation $\\mathcal{T}$ of the domain $\\Omega$, where\n",
    "the set of interior facets is denoted by $\\mathcal{E}_h^{\\rm int}$.\n",
    "Functions evaluated on opposite sides of a facet are indicated by the\n",
    "subscripts $+$ and $-$.\n",
    "Using the standard continuous Lagrange finite element space\n",
    "\n",
    "$$\n",
    "V = \\left\\{v \\in H^{1}_{0}(\\Omega)\\,:\\, v \\in P_{k}(K) \\\n",
    "\\forall \\ K \\in \\mathcal{T} \\right\\}\n",
    "$$\n",
    "\n",
    "and considering the boundary conditions\n",
    "\n",
    "$$\n",
    "\\begin{align}\n",
    "u &= 0 \\quad {\\rm on} \\ \\partial\\Omega, \\\\\n",
    "\\nabla^{2} u &= 0 \\quad {\\rm on} \\ \\partial\\Omega,\n",
    "\\end{align}\n",
    "$$\n",
    "\n",
    "a weak formulation of the biharmonic problem reads: find $u \\in V$ such\n",
    "that\n",
    "\n",
    "$$\n",
    "a(u,v)=L(v) \\quad \\forall \\ v \\in V,\n",
    "$$\n",
    "\n",
    "where the bilinear form is\n",
    "\n",
    "$$\n",
    "a(u, v) =\n",
    "\\sum_{K \\in \\mathcal{T}} \\int_{K} \\nabla^{2} u \\nabla^{2} v \\, {\\rm d}x \\\n",
    "+\\sum_{E \\in \\mathcal{E}_h^{\\rm int}}\\left(\\int_{E} \\frac{\\alpha}{h_E}\n",
    "[\\!\\![ \\nabla u ]\\!\\!] [\\!\\![ \\nabla v ]\\!\\!] \\, {\\rm d}s\n",
    "- \\int_{E} \\left<\\nabla^{2} u \\right>[\\!\\![ \\nabla v ]\\!\\!]  \\, {\\rm d}s\n",
    "- \\int_{E} [\\!\\![ \\nabla u ]\\!\\!] \\left<\\nabla^{2} v \\right> \\,\n",
    "{\\rm d}s\\right)\n",
    "$$\n",
    "\n",
    "and the linear form is\n",
    "\n",
    "$$\n",
    "L(v) = \\int_{\\Omega} fv \\, {\\rm d}x.\n",
    "$$\n",
    "\n",
    "Furthermore, $\\left< u \\right> = \\frac{1}{2} (u_{+} + u_{-})$,\n",
    "$[\\!\\![ w ]\\!\\!]  = w_{+} \\cdot n_{+} + w_{-} \\cdot n_{-}$,\n",
    "$\\alpha \\ge 0$ is a penalty parameter and\n",
    "$h_E$ is a measure of the cell size.\n",
    "\n",
    "The input parameters for this demo are defined as follows:\n",
    "\n",
    "- $\\Omega = [0,1] \\times [0,1]$ (a unit square)\n",
    "- $\\alpha = 8.0$ (penalty parameter)\n",
    "- $f = 4.0 \\pi^4\\sin(\\pi x)\\sin(\\pi y)$ (source term)\n",
    "\n",
    "## Implementation\n",
    "\n",
    "We first import the modules and functions that the program uses:"
   ]
  },
  {
   "cell_type": "code",
   "execution_count": null,
   "id": "ff945249",
   "metadata": {},
   "outputs": [],
   "source": [
    "from pathlib import Path\n",
    "\n",
    "from mpi4py import MPI\n",
    "from petsc4py.PETSc import ScalarType  # type: ignore\n",
    "\n",
    "import ufl\n",
    "from dolfinx import fem, io, mesh, plot\n",
    "from dolfinx.fem.petsc import LinearProblem\n",
    "from dolfinx.mesh import CellType, GhostMode\n"
   ]
  },
  {
   "cell_type": "markdown",
   "id": "3064d7bc",
   "metadata": {},
   "source": [
    "We begin by using {py:func}`create_rectangle\n",
    "<dolfinx.mesh.create_rectangle>` to create a rectangular\n",
    "{py:class}`Mesh <dolfinx.mesh.Mesh>` of the domain, and creating a\n",
    "finite element {py:class}`FunctionSpace <dolfinx.fem.FunctionSpace>`\n",
    "$V$ on the mesh."
   ]
  },
  {
   "cell_type": "code",
   "execution_count": null,
   "id": "678ada80",
   "metadata": {},
   "outputs": [],
   "source": [
    "msh = mesh.create_rectangle(\n",
    "    comm=MPI.COMM_WORLD,\n",
    "    points=((0.0, 0.0), (1.0, 1.0)),\n",
    "    n=(32, 32),\n",
    "    cell_type=CellType.triangle,\n",
    "    ghost_mode=GhostMode.shared_facet,\n",
    ")\n",
    "V = fem.functionspace(msh, (\"Lagrange\", 2))"
   ]
  },
  {
   "cell_type": "markdown",
   "id": "306a4205",
   "metadata": {},
   "source": [
    "The second argument to {py:func}`functionspace\n",
    "<dolfinx.fem.functionspace>` is a tuple consisting of `(family,\n",
    "degree)`, where `family` is the finite element family, and `degree`\n",
    "specifies the polynomial degree. in this case `V` consists of\n",
    "second-order, continuous Lagrange finite element functions.\n",
    "For further details of how one can specify\n",
    "finite elements as tuples, see {py:class}`ElementMetaData\n",
    "<dolfinx.fem.ElementMetaData>`.\n",
    "\n",
    "Next, we locate the mesh facets that lie on the boundary\n",
    "$\\Gamma_D = \\partial\\Omega$.\n",
    "We do this using using {py:func}`exterior_facet_indices\n",
    "<dolfinx.mesh.exterior_facet_indices>` which returns all mesh boundary\n",
    "facets (Note: if we are only interested in a subset of those, consider\n",
    "{py:func}`locate_entities_boundary\n",
    "<dolfinx.mesh.locate_entities_boundary>`)."
   ]
  },
  {
   "cell_type": "code",
   "execution_count": null,
   "id": "c09c5c39",
   "metadata": {},
   "outputs": [],
   "source": [
    "tdim = msh.topology.dim\n",
    "msh.topology.create_connectivity(tdim - 1, tdim)\n",
    "facets = mesh.exterior_facet_indices(msh.topology)"
   ]
  },
  {
   "cell_type": "markdown",
   "id": "cf12500c",
   "metadata": {},
   "source": [
    "We now find the degrees-of-freedom that are associated with the\n",
    "boundary facets using {py:func}`locate_dofs_topological\n",
    "<dolfinx.fem.locate_dofs_topological>`"
   ]
  },
  {
   "cell_type": "code",
   "execution_count": null,
   "id": "2ea59eb0",
   "metadata": {},
   "outputs": [],
   "source": [
    "dofs = fem.locate_dofs_topological(V=V, entity_dim=1, entities=facets)"
   ]
  },
  {
   "cell_type": "markdown",
   "id": "c68fec66",
   "metadata": {},
   "source": [
    "and use {py:func}`dirichletbc <dolfinx.fem.dirichletbc>` to create a\n",
    "{py:class}`DirichletBC <dolfinx.fem.DirichletBC>`\n",
    "class that represents the boundary condition. In this case, we impose\n",
    "Dirichlet boundary conditions with value $0$ on the entire boundary\n",
    "$\\partial\\Omega$."
   ]
  },
  {
   "cell_type": "code",
   "execution_count": null,
   "id": "dbf40930",
   "metadata": {},
   "outputs": [],
   "source": [
    "bc = fem.dirichletbc(value=ScalarType(0), dofs=dofs, V=V)"
   ]
  },
  {
   "cell_type": "markdown",
   "id": "44598053",
   "metadata": {},
   "source": [
    "Next, we express the variational problem using UFL.\n",
    "\n",
    "First, the penalty parameter $\\alpha$ is defined. In addition, we define\n",
    "a variable `h` for the cell diameter $h_E$, a variable `n`for the\n",
    "outward-facing normal vector $n$ and a variable `h_avg` for the\n",
    "average size of cells sharing a facet\n",
    "$\\left< h \\right> = \\frac{1}{2} (h_{+} + h_{-})$. Here, the UFL syntax\n",
    "`('+')` and `('-')` restricts a function to the `('+')` and `('-')`\n",
    "sides of a facet."
   ]
  },
  {
   "cell_type": "code",
   "execution_count": null,
   "id": "8bb861f2",
   "metadata": {},
   "outputs": [],
   "source": [
    "alpha = ScalarType(8.0)\n",
    "h = ufl.CellDiameter(msh)\n",
    "n = ufl.FacetNormal(msh)\n",
    "h_avg = (h(\"+\") + h(\"-\")) / 2.0"
   ]
  },
  {
   "cell_type": "markdown",
   "id": "c123799c",
   "metadata": {},
   "source": [
    "After that, we can define the variational problem consisting of the\n",
    "bilinear form $a$ and the linear form $L$. The source term is prescribed\n",
    "as $f = 4.0 \\pi^4\\sin(\\pi x)\\sin(\\pi y)$. Note that with `dS`,\n",
    "integration is carried out over all the interior facets\n",
    "$\\mathcal{E}_h^{\\rm int}$, whereas with `ds` it would be only the facets\n",
    "on the boundary of the domain, i.e. $\\partial\\Omega$. The jump operator\n",
    "$[\\!\\![ w ]\\!\\!] = w_{+} \\cdot n_{+} + w_{-} \\cdot n_{-}$ w.r.t. the\n",
    "outward-facing normal vector $n$ is in UFL available as `jump(w, n)`."
   ]
  },
  {
   "cell_type": "code",
   "execution_count": null,
   "id": "f9765796",
   "metadata": {},
   "outputs": [],
   "source": [
    "# Define variational problem\n",
    "u = ufl.TrialFunction(V)\n",
    "v = ufl.TestFunction(V)\n",
    "x = ufl.SpatialCoordinate(msh)\n",
    "f = 4.0 * ufl.pi**4 * ufl.sin(ufl.pi * x[0]) * ufl.sin(ufl.pi * x[1])\n",
    "\n",
    "a = (\n",
    "    ufl.inner(ufl.div(ufl.grad(u)), ufl.div(ufl.grad(v))) * ufl.dx\n",
    "    - ufl.inner(ufl.avg(ufl.div(ufl.grad(u))), ufl.jump(ufl.grad(v), n)) * ufl.dS\n",
    "    - ufl.inner(ufl.jump(ufl.grad(u), n), ufl.avg(ufl.div(ufl.grad(v)))) * ufl.dS\n",
    "    + alpha / h_avg * ufl.inner(ufl.jump(ufl.grad(u), n), ufl.jump(ufl.grad(v), n)) * ufl.dS\n",
    ")\n",
    "L = ufl.inner(f, v) * ufl.dx"
   ]
  },
  {
   "cell_type": "markdown",
   "id": "9571cd8a",
   "metadata": {},
   "source": [
    "We create a {py:class}`LinearProblem <dolfinx.fem.petsc.LinearProblem>`\n",
    "object that brings together the variational problem, the Dirichlet\n",
    "boundary condition, and which specifies the linear solver. In this\n",
    "case we use a direct (LU) solver. The {py:func}`solve\n",
    "<dolfinx.fem.petsc.LinearProblem.solve>` will compute a solution."
   ]
  },
  {
   "cell_type": "code",
   "execution_count": null,
   "id": "dcb30fa8",
   "metadata": {},
   "outputs": [],
   "source": [
    "problem = LinearProblem(\n",
    "    a,\n",
    "    L,\n",
    "    bcs=[bc],\n",
    "    petsc_options_prefix=\"demo_biharmonic_\",\n",
    "    petsc_options={\"ksp_type\": \"preonly\", \"pc_type\": \"lu\"},\n",
    ")\n",
    "uh = problem.solve()\n",
    "assert isinstance(uh, fem.Function)\n",
    "assert problem.solver.getConvergedReason() > 0"
   ]
  },
  {
   "cell_type": "markdown",
   "id": "426cb4c1",
   "metadata": {},
   "source": [
    "The solution can be written to a  {py:class}`XDMFFile\n",
    "<dolfinx.io.XDMFFile>` file visualization with ParaView or VisIt"
   ]
  },
  {
   "cell_type": "code",
   "execution_count": null,
   "id": "d97ca40b",
   "metadata": {},
   "outputs": [],
   "source": [
    "out_folder = Path(\"out_biharmonic\")\n",
    "out_folder.mkdir(parents=True, exist_ok=True)\n",
    "with io.XDMFFile(msh.comm, out_folder / \"biharmonic.xdmf\", \"w\") as file:\n",
    "    V1 = fem.functionspace(msh, (\"Lagrange\", 1))\n",
    "    u1 = fem.Function(V1)\n",
    "    u1.interpolate(uh)\n",
    "    file.write_mesh(msh)\n",
    "    file.write_function(u1)"
   ]
  },
  {
   "cell_type": "markdown",
   "id": "e8755df1",
   "metadata": {},
   "source": [
    "and displayed using [pyvista](https://docs.pyvista.org/)."
   ]
  },
  {
   "cell_type": "code",
   "execution_count": null,
   "id": "cb4f97c6",
   "metadata": {},
   "outputs": [],
   "source": [
    "try:\n",
    "    import pyvista\n",
    "\n",
    "    cells, types, x = plot.vtk_mesh(V)\n",
    "    grid = pyvista.UnstructuredGrid(cells, types, x)\n",
    "    grid.point_data[\"u\"] = uh.x.array.real\n",
    "    grid.set_active_scalars(\"u\")\n",
    "    plotter = pyvista.Plotter()\n",
    "    plotter.add_mesh(grid, show_edges=True)\n",
    "    warped = grid.warp_by_scalar()\n",
    "    plotter.add_mesh(warped)\n",
    "    if pyvista.OFF_SCREEN:\n",
    "        plotter.screenshot(out_folder / \"uh_biharmonic.png\")\n",
    "    else:\n",
    "        plotter.show()\n",
    "except ModuleNotFoundError:\n",
    "    print(\"'pyvista' is required to visualise the solution\")\n",
    "    print(\"Install 'pyvista' with pip: 'python3 -m pip install pyvista'\")"
   ]
  }
 ],
 "metadata": {
  "kernelspec": {
   "display_name": "Python 3 (ipykernel)",
   "language": "python",
   "name": "python3"
  }
 },
 "nbformat": 4,
 "nbformat_minor": 5
}

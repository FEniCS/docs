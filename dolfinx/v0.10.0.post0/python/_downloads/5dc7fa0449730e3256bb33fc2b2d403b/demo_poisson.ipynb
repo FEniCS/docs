{
 "cells": [
  {
   "cell_type": "markdown",
   "id": "21c5ef4e",
   "metadata": {},
   "source": [
    "# Poisson equation\n",
    "\n",
    "This demo illustrates how to:\n",
    "\n",
    "- Create a {py:class}`function space <dolfinx.fem.FunctionSpace>`\n",
    "- Solve a linear partial differential equation\n",
    "\n",
    "```{admonition} Download sources\n",
    ":class: download\n",
    "* {download}`Python script <./demo_poisson.py>`\n",
    "* {download}`Jupyter notebook <./demo_poisson.ipynb>`\n",
    "```\n",
    "## Equation and problem definition\n",
    "\n",
    "For a domain $\\Omega \\subset \\mathbb{R}^n$ with boundary $\\partial\n",
    "\\Omega = \\Gamma_{D} \\cup \\Gamma_{N}$, the Poisson equation with\n",
    "particular boundary conditions reads:\n",
    "\n",
    "$$\n",
    "\\begin{align}\n",
    "  - \\nabla^{2} u &= f \\quad {\\rm in} \\ \\Omega, \\\\\n",
    "  u &= 0 \\quad {\\rm on} \\ \\Gamma_{D}, \\\\\n",
    "  \\nabla u \\cdot n &= g \\quad {\\rm on} \\ \\Gamma_{N}. \\\\\n",
    "\\end{align}\n",
    "$$\n",
    "\n",
    "where $f$ and $g$ are input data and $n$ denotes the outward directed\n",
    "boundary normal. The variational problem reads: find $u \\in V$ such\n",
    "that\n",
    "\n",
    "$$\n",
    "a(u, v) = L(v) \\quad \\forall \\ v \\in V,\n",
    "$$\n",
    "\n",
    "where $V$ is a suitable function space and\n",
    "\n",
    "$$\n",
    "\\begin{align}\n",
    "  a(u, v) &:= \\int_{\\Omega} \\nabla u \\cdot \\nabla v \\, {\\rm d} x, \\\\\n",
    "  L(v)    &:= \\int_{\\Omega} f v \\, {\\rm d} x + \\int_{\\Gamma_{N}} g v \\,\n",
    "              {\\rm d} s.\n",
    "\\end{align}\n",
    "$$\n",
    "\n",
    "The expression $a(u, v)$ is the bilinear form and $L(v)$\n",
    "is the linear form. It is assumed that all functions in $V$\n",
    "satisfy the Dirichlet boundary conditions ($u = 0 \\ {\\rm on} \\\n",
    "\\Gamma_{D}$).\n",
    "\n",
    "In this demo we consider:\n",
    "\n",
    "- $\\Omega = [0,2] \\times [0,1]$ (a rectangle)\n",
    "- $\\Gamma_{D} = \\{(0, y) \\cup (2, y) \\subset \\partial \\Omega\\}$\n",
    "- $\\Gamma_{N} = \\{(x, 0) \\cup (x, 1) \\subset \\partial \\Omega\\}$\n",
    "- $g = \\sin(5x)$\n",
    "- $f = 10\\exp(-((x - 0.5)^2 + (y - 0.5)^2) / 0.02)$\n",
    "\n",
    "## Implementation\n",
    "\n",
    "The modules that will be used are imported:"
   ]
  },
  {
   "cell_type": "code",
   "execution_count": null,
   "id": "230d217f",
   "metadata": {},
   "outputs": [],
   "source": [
    "from pathlib import Path\n",
    "\n",
    "from mpi4py import MPI\n",
    "from petsc4py.PETSc import ScalarType  # type: ignore\n",
    "\n",
    "import numpy as np\n",
    "\n",
    "import ufl\n",
    "from dolfinx import fem, io, mesh, plot\n",
    "from dolfinx.fem.petsc import LinearProblem\n"
   ]
  },
  {
   "cell_type": "markdown",
   "id": "f836eb30",
   "metadata": {},
   "source": [
    "Note that it is important to first `from mpi4py import MPI` to\n",
    "ensure that MPI is correctly initialised."
   ]
  },
  {
   "cell_type": "markdown",
   "id": "cb47fd9f",
   "metadata": {},
   "source": [
    "We create a rectangular {py:class}`Mesh <dolfinx.mesh.Mesh>` using\n",
    "{py:func}`create_rectangle <dolfinx.mesh.create_rectangle>`, and\n",
    "create a finite element {py:class}`function space\n",
    "<dolfinx.fem.FunctionSpace>` $V$ on the mesh."
   ]
  },
  {
   "cell_type": "code",
   "execution_count": null,
   "id": "5bd62ea0",
   "metadata": {},
   "outputs": [],
   "source": [
    "msh = mesh.create_rectangle(\n",
    "    comm=MPI.COMM_WORLD,\n",
    "    points=((0.0, 0.0), (2.0, 1.0)),\n",
    "    n=(32, 16),\n",
    "    cell_type=mesh.CellType.triangle,\n",
    ")\n",
    "V = fem.functionspace(msh, (\"Lagrange\", 1))"
   ]
  },
  {
   "cell_type": "markdown",
   "id": "2d5a2f62",
   "metadata": {},
   "source": [
    "The second argument to {py:func}`functionspace\n",
    "<dolfinx.fem.functionspace>` is a tuple `(family, degree)`, where\n",
    "`family` is the finite element family, and `degree` specifies the\n",
    "polynomial degree. In this case `V` is a space of continuous Lagrange\n",
    "finite elements of degree 1. For further details of how one can specify\n",
    "finite elements as tuples, see {py:class}`ElementMetaData\n",
    "<dolfinx.fem.ElementMetaData>`.\n",
    "\n",
    "To apply the Dirichlet boundary conditions, we find the mesh facets\n",
    "(entities of topological co-dimension 1) that lie on the boundary\n",
    "$\\Gamma_D$ using {py:func}`locate_entities_boundary\n",
    "<dolfinx.mesh.locate_entities_boundary>`. The function is provided\n",
    "with a 'marker' function that returns `True` for points `x` on the\n",
    "boundary and `False` otherwise."
   ]
  },
  {
   "cell_type": "code",
   "execution_count": null,
   "id": "3836a76e",
   "metadata": {},
   "outputs": [],
   "source": [
    "facets = mesh.locate_entities_boundary(\n",
    "    msh,\n",
    "    dim=(msh.topology.dim - 1),\n",
    "    marker=lambda x: np.isclose(x[0], 0.0) | np.isclose(x[0], 2.0),\n",
    ")"
   ]
  },
  {
   "cell_type": "markdown",
   "id": "0282dca3",
   "metadata": {},
   "source": [
    "We now find the degrees-of-freedom that are associated with the\n",
    "boundary facets using {py:func}`locate_dofs_topological\n",
    "<dolfinx.fem.locate_dofs_topological>`:"
   ]
  },
  {
   "cell_type": "code",
   "execution_count": null,
   "id": "de274106",
   "metadata": {},
   "outputs": [],
   "source": [
    "dofs = fem.locate_dofs_topological(V=V, entity_dim=1, entities=facets)"
   ]
  },
  {
   "cell_type": "markdown",
   "id": "c42ec40b",
   "metadata": {},
   "source": [
    "and use {py:func}`dirichletbc <dolfinx.fem.dirichletbc>` to create a\n",
    "{py:class}`DirichletBC <dolfinx.fem.DirichletBC>` class that\n",
    "represents the boundary condition:"
   ]
  },
  {
   "cell_type": "code",
   "execution_count": null,
   "id": "c4327d85",
   "metadata": {},
   "outputs": [],
   "source": [
    "bc = fem.dirichletbc(value=ScalarType(0), dofs=dofs, V=V)"
   ]
  },
  {
   "cell_type": "markdown",
   "id": "392e30b1",
   "metadata": {},
   "source": [
    "Next, the variational problem is defined:"
   ]
  },
  {
   "cell_type": "code",
   "execution_count": null,
   "id": "33dc71e9",
   "metadata": {},
   "outputs": [],
   "source": [
    "u = ufl.TrialFunction(V)\n",
    "v = ufl.TestFunction(V)\n",
    "x = ufl.SpatialCoordinate(msh)\n",
    "f = 10 * ufl.exp(-((x[0] - 0.5) ** 2 + (x[1] - 0.5) ** 2) / 0.02)\n",
    "g = ufl.sin(5 * x[0])\n",
    "a = ufl.inner(ufl.grad(u), ufl.grad(v)) * ufl.dx\n",
    "L = ufl.inner(f, v) * ufl.dx + ufl.inner(g, v) * ufl.ds"
   ]
  },
  {
   "cell_type": "markdown",
   "id": "621e45d9",
   "metadata": {},
   "source": [
    "A {py:class}`LinearProblem <dolfinx.fem.petsc.LinearProblem>` object is\n",
    "created that brings together the variational problem, the Dirichlet\n",
    "boundary condition, and which specifies the linear solver. In this\n",
    "case an LU solver is used, and we ask that PETSc throws an error\n",
    "if the solver does not converge. The {py:func}`solve\n",
    "<dolfinx.fem.petsc.LinearProblem.solve>` computes the solution."
   ]
  },
  {
   "cell_type": "code",
   "execution_count": null,
   "id": "2ea30b08",
   "metadata": {},
   "outputs": [],
   "source": [
    "problem = LinearProblem(\n",
    "    a,\n",
    "    L,\n",
    "    bcs=[bc],\n",
    "    petsc_options_prefix=\"demo_poisson_\",\n",
    "    petsc_options={\"ksp_type\": \"preonly\", \"pc_type\": \"lu\", \"ksp_error_if_not_converged\": True},\n",
    ")\n",
    "uh = problem.solve()\n",
    "assert isinstance(uh, fem.Function)"
   ]
  },
  {
   "cell_type": "markdown",
   "id": "263c6e24",
   "metadata": {},
   "source": [
    "The solution can be written to a {py:class}`XDMFFile\n",
    "<dolfinx.io.XDMFFile>` file visualization with [ParaView](https://www.paraview.org/)\n",
    "or [VisIt](https://visit-dav.github.io/visit-website/):"
   ]
  },
  {
   "cell_type": "code",
   "execution_count": null,
   "id": "ed021fdf",
   "metadata": {},
   "outputs": [],
   "source": [
    "out_folder = Path(\"out_poisson\")\n",
    "out_folder.mkdir(parents=True, exist_ok=True)\n",
    "with io.XDMFFile(msh.comm, out_folder / \"poisson.xdmf\", \"w\") as file:\n",
    "    file.write_mesh(msh)\n",
    "    file.write_function(uh)"
   ]
  },
  {
   "cell_type": "markdown",
   "id": "e87ce563",
   "metadata": {},
   "source": [
    "and displayed using [pyvista](https://docs.pyvista.org/)."
   ]
  },
  {
   "cell_type": "code",
   "execution_count": null,
   "id": "fc3a0257",
   "metadata": {},
   "outputs": [],
   "source": [
    "try:\n",
    "    import pyvista\n",
    "\n",
    "    cells, types, x = plot.vtk_mesh(V)\n",
    "    grid = pyvista.UnstructuredGrid(cells, types, x)\n",
    "    grid.point_data[\"u\"] = uh.x.array.real\n",
    "    grid.set_active_scalars(\"u\")\n",
    "    plotter = pyvista.Plotter()\n",
    "    plotter.add_mesh(grid, show_edges=True)\n",
    "    warped = grid.warp_by_scalar()\n",
    "    plotter.add_mesh(warped)\n",
    "    if pyvista.OFF_SCREEN:\n",
    "        plotter.screenshot(out_folder / \"uh_poisson.png\")\n",
    "    else:\n",
    "        plotter.show()\n",
    "except ModuleNotFoundError:\n",
    "    print(\"'pyvista' is required to visualise the solution.\")\n",
    "    print(\"To install pyvista with pip: 'python3 -m pip install pyvista'.\")"
   ]
  }
 ],
 "metadata": {
  "jupytext": {
   "main_language": "python"
  }
 },
 "nbformat": 4,
 "nbformat_minor": 5
}

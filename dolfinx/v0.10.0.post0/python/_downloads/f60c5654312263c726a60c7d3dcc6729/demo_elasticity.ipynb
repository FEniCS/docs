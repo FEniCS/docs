{
 "cells": [
  {
   "cell_type": "markdown",
   "id": "b581883f",
   "metadata": {
    "lines_to_next_cell": 2
   },
   "source": [
    "# Elasticity using algebraic multigrid\n",
    "\n",
    "Copyright © 2020-2022 Garth N. Wells and Michal Habera\n",
    "\n",
    "```{admonition} Download sources\n",
    ":class: download\n",
    "* {download}`Python script <./demo_elasticity.py>`\n",
    "* {download}`Jupyter notebook <./demo_elasticity.ipynb>`\n",
    "```\n",
    "This demo solves the equations of static linear elasticity using\n",
    "a smoothed aggregation algebraic multigrid solver.\n",
    "It illustrates how to:\n",
    "- Use a smoothed aggregation algebraic multigrid solver\n",
    "- Use {py:class}`Expression <dolfinx.fem.Expression>` to compute\n",
    "  derived quantities of a solution\n",
    "\n",
    "The required modules are first imported:"
   ]
  },
  {
   "cell_type": "code",
   "execution_count": null,
   "id": "4cdd0710",
   "metadata": {},
   "outputs": [],
   "source": [
    "from mpi4py import MPI\n",
    "from petsc4py import PETSc\n",
    "\n",
    "import numpy as np\n",
    "\n",
    "import ufl\n",
    "from dolfinx import la\n",
    "from dolfinx.fem import (\n",
    "    Expression,\n",
    "    Function,\n",
    "    FunctionSpace,\n",
    "    dirichletbc,\n",
    "    form,\n",
    "    functionspace,\n",
    "    locate_dofs_topological,\n",
    ")\n",
    "from dolfinx.fem.petsc import apply_lifting, assemble_matrix, assemble_vector\n",
    "from dolfinx.io import XDMFFile\n",
    "from dolfinx.mesh import CellType, GhostMode, create_box, locate_entities_boundary\n",
    "\n",
    "dtype = PETSc.ScalarType"
   ]
  },
  {
   "cell_type": "markdown",
   "id": "74ae7315",
   "metadata": {
    "lines_to_next_cell": 2
   },
   "source": [
    "## Create the operator near-nullspace\n",
    "\n",
    "Smooth aggregation algebraic multigrid solvers require the so-called\n",
    "'near-nullspace', which is the nullspace of the operator in the\n",
    "absence of boundary conditions. The below function builds a\n",
    "`PETSc.NullSpace` object for a 3D elasticity problem. The nullspace is\n",
    "spanned by six vectors -- three translation modes and three rotation\n",
    "modes."
   ]
  },
  {
   "cell_type": "code",
   "execution_count": null,
   "id": "8778b002",
   "metadata": {
    "lines_to_next_cell": 2
   },
   "outputs": [],
   "source": [
    "def build_nullspace(V: FunctionSpace):\n",
    "    \"\"\"Build PETSc nullspace for 3D elasticity\"\"\"\n",
    "\n",
    "    # Create vectors that will span the nullspace\n",
    "    bs = V.dofmap.index_map_bs\n",
    "    length0 = V.dofmap.index_map.size_local\n",
    "    basis = [la.vector(V.dofmap.index_map, bs=bs, dtype=dtype) for i in range(6)]\n",
    "    b = [b.array for b in basis]\n",
    "\n",
    "    # Get dof indices for each subspace (x, y and z dofs)\n",
    "    dofs = [V.sub(i).dofmap.list.flatten() for i in range(3)]\n",
    "\n",
    "    # Set the three translational rigid body modes\n",
    "    for i in range(3):\n",
    "        b[i][dofs[i]] = 1.0\n",
    "\n",
    "    # Set the three rotational rigid body modes\n",
    "    x = V.tabulate_dof_coordinates()\n",
    "    dofs_block = V.dofmap.list.flatten()\n",
    "    x0, x1, x2 = x[dofs_block, 0], x[dofs_block, 1], x[dofs_block, 2]\n",
    "    b[3][dofs[0]] = -x1\n",
    "    b[3][dofs[1]] = x0\n",
    "    b[4][dofs[0]] = x2\n",
    "    b[4][dofs[2]] = -x0\n",
    "    b[5][dofs[2]] = x1\n",
    "    b[5][dofs[1]] = -x2\n",
    "\n",
    "    la.orthonormalize(basis)\n",
    "\n",
    "    basis_petsc = [\n",
    "        PETSc.Vec().createWithArray(x[: bs * length0], bsize=3, comm=V.mesh.comm) for x in b\n",
    "    ]\n",
    "    return PETSc.NullSpace().create(vectors=basis_petsc)"
   ]
  },
  {
   "cell_type": "markdown",
   "id": "f0eeb66d",
   "metadata": {},
   "source": [
    "## Problem definition"
   ]
  },
  {
   "cell_type": "markdown",
   "id": "23347f1f",
   "metadata": {
    "lines_to_next_cell": 2
   },
   "source": [
    "Create a {py:func}`box mesh<dolfinx.mesh.create_box>`:"
   ]
  },
  {
   "cell_type": "code",
   "execution_count": null,
   "id": "fa7491aa",
   "metadata": {},
   "outputs": [],
   "source": [
    "msh = create_box(\n",
    "    MPI.COMM_WORLD,\n",
    "    [np.array([0.0, 0.0, 0.0]), np.array([2.0, 1.0, 1.0])],\n",
    "    (16, 16, 16),\n",
    "    CellType.tetrahedron,\n",
    "    ghost_mode=GhostMode.shared_facet,\n",
    ")"
   ]
  },
  {
   "cell_type": "markdown",
   "id": "db95a0a3",
   "metadata": {},
   "source": [
    "Create a centripetal source term $f = \\rho \\omega^2 [x_0, \\, x_1]$:"
   ]
  },
  {
   "cell_type": "code",
   "execution_count": null,
   "id": "c3f671bf",
   "metadata": {},
   "outputs": [],
   "source": [
    "ω, ρ = 300.0, 10.0\n",
    "x = ufl.SpatialCoordinate(msh)\n",
    "f = ufl.as_vector((ρ * ω**2 * x[0], ρ * ω**2 * x[1], 0.0))"
   ]
  },
  {
   "cell_type": "markdown",
   "id": "2c8751c8",
   "metadata": {},
   "source": [
    "Define the elasticity parameters and create a function that computes\n",
    "an expression for the stress given a displacement field."
   ]
  },
  {
   "cell_type": "code",
   "execution_count": null,
   "id": "0bc6134d",
   "metadata": {
    "lines_to_end_of_cell_marker": 2
   },
   "outputs": [],
   "source": [
    "E = 1.0e9\n",
    "ν = 0.3\n",
    "μ = E / (2.0 * (1.0 + ν))\n",
    "λ = E * ν / ((1.0 + ν) * (1.0 - 2.0 * ν))\n",
    "\n",
    "\n",
    "def σ(v):\n",
    "    \"\"\"Return an expression for the stress σ given a displacement field\"\"\"\n",
    "    return 2.0 * μ * ufl.sym(ufl.grad(v)) + λ * ufl.tr(ufl.sym(ufl.grad(v))) * ufl.Identity(len(v))"
   ]
  },
  {
   "cell_type": "markdown",
   "id": "99fb6d45",
   "metadata": {
    "lines_to_next_cell": 2
   },
   "source": [
    "A function space space is created and the elasticity variational\n",
    "problem defined:"
   ]
  },
  {
   "cell_type": "code",
   "execution_count": null,
   "id": "613bbe66",
   "metadata": {},
   "outputs": [],
   "source": [
    "V = functionspace(msh, (\"Lagrange\", 1, (msh.geometry.dim,)))\n",
    "u, v = ufl.TrialFunction(V), ufl.TestFunction(V)\n",
    "a = form(ufl.inner(σ(u), ufl.grad(v)) * ufl.dx)\n",
    "L = form(ufl.inner(f, v) * ufl.dx)"
   ]
  },
  {
   "cell_type": "markdown",
   "id": "592b2b6b",
   "metadata": {},
   "source": [
    "A homogeneous (zero) boundary condition is created on $x_0 = 0$ and\n",
    "$x_1 = 1$ by finding all facets on these boundaries, and then creating\n",
    "a Dirichlet boundary condition object."
   ]
  },
  {
   "cell_type": "code",
   "execution_count": null,
   "id": "9313763f",
   "metadata": {},
   "outputs": [],
   "source": [
    "facets = locate_entities_boundary(\n",
    "    msh, dim=2, marker=lambda x: np.isclose(x[0], 0.0) | np.isclose(x[1], 1.0)\n",
    ")\n",
    "bc = dirichletbc(\n",
    "    np.zeros(3, dtype=dtype), locate_dofs_topological(V, entity_dim=2, entities=facets), V=V\n",
    ")"
   ]
  },
  {
   "cell_type": "markdown",
   "id": "b0a2a372",
   "metadata": {},
   "source": [
    "## Assemble and solve\n",
    "\n",
    "The bilinear form `a` is assembled into a matrix `A`, with\n",
    "modifications for the Dirichlet boundary conditions. The call\n",
    "`A.assemble()` completes any parallel communication required to\n",
    "compute the matrix."
   ]
  },
  {
   "cell_type": "code",
   "execution_count": null,
   "id": "2524bb5b",
   "metadata": {},
   "outputs": [],
   "source": [
    "A = assemble_matrix(a, bcs=[bc])\n",
    "A.assemble()"
   ]
  },
  {
   "cell_type": "markdown",
   "id": "b701e877",
   "metadata": {},
   "source": [
    "The linear form `L` is assembled into a vector `b`, and then modified\n",
    "by {py:func}`apply_lifting <dolfinx.fem.petsc.apply_lifting>` to\n",
    "account for the Dirichlet boundary conditions. After calling\n",
    "{py:func}`apply_lifting <dolfinx.fem.petsc.apply_lifting>`, the method\n",
    "`ghostUpdate` accumulates entries on the owning rank, and this is\n",
    "followed by setting the boundary values in `b`."
   ]
  },
  {
   "cell_type": "code",
   "execution_count": null,
   "id": "784e7106",
   "metadata": {},
   "outputs": [],
   "source": [
    "b = assemble_vector(L)\n",
    "apply_lifting(b, [a], bcs=[[bc]])\n",
    "b.ghostUpdate(addv=PETSc.InsertMode.ADD, mode=PETSc.ScatterMode.REVERSE)\n",
    "bc.set(b.array_w)"
   ]
  },
  {
   "cell_type": "markdown",
   "id": "d141e188",
   "metadata": {},
   "source": [
    "Create the near-nullspace and attach it to the PETSc matrix:"
   ]
  },
  {
   "cell_type": "code",
   "execution_count": null,
   "id": "b71890ba",
   "metadata": {},
   "outputs": [],
   "source": [
    "ns = build_nullspace(V)\n",
    "A.setNearNullSpace(ns)\n",
    "A.setOption(PETSc.Mat.Option.SPD, True)"
   ]
  },
  {
   "cell_type": "markdown",
   "id": "73007881",
   "metadata": {},
   "source": [
    "Set PETSc solver options, create a PETSc Krylov solver, and attach the\n",
    "matrix `A` to the solver:"
   ]
  },
  {
   "cell_type": "code",
   "execution_count": null,
   "id": "1e8c5d4f",
   "metadata": {},
   "outputs": [],
   "source": [
    "# Set solver options\n",
    "opts = PETSc.Options()\n",
    "opts[\"ksp_type\"] = \"cg\"\n",
    "opts[\"ksp_rtol\"] = 1.0e-8\n",
    "opts[\"pc_type\"] = \"gamg\"\n",
    "\n",
    "# Use Chebyshev smoothing for multigrid\n",
    "opts[\"mg_levels_ksp_type\"] = \"chebyshev\"\n",
    "opts[\"mg_levels_pc_type\"] = \"jacobi\"\n",
    "\n",
    "# Improve estimate of eigenvalues for Chebyshev smoothing\n",
    "opts[\"mg_levels_ksp_chebyshev_esteig_steps\"] = 10\n",
    "\n",
    "# Create PETSc Krylov solver and turn convergence monitoring on\n",
    "solver = PETSc.KSP().create(msh.comm)\n",
    "solver.setFromOptions()\n",
    "\n",
    "# Set matrix operator\n",
    "solver.setOperators(A)"
   ]
  },
  {
   "cell_type": "markdown",
   "id": "05334288",
   "metadata": {},
   "source": [
    "Create a solution {py:class}`Function<dolfinx.fem.Function>` `uh` and\n",
    "solve:"
   ]
  },
  {
   "cell_type": "code",
   "execution_count": null,
   "id": "4d2d3276",
   "metadata": {},
   "outputs": [],
   "source": [
    "uh = Function(V)\n",
    "\n",
    "# Set a monitor, solve linear system, and display the solver\n",
    "# configuration\n",
    "solver.setMonitor(lambda _, its, rnorm: print(f\"Iteration: {its}, rel. residual: {rnorm}\"))\n",
    "solver.solve(b, uh.x.petsc_vec)\n",
    "solver.view()\n",
    "\n",
    "# Scatter forward the solution vector to update ghost values\n",
    "uh.x.scatter_forward()"
   ]
  },
  {
   "cell_type": "markdown",
   "id": "8f37e2f5",
   "metadata": {},
   "source": [
    "## Post-processing\n",
    "\n",
    "The computed solution is now post-processed. Expressions for the\n",
    "deviatoric and Von Mises stress are defined:"
   ]
  },
  {
   "cell_type": "code",
   "execution_count": null,
   "id": "c3c9b661",
   "metadata": {},
   "outputs": [],
   "source": [
    "sigma_dev = σ(uh) - (1 / 3) * ufl.tr(σ(uh)) * ufl.Identity(len(uh))\n",
    "sigma_vm = ufl.sqrt((3 / 2) * ufl.inner(sigma_dev, sigma_dev))"
   ]
  },
  {
   "cell_type": "markdown",
   "id": "cd6c991b",
   "metadata": {},
   "source": [
    "Next, the Von Mises stress is interpolated in a piecewise-constant\n",
    "space by creating an {py:class}`Expression<dolfinx.fem.Expression>`\n",
    "that is interpolated into the\n",
    "{py:class}`Function<dolfinx.fem.Function>` `sigma_vm_h`."
   ]
  },
  {
   "cell_type": "code",
   "execution_count": null,
   "id": "39bc0c20",
   "metadata": {},
   "outputs": [],
   "source": [
    "W = functionspace(msh, (\"Discontinuous Lagrange\", 0))\n",
    "sigma_vm_expr = Expression(sigma_vm, W.element.interpolation_points)\n",
    "sigma_vm_h = Function(W)\n",
    "sigma_vm_h.interpolate(sigma_vm_expr)"
   ]
  },
  {
   "cell_type": "markdown",
   "id": "a7ea36c4",
   "metadata": {},
   "source": [
    "Save displacement field `uh` and the Von Mises stress `sigma_vm_h` in\n",
    "XDMF format files."
   ]
  },
  {
   "cell_type": "code",
   "execution_count": null,
   "id": "584c77bd",
   "metadata": {},
   "outputs": [],
   "source": [
    "with XDMFFile(msh.comm, \"out_elasticity/displacements.xdmf\", \"w\") as file:\n",
    "    file.write_mesh(msh)\n",
    "    file.write_function(uh)\n",
    "\n",
    "# Save solution to XDMF format\n",
    "with XDMFFile(msh.comm, \"out_elasticity/von_mises_stress.xdmf\", \"w\") as file:\n",
    "    file.write_mesh(msh)\n",
    "    file.write_function(sigma_vm_h)"
   ]
  },
  {
   "cell_type": "markdown",
   "id": "d28c78b8",
   "metadata": {},
   "source": [
    "Finally, we compute the $L^2$ norm of the displacement solution\n",
    "vector. This is a collective operation (i.e., the method\n",
    "{py:func}`norm<dolfinx.la.norm>` must be called from all MPI ranks),\n",
    "but we print the norm only on rank 0."
   ]
  },
  {
   "cell_type": "code",
   "execution_count": null,
   "id": "2cc138a6",
   "metadata": {},
   "outputs": [],
   "source": [
    "unorm = la.norm(uh.x)\n",
    "if msh.comm.rank == 0:\n",
    "    print(\"Solution vector norm:\", unorm)"
   ]
  },
  {
   "cell_type": "markdown",
   "id": "32f64b19",
   "metadata": {},
   "source": [
    "The solution vector norm can be a useful check that the solver is\n",
    "computing the same result when running in serial and in parallel."
   ]
  }
 ],
 "metadata": {
  "jupytext": {
   "main_language": "python"
  }
 },
 "nbformat": 4,
 "nbformat_minor": 5
}

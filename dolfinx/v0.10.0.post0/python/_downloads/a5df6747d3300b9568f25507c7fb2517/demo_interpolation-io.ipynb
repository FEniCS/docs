{
 "cells": [
  {
   "cell_type": "markdown",
   "id": "9a42085e",
   "metadata": {
    "lines_to_next_cell": 2
   },
   "source": [
    "# Interpolation and IO\n",
    "\n",
    "Copyright (C) 2022 Garth N. Wells\n",
    "\n",
    "\n",
    "```{admonition} Download sources\n",
    ":class: download\n",
    "* {download}`Python script <./demo_interpolation-io.py>`\n",
    "* {download}`Jupyter notebook <./demo_interpolation-io.ipynb>`\n",
    "```\n",
    "This demo shows how to:\n",
    "- Interpolate functions into vector-element $H(\\mathrm{curl})$\n",
    "  finite element spaces\n",
    "- Interpolate these special finite elements into discontinuous Lagrange\n",
    "  spaces for artifact-free visualisation.\n",
    "$H(\\mathrm{curl})$ finite element spaces, and the interpolation of\n",
    "these special finite elements in discontinuous Lagrange spaces for\n",
    "artifact-free visualisation."
   ]
  },
  {
   "cell_type": "code",
   "execution_count": null,
   "id": "8183d9db",
   "metadata": {},
   "outputs": [],
   "source": [
    "from pathlib import Path\n",
    "\n",
    "from mpi4py import MPI\n",
    "\n",
    "import numpy as np\n",
    "\n",
    "from dolfinx import default_scalar_type, has_adios2, plot\n",
    "from dolfinx.fem import Function, functionspace\n",
    "from dolfinx.mesh import CellType, create_rectangle, locate_entities\n"
   ]
  },
  {
   "cell_type": "markdown",
   "id": "5e391b73",
   "metadata": {},
   "source": [
    "Create a mesh. For later in the demo we need to ensure that a boundary\n",
    "between cells is located at $x_0=0.5$."
   ]
  },
  {
   "cell_type": "code",
   "execution_count": null,
   "id": "eb502be7",
   "metadata": {},
   "outputs": [],
   "source": [
    "msh = create_rectangle(MPI.COMM_WORLD, ((0.0, 0.0), (1.0, 1.0)), (16, 16), CellType.triangle)"
   ]
  },
  {
   "cell_type": "markdown",
   "id": "54fa41ea",
   "metadata": {},
   "source": [
    "Create a Nédélec function space and finite element Function"
   ]
  },
  {
   "cell_type": "code",
   "execution_count": null,
   "id": "1ea19b4e",
   "metadata": {},
   "outputs": [],
   "source": [
    "V = functionspace(msh, (\"Nedelec 1st kind H(curl)\", 1))\n",
    "u = Function(V, dtype=default_scalar_type)"
   ]
  },
  {
   "cell_type": "markdown",
   "id": "8bd4fb5c",
   "metadata": {},
   "source": [
    "Find cells with *all* vertices (0) $x_0 <= 0.5$ or (1) $x_0 >= 0.5$:"
   ]
  },
  {
   "cell_type": "code",
   "execution_count": null,
   "id": "ee661f6f",
   "metadata": {},
   "outputs": [],
   "source": [
    "tdim = msh.topology.dim\n",
    "cells0 = locate_entities(msh, tdim, lambda x: x[0] <= 0.5)\n",
    "cells1 = locate_entities(msh, tdim, lambda x: x[0] >= 0.5)"
   ]
  },
  {
   "cell_type": "markdown",
   "id": "27561f1d",
   "metadata": {},
   "source": [
    "Interpolate in the Nédélec/H(curl) space a vector-valued expression\n",
    "`f`, where $f \\cdot n$ is discontinuous at $x_0 = 0.5$ and  $f \\cdot\n",
    "e$ is continuous."
   ]
  },
  {
   "cell_type": "code",
   "execution_count": null,
   "id": "4eb0592a",
   "metadata": {},
   "outputs": [],
   "source": [
    "u.interpolate(lambda x: np.vstack((x[0], x[1])), cells0)\n",
    "u.interpolate(lambda x: np.vstack((x[0] + 1, x[1])), cells1)"
   ]
  },
  {
   "cell_type": "markdown",
   "id": "9d9410e7",
   "metadata": {},
   "source": [
    "Create a vector-valued discontinuous Lagrange space and function, and\n",
    "interpolate the $H({\\rm curl})$ function `u`"
   ]
  },
  {
   "cell_type": "code",
   "execution_count": null,
   "id": "6cb95965",
   "metadata": {},
   "outputs": [],
   "source": [
    "gdim = msh.geometry.dim\n",
    "V0 = functionspace(msh, (\"Discontinuous Lagrange\", 1, (gdim,)))\n",
    "u0 = Function(V0, dtype=default_scalar_type)\n",
    "u0.interpolate(u)"
   ]
  },
  {
   "cell_type": "markdown",
   "id": "ecdcf2c3",
   "metadata": {},
   "source": [
    "We save the interpolated function `u0` in VTX format. When visualising\n",
    "the field, at $x_0 = 0.5$ the $x_0$-component should appear\n",
    "discontinuous and the $x_1$-component should appear continuous.\n",
    "We use the {py:class}`dolfinx.io.VTXWriter` to store the data."
   ]
  },
  {
   "cell_type": "code",
   "execution_count": null,
   "id": "2849aa72",
   "metadata": {
    "lines_to_next_cell": 2
   },
   "outputs": [],
   "source": [
    "out_folder = Path(\"output_nedelec\")\n",
    "out_folder.mkdir(parents=True, exist_ok=True)\n",
    "if has_adios2:\n",
    "    from dolfinx.io import VTXWriter\n",
    "\n",
    "    with VTXWriter(msh.comm, out_folder / \"output_nedelec.bp\", u0) as f:\n",
    "        f.write(0.0)\n",
    "else:\n",
    "    print(\"ADIOS2 required for VTX output\")"
   ]
  },
  {
   "cell_type": "markdown",
   "id": "3114d706",
   "metadata": {},
   "source": [
    "Plot the functions"
   ]
  },
  {
   "cell_type": "code",
   "execution_count": null,
   "id": "a492c712",
   "metadata": {},
   "outputs": [],
   "source": [
    "try:\n",
    "    import pyvista\n",
    "\n",
    "    cells, types, x = plot.vtk_mesh(V0)\n",
    "    grid = pyvista.UnstructuredGrid(cells, types, x)\n",
    "    values = np.zeros((x.shape[0], 3), dtype=np.float64)\n",
    "    values[:, : msh.topology.dim] = u0.x.array.reshape(x.shape[0], msh.topology.dim).real\n",
    "    grid.point_data[\"u\"] = values\n",
    "\n",
    "    pl = pyvista.Plotter(shape=(2, 2))\n",
    "\n",
    "    pl.subplot(0, 0)\n",
    "    pl.add_text(\"magnitude\", font_size=12, color=\"black\", position=\"upper_edge\")\n",
    "    pl.add_mesh(grid.copy(), show_edges=True)\n",
    "\n",
    "    pl.subplot(0, 1)\n",
    "    glyphs = grid.glyph(orient=\"u\", factor=0.08)\n",
    "    pl.add_text(\"vector glyphs\", font_size=12, color=\"black\", position=\"upper_edge\")\n",
    "    pl.add_mesh(glyphs, show_scalar_bar=False)\n",
    "    pl.add_mesh(grid.copy(), style=\"wireframe\", line_width=2, color=\"black\")\n",
    "\n",
    "    pl.subplot(1, 0)\n",
    "    pl.add_text(\"x-component\", font_size=12, color=\"black\", position=\"upper_edge\")\n",
    "    pl.add_mesh(grid.copy(), component=0, show_edges=True)\n",
    "\n",
    "    pl.subplot(1, 1)\n",
    "    pl.add_text(\"y-component\", font_size=12, color=\"black\", position=\"upper_edge\")\n",
    "    pl.add_mesh(grid.copy(), component=1, show_edges=True)\n",
    "\n",
    "    pl.view_xy()\n",
    "    pl.link_views()\n",
    "\n",
    "    # If pyvista environment variable is set to off-screen (static)\n",
    "    # plotting save png\n",
    "    if pyvista.OFF_SCREEN:\n",
    "        pl.screenshot(out_folder / \"uh.png\")\n",
    "    else:\n",
    "        pl.show()\n",
    "except ModuleNotFoundError:\n",
    "    print(\"pyvista is required to visualise the solution\")"
   ]
  }
 ],
 "metadata": {
  "jupytext": {
   "main_language": "python"
  }
 },
 "nbformat": 4,
 "nbformat_minor": 5
}

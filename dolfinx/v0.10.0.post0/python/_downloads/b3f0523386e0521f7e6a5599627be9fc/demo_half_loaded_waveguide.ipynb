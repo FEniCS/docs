{
 "cells": [
  {
   "cell_type": "markdown",
   "id": "3666af0b",
   "metadata": {},
   "source": [
    "# Electromagnetic modal analysis for a waveguide"
   ]
  },
  {
   "cell_type": "markdown",
   "id": "481798c4",
   "metadata": {},
   "source": [
    "Copyright (C) 2022 Michele Castriotta, Igor Baratta, Jørgen S. Dokken\n",
    "\n",
    "```{admonition} Download sources\n",
    ":class: download\n",
    "* {download}`Python script <./demo_half_loaded_waveguide.py>`\n",
    "* {download}`Jupyter notebook <./demo_half_loaded_waveguide.ipynb>`\n",
    "```\n",
    "\n",
    "The demo shows how to:\n",
    "- Setup an eigenvalue problem for Maxwell's equations\n",
    "- Setup a half-loaded electromagnetic waveguide with perfect electric\n",
    "  conducting walls\n",
    "- Use SLEPc for solving eigenvalue problems\n",
    "- Verification of numerical eigenvalues with analytical modes\n",
    "\n",
    "## Equations and problem definition\n",
    "\n",
    "In this demo, we are going to show how to solve the eigenvalue problem\n",
    "associated with a half-loaded rectangular waveguide with perfect\n",
    "electric conducting walls.\n",
    "\n",
    "First of all, let's import the modules we need for solving the\n",
    "problem:"
   ]
  },
  {
   "cell_type": "code",
   "execution_count": null,
   "id": "c9eda510",
   "metadata": {},
   "outputs": [],
   "source": [
    "from pathlib import Path\n",
    "\n",
    "from mpi4py import MPI\n",
    "from petsc4py import PETSc\n",
    "\n",
    "import numpy as np\n",
    "from slepc4py import SLEPc\n",
    "\n",
    "import ufl\n",
    "from basix.ufl import element, mixed_element\n",
    "from dolfinx import fem, plot\n",
    "from dolfinx.fem.petsc import assemble_matrix\n",
    "from dolfinx.mesh import CellType, create_rectangle, exterior_facet_indices, locate_entities\n",
    "\n",
    "try:\n",
    "    import pyvista\n",
    "\n",
    "    have_pyvista = True\n",
    "except ModuleNotFoundError:\n",
    "    print(\"pyvista and pyvistaqt are required to visualise the solution\")\n",
    "    have_pyvista = False\n",
    "\n",
    "if PETSc.IntType == np.int64 and MPI.COMM_WORLD.size > 1:\n",
    "    print(\"This solver fails with PETSc and 64-bit integers because of memory errors in MUMPS.\")\n",
    "    # Note: when PETSc.IntType == np.int32, superlu_dist is used\n",
    "    # rather than MUMPS and does not trigger memory failures.\n",
    "    exit(0)\n",
    "\n",
    "try:\n",
    "    from dolfinx.io import VTXWriter\n",
    "\n",
    "    has_vtx = True\n",
    "except ImportError:\n",
    "    print(\"VTXWriter not available, solution will not be saved.\")\n",
    "    has_vtx = False"
   ]
  },
  {
   "cell_type": "markdown",
   "id": "b21fd7bc",
   "metadata": {
    "lines_to_next_cell": 2
   },
   "source": [
    "## Analytical solutions for the half-loaded waveguide\n",
    "\n",
    "The analytical solutions for the half-loaded waveguide with perfect\n",
    "electric conducting walls are described in Harrington's *Time-harmonic\n",
    "electromagnetic fields*. We will skip the full derivation, and we just\n",
    "mention that the problem can be decoupled into $\\mathrm{TE}_x$ and\n",
    "$\\mathrm{TM}_x$ modes, and the possible $k_z$ can be found by solving\n",
    "a set of transcendental equations, which is shown here below:\n",
    "\n",
    "$$\n",
    "\\textrm{For TE}_x \\textrm{ modes}:\n",
    "\\begin{cases}\n",
    "&k_{x d}^{2}+\\left(\\frac{n \\pi}{w}\\right)^{2}+k_{z}^{2}=k_0^{2}\n",
    "\\varepsilon_{d} \\\\\n",
    "&k_{x v}^{2}+\\left(\\frac{n \\pi}{w}\\right)^{2}+k_{z}^{2}=k_0^{2}\n",
    "\\varepsilon_{v} \\\\\n",
    "& k_{x d} \\cot k_{x d} d + k_{x v} \\cot \\left[k_{x v}(h-d)\\right] = 0\n",
    "\\end{cases}\n",
    "$$\n",
    "\n",
    "$$\n",
    "\\textrm{For TM}_x \\textrm{ modes}:\n",
    "\\begin{cases}\n",
    "&k_{x d}^{2}+\\left(\\frac{n \\pi}{w}\\right)^{2}+k_{z}^{2}=\n",
    "k_0^{2} \\varepsilon_{d} \\\\\n",
    "&k_{x v}^{2}+\\left(\\frac{n \\pi}{w}\\right)^{2}+k_{z}^{2}=\n",
    "k_0^{2} \\varepsilon_{v} \\\\\n",
    "& \\frac{k_{x d}}{\\varepsilon_{d}} \\tan k_{x d} d +\n",
    "\\frac{k_{x v}}{\\varepsilon_{v}} \\tan \\left[k_{x v}(h-d)\\right] = 0\n",
    "\\end{cases}\n",
    "$$\n",
    "\n",
    "with:\n",
    "- $\\varepsilon_d\\rightarrow$ dielectric permittivity\n",
    "- $\\varepsilon_v\\rightarrow$ vacuum permittivity\n",
    "- $w\\rightarrow$ total width of the waveguide\n",
    "- $h\\rightarrow$ total height of the waveguide\n",
    "- $d\\rightarrow$ height of the dielectric fraction\n",
    "- $k_0\\rightarrow$ vacuum wavevector\n",
    "- $k_{xd}\\rightarrow$ $x$ component of the wavevector in the dielectric\n",
    "- $k_{xv}\\rightarrow$ $x$ component of the wavevector in the vacuum\n",
    "- $\\frac{n \\pi}{w} = k_y\\rightarrow$ $y$ component of the wavevector\n",
    "  for different $n$ harmonic numbers (we assume $n=1$ for the sake of\n",
    "  simplicity)\n",
    "\n",
    "Let's define the set of equations with the $\\tan$ and $\\cot$ function:"
   ]
  },
  {
   "cell_type": "code",
   "execution_count": null,
   "id": "d10fbd53",
   "metadata": {},
   "outputs": [],
   "source": [
    "def TMx_condition(\n",
    "    kx_d: complex, kx_v: complex, eps_d: complex, eps_v: complex, d: float, h: float\n",
    ") -> float:\n",
    "    return kx_d / eps_d * np.tan(kx_d * d) + kx_v / eps_v * np.tan(kx_v * (h - d))"
   ]
  },
  {
   "cell_type": "code",
   "execution_count": null,
   "id": "cc378836",
   "metadata": {
    "lines_to_next_cell": 2
   },
   "outputs": [],
   "source": [
    "def TEx_condition(kx_d: complex, kx_v: complex, d: float, h: float) -> float:\n",
    "    return kx_d / np.tan(kx_d * d) + kx_v / np.tan(kx_v * (h - d))"
   ]
  },
  {
   "cell_type": "markdown",
   "id": "e001d265",
   "metadata": {
    "lines_to_next_cell": 2
   },
   "source": [
    "Then, we can define the `verify_mode` function, to check whether a\n",
    "certain $k_z$ satisfy the equations (below a certain threshold). In\n",
    "other words, we provide a certain $k_z$, together with the geometrical\n",
    "and optical parameters of the waveguide, and `verify_mode()` checks\n",
    "whether the last equations for the $\\mathrm{TE}_x$ or $\\mathrm{TM}_x$\n",
    "modes are close to $0$."
   ]
  },
  {
   "cell_type": "code",
   "execution_count": null,
   "id": "0f770350",
   "metadata": {},
   "outputs": [],
   "source": [
    "def verify_mode(\n",
    "    kz: complex,\n",
    "    w: float,\n",
    "    h: float,\n",
    "    d: float,\n",
    "    lmbd0: float,\n",
    "    eps_d: complex,\n",
    "    eps_v: complex,\n",
    "    threshold: float,\n",
    ") -> np.bool_:\n",
    "    k0 = 2 * np.pi / lmbd0\n",
    "    ky = np.pi / w  # we assume n = 1\n",
    "    kx_d_target = np.sqrt(k0**2 * eps_d - ky**2 + -(kz**2) + 0j)\n",
    "    alpha = kx_d_target**2\n",
    "    beta = alpha - k0**2 * (eps_d - eps_v)\n",
    "    kx_v = np.sqrt(beta)\n",
    "    kx_d = np.sqrt(alpha)\n",
    "    f_tm = TMx_condition(kx_d, kx_v, eps_d, eps_v, d, h)\n",
    "    f_te = TEx_condition(kx_d, kx_v, d, h)\n",
    "    return np.isclose(f_tm, 0, atol=threshold) or np.isclose(f_te, 0, atol=threshold)"
   ]
  },
  {
   "cell_type": "markdown",
   "id": "c7e767d1",
   "metadata": {},
   "source": [
    "We now define the domain. It is a rectangular domain with width $w$\n",
    "and height $h = 0.45w$, with the dielectric medium filling the\n",
    "lower-half of the domain, with a height of $d=0.5h$."
   ]
  },
  {
   "cell_type": "code",
   "execution_count": null,
   "id": "e903cf7f",
   "metadata": {},
   "outputs": [],
   "source": [
    "w = 1\n",
    "h = 0.45 * w\n",
    "d = 0.5 * h\n",
    "nx = 300\n",
    "ny = int(0.4 * nx)\n",
    "\n",
    "msh = create_rectangle(MPI.COMM_WORLD, np.array([[0, 0], [w, h]]), (nx, ny), CellType.quadrilateral)\n",
    "msh.topology.create_connectivity(msh.topology.dim - 1, msh.topology.dim)"
   ]
  },
  {
   "cell_type": "markdown",
   "id": "34b25cad",
   "metadata": {},
   "source": [
    "Now we can define the dielectric permittivity $\\varepsilon_r$ over the\n",
    "domain as $\\varepsilon_r = \\varepsilon_v = 1$ in the vacuum, and as\n",
    "$\\varepsilon_r = \\varepsilon_d = 2.45$ in the dielectric:"
   ]
  },
  {
   "cell_type": "code",
   "execution_count": null,
   "id": "f21d61a4",
   "metadata": {},
   "outputs": [],
   "source": [
    "eps_v = 1\n",
    "eps_d = 2.45\n",
    "\n",
    "D = fem.functionspace(msh, (\"DQ\", 0))\n",
    "eps = fem.Function(D)\n",
    "\n",
    "cells_d = locate_entities(msh, msh.topology.dim, lambda x: x[1] <= d)\n",
    "\n",
    "eps.x.array[:] = eps_v\n",
    "eps.x.array[cells_d] = eps_d"
   ]
  },
  {
   "cell_type": "markdown",
   "id": "560dd4e7",
   "metadata": {},
   "source": [
    "In order to find the weak form of our problem, the starting point are\n",
    "Maxwell's equation and the perfect electric conductor condition on the\n",
    "waveguide wall:\n",
    "\n",
    "$$\n",
    "\\begin{align}\n",
    "&\\nabla \\times \\frac{1}{\\mu_{r}} \\nabla \\times \\mathbf{E}-k_{o}^{2}\n",
    "\\epsilon_{r} \\mathbf{E}=0 \\quad &\\text { in } \\Omega\\\\\n",
    "&\\hat{n}\\times\\mathbf{E} = 0 &\\text { on } \\Gamma\n",
    "\\end{align}\n",
    "$$\n",
    "\n",
    "with $k_0$ and $\\lambda_0 = 2\\pi/k_0$ being the wavevector and the\n",
    "wavelength, which we consider fixed at $\\lambda = h/0.2$. If we focus\n",
    "on non-magnetic material only, we can also use $\\mu_r=1$.\n",
    "\n",
    "Now we can assume a known dependence on $z$:\n",
    "\n",
    "$$\n",
    "\\mathbf{E}(x, y, z)=\\left[\\mathbf{E}_{t}(x, y)+\\hat{z} E_{z}(x, y)\\right]\n",
    "e^{-jk_z z}\n",
    "$$\n",
    "\n",
    "where $\\mathbf{E}_t$ is the component of the electric field transverse\n",
    "to the waveguide axis, and $E_z$ is the component  of the electric\n",
    "field parallel to the waveguide axis, and $k_z$ represents our complex\n",
    "propagation constant.\n",
    "\n",
    "In order to pose the problem as an eigenvalue problem, we need to make\n",
    "the following substitution:\n",
    "\n",
    "$$\n",
    "\\begin{align}\n",
    "& \\mathbf{e}_t = k_z\\mathbf{E}_t\\\\\n",
    "& e_z = -jE_z\n",
    "\\end{align}\n",
    "$$\n",
    "\n",
    "The final weak form can be written as:\n",
    "\n",
    "$$\n",
    "\\begin{aligned}\n",
    "F_{k_z}(\\mathbf{e})=\\int_{\\Omega} &\\left(\\nabla_{t} \\times\n",
    "\\mathbf{e}_{t}\\right) \\cdot\\left(\\nabla_{t} \\times\n",
    "\\bar{\\mathbf{v}}_{t}\\right) -k_{o}^{2} \\epsilon_{r} \\mathbf{e}_{t} \\cdot\n",
    "\\bar{\\mathbf{v}}_{t} \\\\\n",
    "&+k_z^{2}\\left[\\left(\\nabla_{t} e_{z}+\\mathbf{e}_{t}\\right)\n",
    "\\cdot\\left(\\nabla_{t} \\bar{v}_{z}+\\bar{\\mathbf{v}}_{t}\\right)-k_{o}^{2}\n",
    "\\epsilon_{r} e_{z} \\bar{v}_{z}\\right] \\mathrm{d} x = 0\n",
    "\\end{aligned}\n",
    "$$\n",
    "\n",
    "Or, in a more compact form, as:\n",
    "\n",
    "$$\n",
    "\\left[\\begin{array}{cc}\n",
    "A_{t t} & 0 \\\\\n",
    "0 & 0\n",
    "\\end{array}\\right]\\left\\{\\begin{array}{l}\n",
    "\\mathbf{e}_{t} \\\\\n",
    "e_{z}\n",
    "\\end{array}\\right\\}=-k_z^{2}\\left[\\begin{array}{ll}\n",
    "B_{t t} & B_{t z} \\\\\n",
    "B_{z t} & B_{z z}\n",
    "\\end{array}\\right]\\left\\{\\begin{array}{l}\n",
    "\\mathbf{e}_{t} \\\\\n",
    "e_{z}\n",
    "\\end{array}\\right\\}\n",
    "$$\n",
    "\n",
    "A problem of this kind is known as a generalized eigenvalue problem,\n",
    "where our eigenvalues are all the possible $ -k_z^2$. For further\n",
    "details about this problem, check Jin's *The Finite Element Method in\n",
    "Electromagnetics, third edition*.\n",
    "\n",
    "To write the weak form, we need to specify our function space. For\n",
    "$\\mathbf{e}_t$, we can use RTCE elements (the equivalent of Nedelec\n",
    "elements on quadrilateral cells), while for $e_z$ field we can use\n",
    "Lagrange elements. This hybrid formulation is implemented with\n",
    "`mixed_element`:"
   ]
  },
  {
   "cell_type": "code",
   "execution_count": null,
   "id": "f77db5ef",
   "metadata": {},
   "outputs": [],
   "source": [
    "degree = 1\n",
    "RTCE = element(\"RTCE\", msh.basix_cell(), degree, dtype=PETSc.RealType)\n",
    "Q = element(\"Lagrange\", msh.basix_cell(), degree, dtype=PETSc.RealType)\n",
    "V = fem.functionspace(msh, mixed_element([RTCE, Q]))"
   ]
  },
  {
   "cell_type": "markdown",
   "id": "7a977e4f",
   "metadata": {},
   "source": [
    "Now we can define our weak form:"
   ]
  },
  {
   "cell_type": "code",
   "execution_count": null,
   "id": "58e5da08",
   "metadata": {},
   "outputs": [],
   "source": [
    "lmbd0 = h / 0.2\n",
    "k0 = 2 * np.pi / lmbd0\n",
    "\n",
    "et, ez = ufl.TrialFunctions(V)\n",
    "vt, vz = ufl.TestFunctions(V)\n",
    "\n",
    "a_tt = (ufl.inner(ufl.curl(et), ufl.curl(vt)) - (k0**2) * eps * ufl.inner(et, vt)) * ufl.dx\n",
    "b_tt = ufl.inner(et, vt) * ufl.dx\n",
    "b_tz = ufl.inner(et, ufl.grad(vz)) * ufl.dx\n",
    "b_zt = ufl.inner(ufl.grad(ez), vt) * ufl.dx\n",
    "b_zz = (ufl.inner(ufl.grad(ez), ufl.grad(vz)) - (k0**2) * eps * ufl.inner(ez, vz)) * ufl.dx\n",
    "\n",
    "a = fem.form(a_tt)\n",
    "b = fem.form(b_tt + b_tz + b_zt + b_zz)"
   ]
  },
  {
   "cell_type": "markdown",
   "id": "6d63e3b2",
   "metadata": {},
   "source": [
    "Let's add the perfect electric conductor conditions on the waveguide\n",
    "wall:"
   ]
  },
  {
   "cell_type": "code",
   "execution_count": null,
   "id": "b6495fa9",
   "metadata": {},
   "outputs": [],
   "source": [
    "bc_facets = exterior_facet_indices(msh.topology)\n",
    "bc_dofs = fem.locate_dofs_topological(V, msh.topology.dim - 1, bc_facets)\n",
    "u_bc = fem.Function(V)\n",
    "with u_bc.x.petsc_vec.localForm() as loc:\n",
    "    loc.set(0)\n",
    "bc = fem.dirichletbc(u_bc, bc_dofs)"
   ]
  },
  {
   "cell_type": "markdown",
   "id": "cedeb4d5",
   "metadata": {},
   "source": [
    "## Solve the problem in SLEPc"
   ]
  },
  {
   "cell_type": "markdown",
   "id": "d848318f",
   "metadata": {},
   "source": [
    "Now we can solve the problem with SLEPc. First of all, we need to\n",
    "assemble our $A$ and $B$ matrices with PETSc in this way:"
   ]
  },
  {
   "cell_type": "code",
   "execution_count": null,
   "id": "d013e88e",
   "metadata": {},
   "outputs": [],
   "source": [
    "A = assemble_matrix(a, bcs=[bc])\n",
    "A.assemble()\n",
    "B = assemble_matrix(b, bcs=[bc])\n",
    "B.assemble()"
   ]
  },
  {
   "cell_type": "markdown",
   "id": "669496f3",
   "metadata": {},
   "source": [
    "Now, we need to create the eigenvalue problem in SLEPc. Our problem is\n",
    "a linear eigenvalue problem, that in SLEPc is solved with the `EPS`\n",
    "module. We can initialize this solver in the following way:"
   ]
  },
  {
   "cell_type": "code",
   "execution_count": null,
   "id": "0488abb5",
   "metadata": {},
   "outputs": [],
   "source": [
    "eps = SLEPc.EPS().create(msh.comm)"
   ]
  },
  {
   "cell_type": "markdown",
   "id": "1e58db58",
   "metadata": {},
   "source": [
    "We can pass to `EPS` our matrices by using the `setOperators` routine:"
   ]
  },
  {
   "cell_type": "code",
   "execution_count": null,
   "id": "16ec2980",
   "metadata": {},
   "outputs": [],
   "source": [
    "eps.setOperators(A, B)"
   ]
  },
  {
   "cell_type": "markdown",
   "id": "7c0b41eb",
   "metadata": {},
   "source": [
    "If the matrices in the problem have known properties (e.g.\n",
    "hermiticity) we can use this information in SLEPc to accelerate the\n",
    "calculation with the `setProblemType` function. For this problem,\n",
    "there is no property that can be exploited, and therefore we define it\n",
    "as a generalized non-Hermitian eigenvalue problem with the\n",
    "`SLEPc.EPS.ProblemType.GNHEP` object:"
   ]
  },
  {
   "cell_type": "code",
   "execution_count": null,
   "id": "52c1ccf8",
   "metadata": {},
   "outputs": [],
   "source": [
    "eps.setProblemType(SLEPc.EPS.ProblemType.GNHEP)"
   ]
  },
  {
   "cell_type": "markdown",
   "id": "4d4c3f90",
   "metadata": {},
   "source": [
    "Next, we need to specify a tolerance for the iterative solver, so that\n",
    "it knows when to stop:"
   ]
  },
  {
   "cell_type": "code",
   "execution_count": null,
   "id": "29586b23",
   "metadata": {},
   "outputs": [],
   "source": [
    "tol = 1e-9\n",
    "eps.setTolerances(tol=tol)"
   ]
  },
  {
   "cell_type": "markdown",
   "id": "94832cd4",
   "metadata": {},
   "source": [
    "Now we need to set the eigensolver for our problem. SLEPc offers\n",
    "different built-in algorithms, and also wrappers to external\n",
    "libraries. Some of these can only solve Hermitian problems and/or\n",
    "problems with eigenvalues in a certain portion of the spectrum.\n",
    "However, the choice of the particular method to choose to solve a\n",
    "problem is a technical discussion that is out of the scope of this\n",
    "demo, and that is more comprehensively discussed in the [SLEPc\n",
    "documentation](https://slepc.upv.es/documentation/slepc.pdf). For our\n",
    "problem, we will use the Krylov-Schur method, which we can set by\n",
    "calling the `setType` function:"
   ]
  },
  {
   "cell_type": "code",
   "execution_count": null,
   "id": "30e8ee20",
   "metadata": {},
   "outputs": [],
   "source": [
    "eps.setType(SLEPc.EPS.Type.KRYLOVSCHUR)"
   ]
  },
  {
   "cell_type": "markdown",
   "id": "dce09713",
   "metadata": {},
   "source": [
    "In order to accelerate the calculation of our solutions, we can also\n",
    "use a so-called *spectral transformation*, a technique which maps the\n",
    "original eigenvalues into another position of the spectrum without\n",
    "affecting the eigenvectors. In our case, we can use the\n",
    "shift-and-invert transformation with the `SLEPc.ST.Type.SINVERT`\n",
    "object:"
   ]
  },
  {
   "cell_type": "code",
   "execution_count": null,
   "id": "055feb35",
   "metadata": {},
   "outputs": [],
   "source": [
    "# Get ST context from eps\n",
    "st = eps.getST()\n",
    "\n",
    "# Set shift-and-invert transformation\n",
    "st.setType(SLEPc.ST.Type.SINVERT)"
   ]
  },
  {
   "cell_type": "markdown",
   "id": "f7471c76",
   "metadata": {},
   "source": [
    "The spectral transformation needs a target value for the eigenvalues\n",
    "we are looking for. Since the eigenvalues for our problem can be\n",
    "complex numbers, we need to specify whether we are searching for\n",
    "specific values in the real part, in the imaginary part, or in the\n",
    "magnitude. In our case, we are interested in propagating modes, and\n",
    "therefore in real $k_z$. For this reason, we can specify with the\n",
    "`setWhichEigenpairs` function that our target value will refer to the\n",
    "real part of the eigenvalue, with the `SLEPc.EPS.Which.TARGET_REAL`\n",
    "object:"
   ]
  },
  {
   "cell_type": "code",
   "execution_count": null,
   "id": "38f7c2cb",
   "metadata": {},
   "outputs": [],
   "source": [
    "eps.setWhichEigenpairs(SLEPc.EPS.Which.TARGET_REAL)"
   ]
  },
  {
   "cell_type": "markdown",
   "id": "fb0758f9",
   "metadata": {},
   "source": [
    "For specifying the target value, we can use the `setTarget` function.\n",
    "Even though we cannot know a good target value a priori, we can guess\n",
    "that $k_z$ will be quite close to $k_0$ in value, for instance $k_z =\n",
    "0.5k_0^2$. Therefore, we can set a target value of $-(0.5k_0^2)$:"
   ]
  },
  {
   "cell_type": "code",
   "execution_count": null,
   "id": "ced15b53",
   "metadata": {},
   "outputs": [],
   "source": [
    "eps.setTarget(-((0.5 * k0) ** 2))"
   ]
  },
  {
   "cell_type": "markdown",
   "id": "2ea6dba5",
   "metadata": {},
   "source": [
    "Then, we need to define the number of eigenvalues we want to\n",
    "calculate. We can do this with the `setDimensions` function, where we\n",
    "specify that we are looking for just one eigenvalue:"
   ]
  },
  {
   "cell_type": "code",
   "execution_count": null,
   "id": "b11eb203",
   "metadata": {},
   "outputs": [],
   "source": [
    "eps.setDimensions(nev=1)"
   ]
  },
  {
   "cell_type": "markdown",
   "id": "da3b652f",
   "metadata": {},
   "source": [
    "We can finally solve the problem with the `solve` function. To gain a\n",
    "deeper insight over the simulation, we also print an output message\n",
    "from SLEPc by calling the `view` and `errorView` function:"
   ]
  },
  {
   "cell_type": "code",
   "execution_count": null,
   "id": "f3f14880",
   "metadata": {},
   "outputs": [],
   "source": [
    "eps.solve()\n",
    "eps.view()\n",
    "eps.errorView()"
   ]
  },
  {
   "cell_type": "markdown",
   "id": "e1bfcb18",
   "metadata": {},
   "source": [
    "## Verification of computed eigenvalues\n",
    "Now we can get the eigenvalues and eigenvectors calculated by SLEPc\n",
    "with the following code. We also verify if the numerical $k_z$ are\n",
    "consistent with the analytical equations of the half-loaded waveguide\n",
    "modes, with the `verify_mode()` function defined in\n",
    "`analytical_modes.py`:"
   ]
  },
  {
   "cell_type": "code",
   "execution_count": null,
   "id": "65548e47",
   "metadata": {},
   "outputs": [],
   "source": [
    "# Save the kz\n",
    "vals = [(i, np.sqrt(-eps.getEigenvalue(i))) for i in range(eps.getConverged())]\n",
    "\n",
    "# Sort kz by real part\n",
    "vals.sort(key=lambda x: x[1].real)\n",
    "\n",
    "eh = fem.Function(V)\n",
    "\n",
    "kz_list = []\n",
    "\n",
    "out_folder = Path(\"out_half_loaded_waveguide\")\n",
    "out_folder.mkdir(parents=True, exist_ok=True)\n",
    "\n",
    "for i, kz in vals:\n",
    "    # Save eigenvector in eh\n",
    "    eps.getEigenpair(i, eh.x.petsc_vec)\n",
    "\n",
    "    # Compute error for i-th eigenvalue\n",
    "    error = eps.computeError(i, SLEPc.EPS.ErrorType.RELATIVE)\n",
    "\n",
    "    # Verify, save and visualize solution\n",
    "    if error < tol and np.isclose(kz.imag, 0, atol=tol):\n",
    "        kz_list.append(kz)\n",
    "\n",
    "        # Verify if kz is consistent with the analytical equations\n",
    "        assert verify_mode(kz, w, h, d, lmbd0, eps_d, eps_v, threshold=1e-4)\n",
    "\n",
    "        print(f\"eigenvalue: {-(kz**2)}\")\n",
    "        print(f\"kz: {kz}\")\n",
    "        print(f\"kz/k0: {kz / k0}\")\n",
    "\n",
    "        eh.x.scatter_forward()\n",
    "\n",
    "        eth, ezh = eh.split()\n",
    "        eth = eh.sub(0).collapse()\n",
    "        ez = eh.sub(1).collapse()\n",
    "\n",
    "        # Transform eth, ezh into Et and Ez\n",
    "        eth.x.array[:] = eth.x.array[:] / kz\n",
    "        ezh.x.array[:] = ezh.x.array[:] * 1j\n",
    "\n",
    "        gdim = msh.geometry.dim\n",
    "        V_dg = fem.functionspace(msh, (\"DQ\", degree, (gdim,)))\n",
    "        Et_dg = fem.Function(V_dg)\n",
    "        Et_dg.interpolate(eth)\n",
    "\n",
    "        if has_vtx:\n",
    "            # Save solutions\n",
    "            with VTXWriter(msh.comm, out_folder / f\"/Et_{i}.bp\", Et_dg) as f:\n",
    "                f.write(0.0)\n",
    "\n",
    "            with VTXWriter(msh.comm, out_folder / f\"sols/Ez_{i}.bp\", ezh) as f:\n",
    "                f.write(0.0)\n",
    "\n",
    "        # Visualize solutions with Pyvista\n",
    "        if have_pyvista:\n",
    "            V_cells, V_types, V_x = plot.vtk_mesh(V_dg)\n",
    "            V_grid = pyvista.UnstructuredGrid(V_cells, V_types, V_x)\n",
    "            Et_values = np.zeros((V_x.shape[0], 3), dtype=np.float64)\n",
    "            Et_values[:, : msh.topology.dim] = Et_dg.x.array.reshape(\n",
    "                V_x.shape[0], msh.topology.dim\n",
    "            ).real\n",
    "\n",
    "            V_grid.point_data[\"u\"] = Et_values\n",
    "\n",
    "            plotter = pyvista.Plotter()\n",
    "            plotter.add_mesh(V_grid.copy(), show_edges=False)\n",
    "            plotter.view_xy()\n",
    "            plotter.link_views()\n",
    "            if pyvista.OFF_SCREEN:\n",
    "                plotter.screenshot(out_folder / \"Et.png\", window_size=[400, 400])\n",
    "            else:\n",
    "                plotter.show()\n",
    "\n",
    "        if have_pyvista:\n",
    "            V_lagr, lagr_dofs = V.sub(1).collapse()\n",
    "            V_cells, V_types, V_x = plot.vtk_mesh(V_lagr)\n",
    "            V_grid = pyvista.UnstructuredGrid(V_cells, V_types, V_x)\n",
    "            V_grid.point_data[\"u\"] = ezh.x.array.real[lagr_dofs]\n",
    "            plotter = pyvista.Plotter()\n",
    "            plotter.add_mesh(V_grid.copy(), show_edges=False)\n",
    "            plotter.view_xy()\n",
    "            plotter.link_views()\n",
    "            if pyvista.OFF_SCREEN:\n",
    "                plotter.screenshot(out_folder / \"Ez.png\", window_size=[400, 400])\n",
    "            else:\n",
    "                plotter.show()"
   ]
  }
 ],
 "metadata": {
  "jupytext": {
   "formats": "ipynb,py:light"
  },
  "kernelspec": {
   "display_name": "Python 3 (ipykernel)",
   "language": "python",
   "name": "python3"
  }
 },
 "nbformat": 4,
 "nbformat_minor": 5
}

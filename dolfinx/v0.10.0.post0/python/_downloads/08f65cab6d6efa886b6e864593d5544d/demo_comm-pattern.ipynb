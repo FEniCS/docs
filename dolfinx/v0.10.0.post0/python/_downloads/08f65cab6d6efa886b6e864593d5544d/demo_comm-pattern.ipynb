{
 "cells": [
  {
   "cell_type": "markdown",
   "id": "66c1e339",
   "metadata": {},
   "source": [
    "# Parallel communication pattern analysis\n",
    "\n",
    "```{admonition} Download sources\n",
    ":class: download\n",
    "* {download}`Python script <./demo_comm-pattern.py>`\n",
    "* {download}`Jupyter notebook <./demo_comm-pattern.ipynb>`\n",
    "```\n",
    "This demo illustrates how to:\n",
    "- Build a graph that represents a parallel communication pattern\n",
    "- Analyse the parallel communication pattern using\n",
    "  [NetworkX](https://networkx.org/).\n",
    "\n",
    "The layout of a distributed array across processes (MPI ranks) is\n",
    "described in DOLFINx by an {py:class}`IndexMap\n",
    "<dolfinx.common.IndexMap>`. An {py:class}`IndexMap\n",
    "<dolfinx.common.IndexMap>` represents the range of locally 'owned'\n",
    "array indices and the indices that are ghosted on a rank. It also\n",
    "holds information on the ranks that the calling rank will send data to\n",
    "and ranks that will send data to the caller.\n"
   ]
  },
  {
   "cell_type": "code",
   "execution_count": null,
   "id": "aa5da63d",
   "metadata": {
    "lines_to_next_cell": 2
   },
   "outputs": [],
   "source": [
    "import itertools as it\n",
    "import json\n",
    "\n",
    "from mpi4py import MPI\n",
    "\n",
    "import matplotlib.pyplot as plt\n",
    "import networkx as nx\n",
    "from matplotlib.ticker import MaxNLocator\n",
    "\n",
    "from dolfinx import fem, graph, mesh\n"
   ]
  },
  {
   "cell_type": "markdown",
   "id": "ff2f285a",
   "metadata": {
    "lines_to_next_cell": 2
   },
   "source": [
    "The following function plots a directed graph, with the edge weights\n",
    "labeled. Each node is an MPI rank, and an edge represents a\n",
    "communication edge. The edge weights indicate the volume of data\n",
    "communicated."
   ]
  },
  {
   "cell_type": "code",
   "execution_count": null,
   "id": "cc10c5b9",
   "metadata": {
    "lines_to_end_of_cell_marker": 2
   },
   "outputs": [],
   "source": [
    "def plot_graph(G: nx.MultiGraph, egde_labels=False):\n",
    "    \"\"\"Plot the communication graph.\"\"\"\n",
    "    pos = nx.circular_layout(G)\n",
    "    nx.draw_networkx_nodes(G, pos, alpha=0.75)\n",
    "    nx.draw_networkx_labels(G, pos, font_size=12)\n",
    "\n",
    "    width = 0.5\n",
    "    edge_color = [\"g\" if d[\"local\"] == 1 else \"grey\" for _, _, d in G.edges(data=True)]\n",
    "    if egde_labels:\n",
    "        # Curve edges to distinguish between in- and out-edges\n",
    "        connectstyle = [f\"arc3,rad={r}\" for r in it.accumulate([0.15] * 4)]\n",
    "\n",
    "        # Color edges by local (shared memory) or remote (remote memory)\n",
    "        # communication\n",
    "        nx.draw_networkx_edges(\n",
    "            G, pos, width=width, edge_color=edge_color, connectionstyle=connectstyle\n",
    "        )\n",
    "\n",
    "        labels = {tuple(edge): f\"{attrs['weight']}\" for *edge, attrs in G.edges(data=True)}\n",
    "        nx.draw_networkx_edge_labels(\n",
    "            G,\n",
    "            pos,\n",
    "            labels,\n",
    "            connectionstyle=connectstyle,\n",
    "            label_pos=0.5,\n",
    "            font_color=\"k\",\n",
    "            bbox={\"alpha\": 0},\n",
    "        )\n",
    "    else:\n",
    "        nx.draw_networkx_edges(G, pos, width=width, edge_color=edge_color)"
   ]
  },
  {
   "cell_type": "markdown",
   "id": "f50dee26",
   "metadata": {
    "lines_to_next_cell": 2
   },
   "source": [
    "The following function produces bar charts with the number of out-edges\n",
    "per rank and the sum of the out edge weights (measure of data\n",
    "volume) per rank."
   ]
  },
  {
   "cell_type": "code",
   "execution_count": null,
   "id": "0479412c",
   "metadata": {},
   "outputs": [],
   "source": [
    "def plot_bar(G: nx.MultiGraph):\n",
    "    \"\"\"Plot bars charts with the degree (number of 'out-edges') and the\n",
    "    outward data volume for each rank.\n",
    "    \"\"\"\n",
    "\n",
    "    ranks = range(G.order())\n",
    "    num_edges = [len(nbrs) for _, nbrs in G.adj.items()]\n",
    "    weights = [sum(data[\"weight\"] for nbr, data in nbrs.items()) for _, nbrs in G.adj.items()]\n",
    "\n",
    "    _fig, (ax1, ax2) = plt.subplots(1, 2, figsize=(12, 5))\n",
    "\n",
    "    ax1.bar(ranks, num_edges)\n",
    "    ax1.set_xlabel(\"rank\")\n",
    "    ax1.set_ylabel(\"out degree\")\n",
    "    ax1.xaxis.set_major_locator(MaxNLocator(integer=True))\n",
    "    ax1.yaxis.set_major_locator(MaxNLocator(integer=True))\n",
    "\n",
    "    ax2.bar(ranks, weights)\n",
    "    ax2.set_xlabel(\"rank\")\n",
    "    ax2.set_ylabel(\"sum of edge weights\")\n",
    "    ax2.xaxis.set_major_locator(MaxNLocator(integer=True))\n",
    "    ax2.yaxis.set_major_locator(MaxNLocator(integer=True))"
   ]
  },
  {
   "cell_type": "markdown",
   "id": "0c3d8f43",
   "metadata": {},
   "source": [
    "Create a mesh and function space. The function space will build an\n",
    "{py:class}`IndexMap <dolfinx.common.IndexMap>` for the\n",
    "degree-of-freedom map. The {py:class}`IndexMap\n",
    "<dolfinx.common.IndexMap>` describes how the degrees-of-freedom are\n",
    "distributed in parallel (across MPI ranks). From information on the\n",
    "parallel distribution we will be able to compute the communication\n",
    "graph."
   ]
  },
  {
   "cell_type": "code",
   "execution_count": null,
   "id": "d1acac12",
   "metadata": {},
   "outputs": [],
   "source": [
    "msh = mesh.create_box(\n",
    "    comm=MPI.COMM_WORLD,\n",
    "    points=[(0.0, 0.0, 0.0), (2.0, 1.0, 1.0)],\n",
    "    n=(22, 36, 19),\n",
    "    cell_type=mesh.CellType.tetrahedron,\n",
    ")\n",
    "V = fem.functionspace(msh, (\"Lagrange\", 2))"
   ]
  },
  {
   "cell_type": "markdown",
   "id": "62354303",
   "metadata": {},
   "source": [
    "The function {py:func}`comm_graph <dolfinx.graph.comm_graph>` builds a\n",
    "communication graph that represents data begin sent from the owning\n",
    "rank to ranks that ghost the data. We use the degree-of-freedom map's\n",
    "`IndexMap`. Building the communication data is collective across MPI\n",
    "ranks. However, a non-empty graph is returned only on rank 0."
   ]
  },
  {
   "cell_type": "code",
   "execution_count": null,
   "id": "bcbfb806",
   "metadata": {},
   "outputs": [],
   "source": [
    "comm_graph = graph.comm_graph(V.dofmap.index_map)"
   ]
  },
  {
   "cell_type": "markdown",
   "id": "10a07ca5",
   "metadata": {
    "lines_to_next_cell": 2
   },
   "source": [
    "A function for printing some communication graph metrics:"
   ]
  },
  {
   "cell_type": "code",
   "execution_count": null,
   "id": "028babc2",
   "metadata": {},
   "outputs": [],
   "source": [
    "def print_stats(G):\n",
    "    print(\"Communication graph data:\")\n",
    "    print(f\"  Num edges: {G.size()}\")\n",
    "    print(f\"  Num local: {G.size('local')}\")\n",
    "    print(f\"  Edges weight sum: {G.size('weight')}\")\n",
    "    if G.order() > 0:\n",
    "        print(f\"  Average edges per node: {G.size() / G.order()}\")\n",
    "    if G.size() > 0:\n",
    "        print(f\"  Average edge weight: {G.size('weight') / G.size()}\")"
   ]
  },
  {
   "cell_type": "markdown",
   "id": "3551f69e",
   "metadata": {},
   "source": [
    "The graph data will be processed on rank 0. From the communication\n",
    "graph data, edge and node data for creating a `NetworkX`` graph is build\n",
    "using {py:fuc}`comm_graph_data <dolfinx.graph.comm_graph_data>`.\n",
    "\n",
    "Data for use with `NetworkX` can also be reconstructed from a JSON\n",
    "string. The JSON string can be created using {py:func}`comm_to_json\n",
    "<dolfinx.graph.comm_to_json>`. This is helpful for cases there a\n",
    "simulaton is executed and the graph data is written to file for later\n",
    "analysis."
   ]
  },
  {
   "cell_type": "code",
   "execution_count": null,
   "id": "6b44a11f",
   "metadata": {},
   "outputs": [],
   "source": [
    "if msh.comm.rank == 0:\n",
    "    # To create a NetworkX directed graph we build graph data in a form\n",
    "    # from which we can create a NetworkX graph. Each edge will have a\n",
    "    # weight and a 'local(1)/remote(0)' memory indicator and each node\n",
    "    # has its local size and the number of ghosts.\n",
    "    adj_data, node_data = graph.comm_graph_data(comm_graph)\n",
    "\n",
    "    print(\"Test:\", graph.comm_graph_data(comm_graph))\n",
    "\n",
    "    # Create a NetworkX directed graph.\n",
    "    H = nx.DiGraph()\n",
    "    H.add_edges_from(adj_data)\n",
    "    H.add_nodes_from(node_data)\n",
    "\n",
    "    # Create graph with sorted nodes. This can be helpful for\n",
    "    # visualisations.\n",
    "    G = nx.DiGraph()\n",
    "    G.add_nodes_from(sorted(H.nodes(data=True)))\n",
    "    G.add_edges_from(H.edges(data=True))\n",
    "\n",
    "    print_stats(G)\n",
    "\n",
    "    plot_bar(G)\n",
    "    plt.show()\n",
    "\n",
    "    plot_graph(G, True)\n",
    "    plt.show()\n",
    "\n",
    "    # Get graph data as a JSON string (useful if running from C++, in\n",
    "    # which case the JSON string can be written to file)\n",
    "    data_json_str = graph.comm_to_json(comm_graph)\n",
    "    H1 = nx.adjacency_graph(json.loads(data_json_str))\n",
    "\n",
    "    # Create graph with sorted nodes. This can be helpful for\n",
    "    # visualisations.\n",
    "    G1 = nx.DiGraph()\n",
    "    G1.add_nodes_from(sorted(H1.nodes(data=True)))\n",
    "    G1.add_edges_from(H1.edges(data=True))\n",
    "    print_stats(G1)\n"
   ]
  }
 ],
 "metadata": {
  "jupytext": {
   "main_language": "python"
  }
 },
 "nbformat": 4,
 "nbformat_minor": 5
}
